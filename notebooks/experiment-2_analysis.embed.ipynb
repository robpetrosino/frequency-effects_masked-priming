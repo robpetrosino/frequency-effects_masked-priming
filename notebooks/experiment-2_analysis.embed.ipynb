{
 "cells": [
  {
   "cell_type": "markdown",
   "metadata": {},
   "source": [
    "# Script C: Experiment 2"
   ],
   "id": "728a52d6-acfe-4e9c-a2f3-cd4e75070564"
  },
  {
   "cell_type": "code",
   "execution_count": null,
   "metadata": {},
   "outputs": [
    {
     "output_type": "stream",
     "name": "stderr",
     "text": [
      "── Attaching core tidyverse packages ──────────────────────── tidyverse 2.0.0 ──\n",
      "✔ dplyr     1.1.4     ✔ readr     2.1.4\n",
      "✔ forcats   1.0.0     ✔ stringr   1.5.1\n",
      "✔ ggplot2   3.5.1     ✔ tibble    3.2.1\n",
      "✔ lubridate 1.9.3     ✔ tidyr     1.3.1\n",
      "✔ purrr     1.0.2     \n",
      "── Conflicts ────────────────────────────────────────── tidyverse_conflicts() ──\n",
      "✖ dplyr::filter() masks stats::filter()\n",
      "✖ dplyr::lag()    masks stats::lag()\n",
      "ℹ Use the conflicted package (<http://conflicted.r-lib.org/>) to force all conflicts to become errors"
     ]
    },
    {
     "output_type": "stream",
     "name": "stderr",
     "text": [
      "\n",
      "Attaching package: 'rstatix'\n",
      "\n",
      "The following object is masked from 'package:stats':\n",
      "\n",
      "    filter"
     ]
    },
    {
     "output_type": "stream",
     "name": "stderr",
     "text": [
      "here() starts at /Users/rp3650/Library/CloudStorage/GoogleDrive-robpetrosino@gmail.com/My Drive/Academics/projects/morphology/morphological-decomposition/sub-projects/frequency-effects/frequency-effect_masked-priming"
     ]
    },
    {
     "output_type": "stream",
     "name": "stderr",
     "text": [
      "Loading required package: Matrix\n",
      "\n",
      "Attaching package: 'Matrix'\n",
      "\n",
      "The following objects are masked from 'package:tidyr':\n",
      "\n",
      "    expand, pack, unpack"
     ]
    },
    {
     "output_type": "stream",
     "name": "stderr",
     "text": [
      "Loading required package: carData\n",
      "\n",
      "Attaching package: 'car'\n",
      "\n",
      "The following object is masked from 'package:dplyr':\n",
      "\n",
      "    recode\n",
      "\n",
      "The following object is masked from 'package:purrr':\n",
      "\n",
      "    some"
     ]
    }
   ],
   "source": [
    "#| warning: false\n",
    "#| error: false\n",
    "#| message: false\n",
    "library(osfr)\n",
    "library(tidyverse)"
   ],
   "id": "3e463af8-6181-48bd-b24b-b7d8763ac857"
  },
  {
   "cell_type": "markdown",
   "metadata": {},
   "source": [
    "## Data analysis"
   ],
   "id": "be0b62a3-2301-4e88-a0fa-0f7ebb759ccf"
  },
  {
   "cell_type": "code",
   "execution_count": null,
   "metadata": {},
   "outputs": [],
   "source": [
    "#| label: exp2_raw-data\n",
    "#| echo: false\n",
    "\n",
    "# load the raw data dataframe\n",
    "exp2_data_folder <- \"data/experiment2\"\n",
    "exp2_rawdata_filename <- \"experiment_2_preprocessed_data.csv\"\n",
    "\n",
    "## 02. check if the rawdata file exists. if not, download it from OSF.\n",
    "if (!file.exists(here(exp2_data_folder, exp2_rawdata_filename))) {\n",
    "  osf_retrieve_file(\"k3gpc\") |> \n",
    "    osf_download(path = here(exp2_data_folder),\n",
    "                 conflicts = \"overwrite\") \n",
    "}\n",
    "\n",
    "## 03. read the data into R.\n",
    "exp2_rawdata <- here(exp2_data_folder, exp2_rawdata_filename) |>\n",
    "  read.csv(na = c(\"\", \"NA\")) %>%\n",
    "  mutate(primeTime = primeDuration - maskDuration) %>% # calculating the actual SOA\n",
    "  rename(list = \"Group_Nr\")\n",
    "\n",
    "exp2_info <- list()\n",
    "exp2_info$intended_prime_duration <- 33\n",
    "exp2_info$prime_dur_lb <- 25\n",
    "exp2_info$prime_dur <- 50\n",
    "exp2_info$prime_dur_ub <- 60\n",
    "exp2_info$rt_lb <- 200\n",
    "exp2_info$rt_ub <- 1800\n",
    "exp2_info$freq_conditions <- c(\"high\", \"low\", \"non-word\")\n",
    "exp2_info$n_recruited <- exp2_rawdata$Rec_Session_Id |>\n",
    "  unique() |>\n",
    "  length()\n",
    "\n",
    "exp2_rawdata.sub <- exp2_rawdata %>%\n",
    "  filter(!is.na(TimeMeasure_Mean) & !is.na(primeDuration) & !is.na(responseError))\n",
    "\n",
    "exp2_subj.error <- exp2_rawdata.sub %>% group_by(Crowdsourcing_SubjId) %>%\n",
    "  summarise(mean.error = mean(responseError))\n",
    "            \n",
    "exp2_info$summary <- with(\n",
    "  transform(exp2_rawdata.sub,\n",
    "    RT_inrange = ifelse(RT >= exp2_info$rt_lb & RT <= exp2_info$rt_ub, 1, 0),\n",
    "    Prime_inrange = ifelse((primeDuration - maskDuration) >= exp2_info$prime_dur_lb &\n",
    "                             (primeDuration - maskDuration) <= exp2_info$prime_dur_ub, 1, 0)),\n",
    "  {\n",
    "    data.frame(aggregate(Start_Time ~ Rec_Session_Id + Crowdsourcing_SubjId, data=exp2_rawdata.sub, unique),\n",
    "               aggregate(End_Time_Local ~ Rec_Session_Id + Crowdsourcing_SubjId, data=exp2_rawdata.sub, unique),\n",
    "               aggregate(cbind(list, SelectedGender, SelectedAge) ~ Rec_Session_Id + Crowdsourcing_SubjId, data=exp2_rawdata.sub, unique),\n",
    "      aggregate(cbind(responseError, RT_inrange, Prime_inrange) ~ Rec_Session_Id + Crowdsourcing_SubjId, mean, data=exp2_rawdata.sub)\n",
    "  )\n",
    "}\n",
    ")\n",
    "\n",
    "exp2_info$summary <- exp2_info$summary[, -grep(\"Rec_Session_Id.|Crowdsourcing_SubjId.\", colnames(exp2_info$summary))] # remove all extra aggregating columns (subj ID)\n",
    "\n",
    "exp2_info$summary$Duration <- interval(ymd_hms(exp2_info$summary$Start_Time), \n",
    "                                             ymd_hms(exp2_info$summary$End_Time_Local)) |>\n",
    "                                      lapply(function(interval_value) {interval_value/dminutes(1)}) |> \n",
    "                                           unlist()"
   ],
   "id": "e4145024-d6cd-4ec4-8cba-55911359b7b0"
  },
  {
   "cell_type": "markdown",
   "metadata": {},
   "source": [
    "### Step 1: subject and item performance"
   ],
   "id": "d6e1ce97-c68e-49df-bf50-3f4f2725e94a"
  },
  {
   "cell_type": "code",
   "execution_count": null,
   "metadata": {},
   "outputs": [
    {
     "output_type": "stream",
     "name": "stderr",
     "text": [
      "`summarise()` has grouped output by 'condition_rec'. You can override using the\n",
      "`.groups` argument."
     ]
    }
   ],
   "source": [
    "#| label: exp2_performance\n",
    "\n",
    "exp2_step1_goodsubj <- exp2_info$summary |>\n",
    "  subset(responseError <= .3) \n",
    "\n",
    "exp2_step1_subj_remain <- exp2_step1_goodsubj |> nrow()\n",
    "\n",
    "exp2_step1_item.err <- exp2_rawdata.sub %>% group_by(condition_rec, target_rec) %>%\n",
    "  summarise(word.percent=mean(responseError)*100) %>% \n",
    "  filter(word.percent > 30)"
   ],
   "id": "e2f51b2e-d2a5-4c4c-8ee3-4acdd1fd2728"
  },
  {
   "cell_type": "markdown",
   "metadata": {},
   "source": [
    "### Step 2: prime durations"
   ],
   "id": "9e275755-bbae-466b-bfc6-bfdd41da0f44"
  },
  {
   "cell_type": "code",
   "execution_count": null,
   "metadata": {},
   "outputs": [],
   "source": [
    "#| label: exp2_prime-durations\n",
    "\n",
    "exp2_summary.primeTime <- exp2_rawdata.sub %>% \n",
    "  summarise(meanPrimeTime = round(mean(primeTime), 2), \n",
    "            sdPrimeTime = round(sd(primeTime), 2))\n",
    "\n",
    "exp2_primeTimeRangeSummary <- exp2_rawdata.sub %>% \n",
    "  group_by(primeTime) %>%\n",
    "  mutate(range = ifelse(primeTime < exp2_info$prime_dur_lb, \"below\", \n",
    "                        ifelse(primeTime > exp2_info$prime_dur_ub, \"above\",\n",
    "                               \"in range\"))) %>% \n",
    "  group_by(range) %>% tally() %>% ungroup() %>%\n",
    "  mutate(range.percent = round((n*100)/nrow(exp2_rawdata.sub),2))\n",
    "\n",
    "exp2_data_step2 <- exp2_data_step1  |>\n",
    "  subset(primeTime >= exp2_info$prime_dur_lb & primeTime <= exp2_info$prime_dur_ub)\n",
    "\n",
    "exp2_step2_subj_remain <- exp2_data_step2$Rec_Session_Id |>\n",
    "  unique() |>\n",
    "  length()\n",
    "\n",
    "exp2_step2_trials_remain <- nrow(exp2_data_step2)"
   ],
   "id": "a4f5aafa-009f-4397-83e1-c70582c10299"
  },
  {
   "cell_type": "markdown",
   "metadata": {},
   "source": [
    "### Step 3: RT distribution"
   ],
   "id": "019c40d3-177d-4254-9cf8-3aedf870a406"
  },
  {
   "cell_type": "code",
   "execution_count": null,
   "metadata": {},
   "outputs": [],
   "source": [
    "#| label: exp2_RT-outliers\n",
    "\n",
    "# RT outliers \n",
    "exp2_data_step3 <- exp2_data_step2 |> \n",
    "  subset(RT >= exp2_info$rt_lb & RT <= exp2_info$rt_ub)\n",
    "\n",
    "exp2_step3_subj_remain <- exp2_data_step3$Rec_Session_Id |>\n",
    "  unique() |>\n",
    "  length()\n",
    "\n",
    "exp2_step3_trials_remain <- nrow(exp2_data_step3)\n",
    "\n",
    "# error trial removal\n",
    "\n",
    "exp2_data_step3b <- exp2_data_step3  |>\n",
    "  subset(responseError == 0)\n",
    "\n",
    "exp2_step3b_subj_remain <- exp2_data_step3b$Rec_Session_Id |>\n",
    "  unique() |>\n",
    "  length()\n",
    "\n",
    "exp2_step3b_trials_remain <- nrow(exp2_data_step3b)\n",
    "\n",
    "# remove subjects with less than 7 trials in at least one condition*primetype combination (half of the total number of items per combination)\n",
    "rt_data_labels <- c(\"Rec_Session_Id\", \"condition_rec\", \"primetype_rec\", \"RT\")\n",
    "\n",
    "exp2_subj_filter_2 <- exp2_data_step3b[, rt_data_labels] |>\n",
    "  aggregate(RT ~ ., FUN = length, drop = FALSE) |>\n",
    "  subset(RT < 7, select = Rec_Session_Id) |>\n",
    "  unique() |>\n",
    "  unlist()\n",
    "\n",
    "### we also want to sure that all subjects have all conditions; in case some subject had all the trials for a given condition lost down the road, they will be removed\n",
    "exp2_subj_filter_conditions <- \n",
    "  exp2_data_step3b %>%\n",
    "  group_by(Rec_Session_Id) %>% \n",
    "  distinct(condition_rec, primetype_rec) %>% \n",
    "  tally() %>% filter(n != 6) %>% pull(Rec_Session_Id)\n",
    "\n",
    "exp2_data_final <- exp2_data_step3b |>\n",
    "  subset(!(Rec_Session_Id %in% exp2_subj_filter_2) & !(Rec_Session_Id %in% exp2_subj_filter_conditions)) %>%\n",
    "  mutate(condition_rec = as.factor(condition_rec), primetype_rec=as.factor(primetype_rec))\n",
    "\n",
    "exp2_final_subj_remain <- exp2_data_final$Rec_Session_Id |>\n",
    "  unique() |> \n",
    "  length()\n",
    "  \n",
    "exp2_final_trials_remain <- nrow(exp2_data_final)"
   ],
   "id": "9597ff63-70e4-479c-9a44-5d4f192357de"
  },
  {
   "cell_type": "markdown",
   "metadata": {},
   "source": [
    "## Results"
   ],
   "id": "ef850504-f0e0-4a57-b369-23011172ccf4"
  },
  {
   "cell_type": "code",
   "execution_count": null,
   "metadata": {},
   "outputs": [
    {
     "output_type": "stream",
     "name": "stderr",
     "text": [
      "`summarise()` has grouped output by 'condition_rec', 'primetype_rec'. You can\n",
      "override using the `.groups` argument."
     ]
    },
    {
     "output_type": "stream",
     "name": "stderr",
     "text": [
      "`summarise()` has grouped output by 'Rec_Session_Id', 'condition_rec'. You can\n",
      "override using the `.groups` argument."
     ]
    },
    {
     "output_type": "stream",
     "name": "stderr",
     "text": [
      "`summarise()` has grouped output by 'Rec_Session_Id', 'condition_rec'. You can\n",
      "override using the `.groups` argument."
     ]
    },
    {
     "output_type": "stream",
     "name": "stderr",
     "text": [
      "`summarise()` has grouped output by 'condition_rec'. You can override using the\n",
      "`.groups` argument."
     ]
    },
    {
     "output_type": "stream",
     "name": "stdout",
     "text": [
      "Analysis of Deviance Table (Type III Wald chisquare tests)\n",
      "\n",
      "Response: responseError\n",
      "                               Chisq Df Pr(>Chisq)    \n",
      "(Intercept)                 3016.539  1  < 2.2e-16 ***\n",
      "condition_rec                 22.196  2  1.514e-05 ***\n",
      "primetype_rec                262.276  1  < 2.2e-16 ***\n",
      "condition_rec:primetype_rec  283.571  2  < 2.2e-16 ***\n",
      "---\n",
      "Signif. codes:  0 '***' 0.001 '**' 0.01 '*' 0.05 '.' 0.1 ' ' 1"
     ]
    },
    {
     "output_type": "stream",
     "name": "stdout",
     "text": [
      "$emmeans\n",
      "condition_rec = high:\n",
      " primetype_rec emmean     SE  df asymp.LCL asymp.UCL\n",
      " related        -4.62 0.1361 Inf     -4.88     -4.35\n",
      " unrelated      -3.97 0.1315 Inf     -4.23     -3.71\n",
      "\n",
      "condition_rec = low:\n",
      " primetype_rec emmean     SE  df asymp.LCL asymp.UCL\n",
      " related        -4.22 0.1326 Inf     -4.48     -3.96\n",
      " unrelated      -3.35 0.1290 Inf     -3.60     -3.09\n",
      "\n",
      "condition_rec = non-word:\n",
      " primetype_rec emmean     SE  df asymp.LCL asymp.UCL\n",
      " related        -3.52 0.0930 Inf     -3.71     -3.34\n",
      " unrelated      -3.60 0.0932 Inf     -3.78     -3.42\n",
      "\n",
      "Results are given on the logit (not the response) scale. \n",
      "Confidence level used: 0.95 \n",
      "\n",
      "$contrasts\n",
      "condition_rec = high:\n",
      " contrast            estimate     SE  df z.ratio p.value\n",
      " related - unrelated   -0.643 0.0653 Inf  -9.855  <.0001\n",
      "\n",
      "condition_rec = low:\n",
      " contrast            estimate     SE  df z.ratio p.value\n",
      " related - unrelated   -0.873 0.0509 Inf -17.136  <.0001\n",
      "\n",
      "condition_rec = non-word:\n",
      " contrast            estimate     SE  df z.ratio p.value\n",
      " related - unrelated    0.075 0.0327 Inf   2.295  0.0218\n",
      "\n",
      "Results are given on the log odds ratio (not the response) scale. "
     ]
    },
    {
     "output_type": "stream",
     "name": "stdout",
     "text": [
      "Analysis of Deviance Table (Type III Wald chisquare tests)\n",
      "\n",
      "Response: RT\n",
      "                                Chisq Df Pr(>Chisq)    \n",
      "(Intercept)                 1949622.3  1  < 2.2e-16 ***\n",
      "condition_rec                  2613.3  2  < 2.2e-16 ***\n",
      "primetype_rec                  1700.5  1  < 2.2e-16 ***\n",
      "condition_rec:primetype_rec    1158.9  2  < 2.2e-16 ***\n",
      "---\n",
      "Signif. codes:  0 '***' 0.001 '**' 0.01 '*' 0.05 '.' 0.1 ' ' 1"
     ]
    },
    {
     "output_type": "stream",
     "name": "stderr",
     "text": [
      "Warning in as.data.frame.emm_list(.): Note: 'as.data.frame' has combined your 2 sets of results into one object,\n",
      "and this affects things like adjusted P values. Refer to the annotations."
     ]
    },
    {
     "output_type": "stream",
     "name": "stderr",
     "text": [
      "Warning: There was 1 warning in `mutate()`.\n",
      "ℹ In argument: `across(c(13), round, 2)`.\n",
      "Caused by warning:\n",
      "! The `...` argument of `across()` is deprecated as of dplyr 1.1.0.\n",
      "Supply arguments directly to `.fns` through an anonymous function instead.\n",
      "\n",
      "  # Previously\n",
      "  across(a:b, mean, na.rm = TRUE)\n",
      "\n",
      "  # Now\n",
      "  across(a:b, \\(x) mean(x, na.rm = TRUE))"
     ]
    }
   ],
   "source": [
    "#| label: exp2_results\n",
    "\n",
    "# error rates averages\n",
    "### we also want to sure that all subjects have all conditions; in case some subject had all the trials for a given condition lost down the road, they will be removed. Crucially the trial calculations are made on the dataset *before* the trial error removal step\n",
    "exp2_subj_filter_2_with.errors <- exp2_data_step3[, rt_data_labels] |>\n",
    "  aggregate(RT ~ ., FUN = length, drop = FALSE) |>\n",
    "  subset(RT < 7, select = Rec_Session_Id) |>\n",
    "  unique() |>\n",
    "  unlist()\n",
    "# this step just makes sure that the same subjects will be removed from both datasets\n",
    "exp2_subj_filter_2_with.errors <- union(exp2_subj_filter_2_with.errors, exp2_subj_filter_2)\n",
    "\n",
    "### just making sure that all subjects have all conditions; in case some subject had all the trials for a given condition lost down the road, they will be removed\n",
    "exp2_subj_filter_conditions_with.errors <- \n",
    "  exp2_data_step3 %>%\n",
    "  group_by(Rec_Session_Id) %>% \n",
    "  distinct(condition_rec, primetype_rec) %>% \n",
    "  tally() %>% filter(n != 6) %>% pull(Rec_Session_Id)\n",
    "\n",
    "exp2_data_final_with.errors <- exp2_data_step3 |>\n",
    "  subset(!(Rec_Session_Id %in% exp2_subj_filter_2_with.errors) & \n",
    "           !(Rec_Session_Id %in% exp2_subj_filter_conditions_with.errors)) \n",
    "\n",
    "exp2_error.rates <- exp2_data_final_with.errors %>%\n",
    "  mutate(primetype_rec = factor(primetype_rec, levels=c(\"unrelated\", \"related\")),\n",
    "         condition_rec = factor(condition_rec, levels=c(\"high\", \"low\", \"non-word\"))) %>%\n",
    "  group_by(condition_rec, primetype_rec, Rec_Session_Id) %>%\n",
    "  summarise(error.percent=mean(responseError)*100)"
   ],
   "id": "64f21d47-b054-4b64-a53f-06b133247ae5"
  },
  {
   "cell_type": "markdown",
   "metadata": {},
   "source": [
    "#### Stats summary"
   ],
   "id": "48f9f2c0-2628-4c41-8545-62fec23e8361"
  },
  {
   "cell_type": "code",
   "execution_count": null,
   "metadata": {
    "tbl-pos": "h"
   },
   "outputs": [
    {
     "output_type": "display_data",
     "metadata": {},
     "data": {
      "text/html": [
       "\n",
       "</div>"
      ],
      "text/markdown": [
       "  -----------------------------------------------------------------------------------------------------------------------------------------------------------------------------------------------------------------------\n",
       "  factor                [unrelated                              [repetition                             cor     [priming                                              [*t*-test]{.gt_column_spanner}          \n",
       "                        RT]{.gt_column_spanner}                 RT]{.gt_column_spanner}                         effects]{.gt_column_spanner}                                                                  \n",
       "  --------------------- ------------------------- ----- ------- ------------------------- ----- ------- ------- ------------------------------ ------ ------- ------- -------------------------------- ------ -----------\n",
       "                        mean                      SD    Error   mean                      SD    Error           MOP                            95% CI SD~p~   ES      *t*                              df     *p*\n",
       "                                                        (%)                                     (%)                                                                                                           \n",
       "\n",
       "  high                  574                       83    3       548                       83    2       0.850   26                             \\[24   46      0.56    24.60                            1923   2.27e-116\n",
       "                                                                                                                                               28\\]                                                           \n",
       "\n",
       "  low                   605                       89    6       570                       89    3       0.840   35                             \\[33   51      0.69    30.19                            1923   3.51e-164\n",
       "                                                                                                                                               37\\]                                                           \n",
       "\n",
       "  non-word              629                       108   4       633                       110   5       0.900   -4                             \\[-6   50      -0.08   -3.53                            1923   4.32e-04\n",
       "                                                                                                                                               -2\\]                                                           \n",
       "\n",
       "  frequency:primetype   \\                         \\     \\       \\                         \\     \\       0.024   9                              \\[6    68      0.13    6.07                             1923   1.55e-09\n",
       "                                                                                                                                               12\\]                                                           \n",
       "  -----------------------------------------------------------------------------------------------------------------------------------------------------------------------------------------------------------------------\n"
      ]
     }
    }
   ],
   "source": [
    "#| label: tbl-exp2-statsResults-anova\n",
    "#| echo: false\n",
    "#| tbl-cap: \"Experiment 2. Summary of the word priming results within the ANOVA model. *Legend.* MOP: magnitude of priming.\"\n",
    "#| tbl-pos: 'h'\n",
    "\n",
    "exp2_summary.results_mop <- merge(exp2_gdavg_mop_summary, exp2_rt_stats_main, by='factor')\n",
    "exp2_summary.results_fae <- merge(exp2_gdavg_fae_summary, exp2_rt_stats_interaction, by='factor') |>\n",
    "  select(-mean_high, -mean_low)\n",
    "\n",
    "exp2_summary.results <- bind_rows(exp2_summary.results_mop, exp2_summary.results_fae)\n",
    "  \n",
    "exp2_summary.results %>%\n",
    "  mutate(t = round(t, 2)) %>%\n",
    "  relocate(c(\"sd_unrelated\", \"mean.error_unrelated\"), .before=gd.mean_related) %>%\n",
    "  gt() %>%\n",
    "  cols_label(\n",
    "    CI = \"95% CI\",\n",
    "    contains(\"mean\") ~ \"mean\",\n",
    "    contains(\"sd\") ~ \"SD\", \n",
    "    contains(\"error\") ~ \"Error (%)\"\n",
    "  ) %>%\n",
    "  tab_spanner(\n",
    "    label = \"unrelated RT\",\n",
    "    columns = c(2:4)\n",
    "  ) %>%\n",
    "  tab_spanner(\n",
    "    label = \"repetition RT\",\n",
    "    columns = c(5:7)\n",
    "  ) %>%\n",
    "  tab_spanner(\n",
    "    label = 'priming effects',\n",
    "    columns = c(9:12)\n",
    "  ) %>%\n",
    "  tab_spanner(\n",
    "    label = md(\"_t_-test\"),\n",
    "    columns = c(13:15)\n",
    "  ) %>%\n",
    "  cols_label(\n",
    "    sd = md(\"SD~p~\")\n",
    "  ) %>%\n",
    "  cols_label(\n",
    "    t = md(\"_t_\"),\n",
    "    p = md(\"_p_\"),\n",
    "  ) %>%\n",
    "   sub_missing(\n",
    "    missing_text = \" \"\n",
    "  )"
   ],
   "id": "9f53b8ab-d9eb-4d72-b513-4780a78350c1"
  },
  {
   "cell_type": "code",
   "execution_count": null,
   "metadata": {
    "tbl-pos": "h"
   },
   "outputs": [
    {
     "output_type": "display_data",
     "metadata": {},
     "data": {
      "text/html": [
       "\n",
       "</div>"
      ],
      "text/markdown": [
       "  ---------------------------------------------------------------------------------------------------------------------------------------------------------\n",
       "  factor                 [unrelated                                [repetition                               [priming                               \n",
       "                         RT]{.gt_column_spanner}                   RT]{.gt_column_spanner}                   effects]{.gt_column_spanner}           \n",
       "  ---------------------- ------------------------- ------- ------- ------------------------- ------- ------- ------------------------------ ------- -------\n",
       "                         mean                      95% CI  SE      mean                      95% CI  SE      MOP                            95% CI  SE\n",
       "\n",
       "  high                   605                       \\[608   0.81    579                       \\[582   0.87    26                             \\[24    0.80\n",
       "                                                   603\\]                                     577\\]                                          28\\]    \n",
       "\n",
       "  low                    633                       \\[635   0.81    598                       \\[600   0.77    35                             \\[32    0.85\n",
       "                                                   631\\]                                     596\\]                                          37\\]    \n",
       "\n",
       "  non-word               649                       \\[652   0.95    653                       \\[655   0.96    -3                             \\[-5    0.73\n",
       "                                                   647\\]                                     650\\]                                          -1\\]    \n",
       "\n",
       "  frequency\\*primetype   \\                         \\       \\       \\                         \\       \\       8                              \\[6     1.05\n",
       "                                                                                                                                            11\\]    \n",
       "  ---------------------------------------------------------------------------------------------------------------------------------------------------------\n"
      ]
     }
    }
   ],
   "source": [
    "#| echo: false\n",
    "#| label: tbl-exp2-statsResults-glmm\n",
    "#| tbl-cap: \"Experiment 2. Summary of the word priming results within the GLMM model. *Legend.* MOP: magnitude of priming.\"\n",
    "#| tbl-pos: 'h'\n",
    "\n",
    "exp2_summary.results_glmm <- bind_rows(exp2_emmeans_glmm, exp2_emmeans_glmm_fae)\n",
    "  \n",
    "exp2_summary.results_glmm %>%\n",
    "  gt() %>%\n",
    "  cols_label(\n",
    "    contains(\"CI\") ~ \"95% CI\",\n",
    "    contains(\"emmean\") ~ \"mean\",\n",
    "    contains(\"SE\") ~ \"SE\"\n",
    "  ) %>%\n",
    "  tab_spanner(\n",
    "    label = \"unrelated RT\",\n",
    "    columns = c(2:4)\n",
    "  ) %>%\n",
    "  tab_spanner(\n",
    "    label = \"repetition RT\",\n",
    "    columns = c(5:7)\n",
    "  ) %>%\n",
    "  tab_spanner(\n",
    "    label = 'priming effects',\n",
    "    columns = c(8:10)\n",
    "  ) %>%\n",
    "   sub_missing(\n",
    "    missing_text = \" \"\n",
    "  )"
   ],
   "id": "76c84a39-eb15-4567-9c9a-5a2843078682"
  },
  {
   "cell_type": "markdown",
   "metadata": {},
   "source": [
    "### Prediction intervals"
   ],
   "id": "a6cefbfb-2572-41c8-9f41-dc3c66cc999e"
  },
  {
   "cell_type": "code",
   "execution_count": null,
   "metadata": {
    "tbl-pos": "h"
   },
   "outputs": [
    {
     "output_type": "display_data",
     "metadata": {},
     "data": {
      "text/html": [
       "\n",
       "</div>"
      ],
      "text/markdown": [
       "  factor                mean   SD   [sample size]{.gt_column_spanner}                  95% PI\n",
       "  --------------------- ------ ---- ----------------------------------- -------------- -----------\n",
       "                                    experiment 1                        experiment 2   \n",
       "  high                  18     45   2341                                1924           \\[15 21\\]\n",
       "  low                   28     49   2341                                1924           \\[25 31\\]\n",
       "  non-word              -2     43   2341                                1924           \\[-5 1\\]\n",
       "  frequency:primetype   10     66   2341                                1924           \\[6 14\\]\n"
      ]
     }
    }
   ],
   "source": [
    "#| label: tbl-pis\n",
    "#| tbl-cap: \"Prediction intervals calculated on the means and standard deviations (SD) of the conditions tested in experiment 1.\"\n",
    "#| tbl-pos: 'h'\n",
    "\n",
    "exp1_summary.results <- structure(list(factor = c(\"high\", \"low\", \"non-word\", \"frequency:primetype\"\n",
    "), gd.mean_unrelated = c(573, 605, 623, NA), gd.mean_related = c(555, \n",
    "577, 625, NA), sd_related = c(85, 88, 103, NA), sd_unrelated = c(83, \n",
    "88, 103, NA), mean.error_related = c(2, 3, 4, NA), mean.error_unrelated = c(3, \n",
    "6, 4, NA), cor = c(0.86, 0.85, 0.91, 0.029), MOP = c(18, 28, \n",
    "-2, 10), CI = c(\"[16 20]\", \"[26 30]\", \"[-4 0]\", \"[7 13]\"), sd = c(45, \n",
    "49, 43, 66), ES = c(0.41, 0.58, -0.05, 0.15), t = c(\"19.7\", \"27.8\", \n",
    "\"-2.33\", \"7.24\"), df = c(\"2340\", \"2340\", \"2340\", \"2340\"), p = c(\"2.88e-80\", \n",
    "\"1.52e-147\", \"0.0197\", \"5.86e-13\")), row.names = c(NA, -4L), class = \"data.frame\")\n",
    "\n",
    "exp1_high <- pi.m(M = exp1_summary.results$MOP[1], SD = exp1_summary.results$sd[1], n = as.numeric(exp1_summary.results$df[1]) + 1, rep.n = as.numeric(exp2_summary.results$df[1]) + 1)\n",
    "exp1_low <- pi.m(M = exp1_summary.results$MOP[2], SD = exp1_summary.results$sd[2], n = as.numeric(exp1_summary.results$df[2]) + 1, rep.n = as.numeric(exp2_summary.results$df[2]) + 1)\n",
    "exp1_nw <- pi.m(M = exp1_summary.results$MOP[3], SD = exp1_summary.results$sd[3], n = as.numeric(exp1_summary.results$df[3]) + 1, rep.n = as.numeric(exp2_summary.results$df[3]) + 1)\n",
    "exp1_fae <- pi.m(M = exp1_summary.results$MOP[4], SD = exp1_summary.results$sd[4], n = as.numeric(exp1_summary.results$df[4]) + 1, rep.n = as.numeric(exp2_summary.results$df[4]) + 1)\n",
    "\n",
    "pis <- data.frame(\n",
    "         factor = c(\"high\", \"low\", \"non-word\", \"frequency:primetype\"),\n",
    "         M = c(exp1_summary.results$MOP[1], exp1_summary.results$MOP[2], exp1_summary.results$MOP[3], exp1_summary.results$MOP[4]),\n",
    "         SD = c(exp1_summary.results$sd[1], exp1_summary.results$sd[2], exp1_summary.results$sd[3], exp1_summary.results$sd[4]),\n",
    "         N = rep(c(as.numeric(exp1_summary.results$df[1]) + 1), 4),\n",
    "         rep.n = rep(c(as.numeric(exp2_summary.results$df[1]) + 1), 4),\n",
    "         pi.lb = c(exp1_high$lower_prediction_interval, \n",
    "                   exp1_low$lower_prediction_interval, \n",
    "                   exp1_nw$lower_prediction_interval,\n",
    "                   exp1_fae$lower_prediction_interval),\n",
    "         pi.ub = c(exp1_high$upper_prediction_interval, \n",
    "                   exp1_low$upper_prediction_interval, \n",
    "                   exp1_nw$upper_prediction_interval,\n",
    "                   exp1_fae$upper_prediction_interval)\n",
    "        )\n",
    "\n",
    "pis %>% \n",
    "  mutate(across(c(6:7), round),\n",
    "         pi.lb = paste0(\"[\", pi.lb),\n",
    "         pi.ub = paste0(pi.ub, \"]\")) %>%\n",
    "  unite(\"95% PI\", pi.lb:pi.ub, sep=\" \") %>%\n",
    "  gt() %>%\n",
    "  cols_label(\n",
    "    M = \"mean\",\n",
    "    N = \"experiment 1\",\n",
    "    rep.n = \"experiment 2\") %>%\n",
    "  tab_spanner(\n",
    "    label = \"sample size\",\n",
    "    columns = c(4:5)\n",
    "  )"
   ],
   "id": "5c4714cc-7915-4155-9262-e95a25f32c1d"
  }
 ],
 "nbformat": 4,
 "nbformat_minor": 5,
 "metadata": {}
}
