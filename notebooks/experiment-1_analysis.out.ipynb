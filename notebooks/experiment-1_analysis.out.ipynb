{
 "cells": [
  {
   "cell_type": "markdown",
   "metadata": {},
   "source": [
    "# Script B: Experiment 1\n",
    "\n",
    "## Libraries"
   ],
   "id": "01608eef-9833-4125-9ea6-8e9e64844e49"
  },
  {
   "cell_type": "code",
   "execution_count": null,
   "metadata": {},
   "outputs": [
    {
     "output_type": "stream",
     "name": "stderr",
     "text": [
      "── Attaching core tidyverse packages ──────────────────────── tidyverse 2.0.0 ──\n",
      "✔ dplyr     1.1.3     ✔ readr     2.1.4\n",
      "✔ forcats   1.0.0     ✔ stringr   1.5.0\n",
      "✔ ggplot2   3.4.4     ✔ tibble    3.2.1\n",
      "✔ lubridate 1.9.3     ✔ tidyr     1.3.0\n",
      "✔ purrr     1.0.2     \n",
      "── Conflicts ────────────────────────────────────────── tidyverse_conflicts() ──\n",
      "✖ dplyr::filter() masks stats::filter()\n",
      "✖ dplyr::lag()    masks stats::lag()\n",
      "ℹ Use the conflicted package (<http://conflicted.r-lib.org/>) to force all conflicts to become errors"
     ]
    },
    {
     "output_type": "stream",
     "name": "stderr",
     "text": [
      "\n",
      "Attaching package: 'rstatix'\n",
      "\n",
      "The following object is masked from 'package:stats':\n",
      "\n",
      "    filter"
     ]
    },
    {
     "output_type": "stream",
     "name": "stderr",
     "text": [
      "here() starts at /Users/rp3650/Library/CloudStorage/GoogleDrive-robpetrosino@gmail.com/My Drive/Academics/projects/morphology/morphological-decomposition/sub-projects/frequency-effects/frequency-effect_masked-priming__debug"
     ]
    }
   ],
   "source": [
    "library(osfr)\n",
    "library(tidyverse)\n"
   ],
   "id": "af936965-f6da-4185-9257-04cab0d62a6c"
  },
  {
   "cell_type": "markdown",
   "metadata": {},
   "source": [
    "## Materials"
   ],
   "id": "8885ad70-d7ea-495b-93f3-9f38489e5f1d"
  },
  {
   "cell_type": "code",
   "execution_count": null,
   "metadata": {},
   "outputs": [
    {
     "output_type": "display_data",
     "metadata": {},
     "data": {
      "text/html": [
       "\n",
       "</div>"
      ],
      "text/markdown": [
       "  frequency   N     [**HAL**]{.gt_column_spanner}                       [**SUBTLEX~US~**]{.gt_column_spanner}                 \n",
       "  ----------- ----- ------------------------------- ------ ------ ----- --------------------------------------- ------ ------ -----\n",
       "                    min                             max    mean   SD    min                                     max    mean   SD\n",
       "  high        100   169                             1212   482    292   2.00                                    1168   129    201\n",
       "  low         100   3                               23     9      5     0.12                                    13     3      3\n"
      ]
     }
    }
   ],
   "source": [
    "\n",
    "exp1_wordlists_folder <- \"../materials/experiment1/\"\n",
    "\n",
    "stimuli <- read.csv(paste0(exp1_wordlists_folder, \"frequency-effects_experiment1_stimuli.csv\"))\n",
    "database <- read.csv(paste0(exp1_wordlists_folder, \"stim-database.csv\"))\n",
    "\n",
    "stimuli <- merge(stimuli, database, by='Word', all.x=T, all.y=F)\n",
    "stimuli <- stimuli[c(-559,-596),] #one word and one non-word were duplicated as being considered both non-words and words\n",
    "\n",
    "words <- stimuli %>% filter(type != 'non-word') \n",
    "nonwords <- stimuli %>% filter(type == 'non-word')\n",
    "\n",
    "words$freq.bin <- factor(words$freq.bin, levels = c(\"high\", \"mid\"))\n",
    "words$type <- as.factor(words$type)\n",
    "\n",
    "words %>% \n",
    "  filter(freq.bin != 'low') %>%\n",
    "  mutate(Freq_HAL.Pm = (Freq_HAL * (10^6) / (131*10^6))) %>% # CHECK IF THE TRANSFORM HERE IS CORRECT\n",
    "  mutate(freq.bin = fct_recode(freq.bin, low = \"mid\")) %>% \n",
    "  dplyr::group_by(freq.bin) %>%\n",
    "  dplyr::summarise(N = n(),\n",
    "            minFreq= min(Freq_HAL.Pm, na.rm = T), maxFreq=max(Freq_HAL.Pm, na.rm = T),\n",
    "            meanFreq = mean(Freq_HAL.Pm, na.rm = T), sdFreq = sd(Freq_HAL.Pm, na.rm = T),\n",
    "            minSUBFreq= min(SUBTLWF, na.rm = T), maxSUBFreq=max(SUBTLWF, na.rm = T),\n",
    "            meanSUBFreq = mean(SUBTLWF, na.rm = T), sdSUBFreq = sd(SUBTLWF, na.rm = T),\n",
    "            #meanRT=mean(as.numeric(I_Mean_RT), na.rm = T), sdRT=sd(as.numeric(I_Mean_RT), na.rm = T),\n",
    "            #meanLength = mean(Length, na.rm = T), sdLength=sd(Length, na.rm = T)\n",
    "            ) %>% \n",
    "  mutate(\n",
    "    across(-freq.bin, ~ if_else(.<1, round(., 2), round(.)))\n",
    "  ) %>% \n",
    "  gt() %>%\n",
    "  tab_spanner(\n",
    "    label = md(\"**HAL**\"), \n",
    "    columns = c(minFreq: sdFreq)\n",
    "  ) %>%\n",
    "  tab_spanner(\n",
    "    label = md(\"**SUBTLEX~US~**\"), \n",
    "    columns = c(minSUBFreq: sdSUBFreq)\n",
    "  ) %>%\n",
    "  cols_label(freq.bin = \"frequency\", \n",
    "             minFreq = \"min\", maxFreq = \"max\", meanFreq = \"mean\", sdFreq = \"SD\", \n",
    "             minSUBFreq = \"min\", maxSUBFreq = \"max\", meanSUBFreq = \"mean\", sdSUBFreq = \"SD\") %>%\n",
    "  gt_add_divider(columns=c(\"maxFreq\", \"maxSUBFreq\"), weight=px(1))\n"
   ],
   "id": "2c8d8a5b-9c54-4c81-b663-89111e8e2a49"
  },
  {
   "cell_type": "markdown",
   "metadata": {},
   "source": [
    "## Data analysis"
   ],
   "id": "962ed2df-9627-458e-98bd-20c7b292b38c"
  },
  {
   "cell_type": "code",
   "execution_count": null,
   "metadata": {},
   "outputs": [],
   "source": [
    "\n",
    "# load the raw data dataframe\n",
    "exp1_data_folder <- \"experiment1\"\n",
    "exp1_rawdata_filename <- \"experiment_1_preprocessed_data.csv\"\n",
    "\n",
    "## 02. check if the rawdata file exists. if not, download it from OSF.\n",
    "if (!file.exists(here(exp1_data_folder, exp1_rawdata_filename))) {\n",
    "  osf_retrieve_file(\"ej8dh\") |> \n",
    "    osf_download(path = here(exp1_data_folder),\n",
    "                 conflicts = \"overwrite\") \n",
    "}\n",
    "\n",
    "## 03. read the data into R.\n",
    "exp1_rawdata <- here(exp1_data_folder, exp1_rawdata_filename) |>\n",
    "  read.csv(na = c(\"\", \"NA\")) %>%\n",
    "  filter(condition_rec != 'low') %>% # deleting the low-low frequency bin\n",
    "  mutate(condition_rec = fct_recode(condition_rec, low = \"mid\"), # renaming the mid-frequency bin as low\n",
    "         primeTime = primeDuration - maskDuration) # calculating the actual SOA\n",
    "\n",
    "exp1_info <- list()\n",
    "exp1_info$intended_prime_duration <- 33\n",
    "exp1_info$prime_dur_lb <- 25\n",
    "exp1_info$prime_dur_ub <- 60\n",
    "exp1_info$rt_lb <- 200\n",
    "exp1_info$rt_ub <- 1800\n",
    "exp1_info$freq_conditions <- c(\"high\", \"low\", \"non-word\")\n",
    "exp1_info$n_recruited <- exp1_rawdata$Rec_Session_Id |>\n",
    "  unique() |>\n",
    "  length()\n",
    "\n",
    "exp1_rawdata.sub <- exp1_rawdata %>%\n",
    "  filter(!is.na(TimeMeasure_Mean) & !is.na(primeDuration) & !is.na(responseError))\n",
    "            \n",
    "\n",
    "exp1_info$summary <- with(\n",
    "  transform(exp1_rawdata.sub,\n",
    "    RT_inrange = ifelse(RT >= exp1_info$rt_lb & RT <= exp1_info$rt_ub, 1, 0),\n",
    "    Prime_inrange = ifelse((primeDuration - maskDuration) >= exp1_info$prime_dur_lb &\n",
    "                             (primeDuration - maskDuration) <= exp1_info$prime_dur_ub, 1, 0),\n",
    "    list = Group_Nr),\n",
    "  {\n",
    "    data.frame(aggregate(Start_Time ~ Rec_Session_Id + Crowdsourcing_SubjId, data=exp1_rawdata.sub, unique),\n",
    "               aggregate(End_Time_Local ~ Rec_Session_Id + Crowdsourcing_SubjId, data=exp1_rawdata.sub, unique),\n",
    "              aggregate(cbind(list, SelectedGender, SelectedAge, TimeMeasure_Mean, TimeMeasure_Std) ~ Rec_Session_Id + Crowdsourcing_SubjId, data=exp1_rawdata.sub, unique),\n",
    "      aggregate(cbind(responseError, RT_inrange, Prime_inrange) ~ Rec_Session_Id + Crowdsourcing_SubjId, mean, data=exp1_rawdata.sub)\n",
    "  )\n",
    "}\n",
    ")\n",
    "\n",
    "exp1_info$summary <- exp1_info$summary[, -grep(\"Rec_Session_Id.|Crowdsourcing_SubjId.\", colnames(exp1_info$summary))] # remove all extra aggregating columns (subj ID)\n",
    "\n",
    "exp1_info$summary$Duration <- interval(ymd_hms(exp1_info$summary$Start_Time), \n",
    "                                             ymd_hms(exp1_info$summary$End_Time_Local)) |>\n",
    "                                      lapply(function(interval_value) {interval_value/dminutes(1)}) |> \n",
    "                                           unlist()\n"
   ],
   "id": "c0f18346-df81-448a-b87d-3c15034f4e0b"
  },
  {
   "cell_type": "markdown",
   "metadata": {},
   "source": [
    "### Step 1: subject and item performance"
   ],
   "id": "6bc6a880-b162-45c4-bfcf-ce3c30e180fa"
  },
  {
   "cell_type": "code",
   "execution_count": null,
   "metadata": {},
   "outputs": [
    {
     "output_type": "stream",
     "name": "stderr",
     "text": [
      "`summarise()` has grouped output by 'condition_rec'. You can override using the\n",
      "`.groups` argument."
     ]
    }
   ],
   "source": [
    "\n",
    "exp1_step1_goodsubj <- exp1_info$summary |>\n",
    "  subset(responseError <= .3) \n",
    "\n",
    "exp1_step1_subj_remain <- exp1_step1_goodsubj |> nrow()\n",
    "\n",
    "exp1_step1_item.err <- exp1_rawdata.sub %>% group_by(condition_rec, target_rec) %>%\n",
    "  summarise(word.percent=mean(responseError)*100) %>% \n",
    "  filter(word.percent > 30)\n"
   ],
   "id": "0e45b442-d628-4c3b-95ce-b7b7b5c0b0b9"
  },
  {
   "cell_type": "markdown",
   "metadata": {},
   "source": [
    "### Step 2: prime durations"
   ],
   "id": "2d3b14cf-5b5b-4cb3-8ba9-778839071717"
  },
  {
   "cell_type": "code",
   "execution_count": null,
   "metadata": {},
   "outputs": [],
   "source": [
    "\n",
    "exp1_summary.primeTime <- exp1_rawdata.sub %>% \n",
    "  summarise(meanPrimeTime = round(mean(primeTime), 2), \n",
    "            sdPrimeTime = round(sd(primeTime), 2))\n",
    "\n",
    "exp1_primeTimeRangeSummary <- exp1_rawdata.sub %>% \n",
    "  group_by(primeTime) %>%\n",
    "  mutate(range = ifelse(primeTime < exp1_info$prime_dur_lb, \"below\", \n",
    "                        ifelse(primeTime > exp1_info$prime_dur_ub, \"above\",\n",
    "                               \"in range\"))) %>% \n",
    "  group_by(range) %>% tally() %>% ungroup() %>%\n",
    "  mutate(range.percent = round((n*100)/nrow(exp1_rawdata.sub),2))\n",
    "\n",
    "exp1_data_step2 <- exp1_data_step1  |>\n",
    "  subset(primeTime >= exp1_info$prime_dur_lb & primeTime <= exp1_info$prime_dur_ub)\n",
    "\n",
    "exp1_step2_subj_remain <- exp1_data_step2$Rec_Session_Id |>\n",
    "  unique() |>\n",
    "  length()\n",
    "\n",
    "exp1_step2_trials_remain <- nrow(exp1_data_step2)\n"
   ],
   "id": "b380c872-b550-4453-ac11-f865f218484a"
  },
  {
   "cell_type": "markdown",
   "metadata": {},
   "source": [
    "### Step 3: RT distribution"
   ],
   "id": "80961f66-be6a-44de-80a7-d5a82b75abeb"
  },
  {
   "cell_type": "code",
   "execution_count": null,
   "metadata": {},
   "outputs": [],
   "source": [
    "\n",
    "# RT outliers \n",
    "exp1_data_step3 <- exp1_data_step2 |> \n",
    "  subset(RT >= exp1_info$rt_lb & RT <= exp1_info$rt_ub)\n",
    "\n",
    "exp1_step3_subj_remain <- exp1_data_step3$Rec_Session_Id |>\n",
    "  unique() |>\n",
    "  length()\n",
    "\n",
    "exp1_step3_trials_remain <- nrow(exp1_data_step3)\n",
    "\n",
    "# error trial removal\n",
    "\n",
    "exp1_data_step3b <- exp1_data_step3  |>\n",
    "  subset(responseError == 0)\n",
    "\n",
    "exp1_step3b_subj_remain <- exp1_data_step3b$Rec_Session_Id |>\n",
    "  unique() |>\n",
    "  length()\n",
    "\n",
    "exp1_step3b_trials_remain <- nrow(exp1_data_step3b)\n",
    "\n",
    "# remove subjects with less than 12 trials in at least one condition*primetype combination (half of the total number of items per combination)\n",
    "rt_data_labels <- c(\"Rec_Session_Id\", \"condition_rec\", \"primetype_rec\", \"RT\")\n",
    "\n",
    "exp1_subj_filter_2 <- exp1_data_step3b[, rt_data_labels] |>\n",
    "  aggregate(RT ~ ., FUN = length, drop = FALSE) |>\n",
    "  subset(RT < 12, select = Rec_Session_Id) |>\n",
    "  unique() |>\n",
    "  unlist()\n",
    "\n",
    "exp1_data_final <- exp1_data_step3b |>\n",
    "  subset(!(Rec_Session_Id %in% exp1_subj_filter_2))\n",
    "\n",
    "exp1_final_subj_remain <- exp1_data_final$Rec_Session_Id |>\n",
    "  unique() |> \n",
    "  length()\n",
    "  \n",
    "exp1_final_trials_remain <- nrow(exp1_data_final)\n"
   ],
   "id": "a1888477-f278-4fb3-b7ea-53fa86cd0591"
  },
  {
   "cell_type": "markdown",
   "metadata": {},
   "source": [
    "## Results"
   ],
   "id": "11dc4fa2-414c-487e-8448-9bf1f91ba3a6"
  },
  {
   "cell_type": "code",
   "execution_count": null,
   "metadata": {},
   "outputs": [
    {
     "output_type": "stream",
     "name": "stderr",
     "text": [
      "`summarise()` has grouped output by 'condition_rec', 'primetype_rec'. You can\n",
      "override using the `.groups` argument."
     ]
    },
    {
     "output_type": "stream",
     "name": "stderr",
     "text": [
      "`summarise()` has grouped output by 'Rec_Session_Id', 'condition_rec'. You can\n",
      "override using the `.groups` argument."
     ]
    },
    {
     "output_type": "stream",
     "name": "stderr",
     "text": [
      "`summarise()` has grouped output by 'Rec_Session_Id', 'condition_rec'. You can\n",
      "override using the `.groups` argument."
     ]
    },
    {
     "output_type": "stream",
     "name": "stderr",
     "text": [
      "`summarise()` has grouped output by 'condition_rec'. You can override using the\n",
      "`.groups` argument."
     ]
    },
    {
     "output_type": "stream",
     "name": "stderr",
     "text": [
      "Warning: There was 1 warning in `mutate()`.\n",
      "ℹ In argument: `across(c(13), round, 2)`.\n",
      "Caused by warning:\n",
      "! The `...` argument of `across()` is deprecated as of dplyr 1.1.0.\n",
      "Supply arguments directly to `.fns` through an anonymous function instead.\n",
      "\n",
      "  # Previously\n",
      "  across(a:b, mean, na.rm = TRUE)\n",
      "\n",
      "  # Now\n",
      "  across(a:b, \\(x) mean(x, na.rm = TRUE))"
     ]
    }
   ],
   "source": [
    "\n",
    "# error rates averages\n",
    "### N.B.: to calculate error rates, will have to apply the 12-trial removal procedure after the RT removal procedure and without removing the error trials\n",
    "exp1_subj_filter_2_with.errors <- exp1_data_step3[, rt_data_labels] |> #exp1_data_step3 is the dataset after RT removal and before the error trial removal\n",
    "  aggregate(RT ~ ., FUN = length, drop = FALSE) |>\n",
    "  subset(RT < 12, select = Rec_Session_Id) |>\n",
    "  unique() |>\n",
    "  unlist()\n",
    "\n",
    "exp1_data_final_with.errors <- exp1_data_step3 |>\n",
    "  subset(!(Rec_Session_Id %in% exp1_subj_filter_2))\n",
    "\n",
    "exp1_error.rates <- exp1_data_final_with.errors %>%\n",
    "  mutate(primetype_rec = factor(primetype_rec, levels=c(\"unrelated\", \"related\")),\n",
    "         condition_rec = factor(condition_rec, levels=c(\"high\", \"low\", \"non-word\"))) %>%\n",
    "  group_by(condition_rec, primetype_rec, Rec_Session_Id) %>%\n",
    "  summarise(error.percent=mean(responseError)*100)\n"
   ],
   "id": "da77e35f-7f4d-4cb6-99db-cbf8eacf76b7"
  },
  {
   "cell_type": "markdown",
   "metadata": {},
   "source": [
    "#### Stats summary"
   ],
   "id": "ed2d585d-ff95-4efb-bb7a-d950447730a3"
  },
  {
   "cell_type": "code",
   "execution_count": null,
   "metadata": {
    "tbl-pos": "h"
   },
   "outputs": [
    {
     "output_type": "display_data",
     "metadata": {},
     "data": {
      "text/html": [
       "\n",
       "</div>"
      ],
      "text/markdown": [
       "  ---------------------------------------------------------------------------------------------------------------------------------------------------------------------------------------------------------------------\n",
       "  factor                [unrelated                              [repetition                             cor     [priming                                              [*t*-test]{.gt_column_spanner}         \n",
       "                        RT]{.gt_column_spanner}                 RT]{.gt_column_spanner}                         effects]{.gt_column_spanner}                                                                 \n",
       "  --------------------- ------------------------- ----- ------- ------------------------- ----- ------- ------- ------------------------------ ------ ------- ------- -------------------------------- ----- ----------\n",
       "                        mean                      SD    Error   mean                      SD    Error           MOP                            95% CI SD~p~   ES      *t*                              df    *p*\n",
       "                                                        (%)                                     (%)                                                                                                          \n",
       "\n",
       "  high                  619                       77    2       596                       80    1       0.89    23                             \\[19   37      0.62    10.4                             281   8.78e-22\n",
       "                                                                                                                                               27\\]                                                          \n",
       "\n",
       "  low                   699                       93    10      669                       91    7       0.84    30                             \\[24   52      0.58    9.75                             281   1.51e-19\n",
       "                                                                                                                                               36\\]                                                          \n",
       "\n",
       "  non-word              712                       110   6       716                       110   6       0.96    -4                             \\[-8   31      -0.11   -1.91                            281   0.0567\n",
       "                                                                                                                                               0\\]                                                           \n",
       "\n",
       "  frequency:primetype   \\                         \\     \\       \\                         \\     \\       -0.01   7                              \\[-1   64      0.11    1.88                             281   0.0616\n",
       "                                                                                                                                               15\\]                                                          \n",
       "  ---------------------------------------------------------------------------------------------------------------------------------------------------------------------------------------------------------------------\n"
      ]
     }
    }
   ],
   "source": [
    "\n",
    "exp1_summary.results_mop <- merge(exp1_gdavg_mop_summary, exp1_rt_stats_main, by='factor')\n",
    "exp1_summary.results_fae <- merge(exp1_gdavg_fae_summary, exp1_rt_stats_interaction, by='factor') |>\n",
    "  select(-mean_high, -mean_low)\n",
    "\n",
    "exp1_summary.results <- bind_rows(exp1_summary.results_mop, exp1_summary.results_fae)\n",
    "  \n",
    "exp1_summary.results %>%\n",
    "  relocate(c(\"sd_unrelated\", \"mean.error_unrelated\"), .before=gd.mean_related) %>%\n",
    "  gt() %>%\n",
    "  cols_label(\n",
    "    CI = \"95% CI\",\n",
    "    contains(\"mean\") ~ \"mean\",\n",
    "    contains(\"sd\") ~ \"SD\", \n",
    "    contains(\"error\") ~ \"Error (%)\"\n",
    "  ) %>%\n",
    "  tab_spanner(\n",
    "    label = \"unrelated RT\",\n",
    "    columns = c(2:4)\n",
    "  ) %>%\n",
    "  tab_spanner(\n",
    "    label = \"repetition RT\",\n",
    "    columns = c(5:7)\n",
    "  ) %>%\n",
    "  tab_spanner(\n",
    "    label = 'priming effects',\n",
    "    columns = c(9:12)\n",
    "  ) %>%\n",
    "  tab_spanner(\n",
    "    label = md(\"_t_-test\"),\n",
    "    columns = c(13:15)\n",
    "  ) %>%\n",
    "  cols_label(\n",
    "    sd = md(\"SD~p~\")\n",
    "  ) %>%\n",
    "  cols_label(\n",
    "    t = md(\"_t_\"),\n",
    "    p = md(\"_p_\"),\n",
    "  ) %>%\n",
    "   sub_missing(\n",
    "    missing_text = \" \"\n",
    "  )\n"
   ],
   "id": "9201f58d-eb1a-4adb-9eb5-2ba41737b70e"
  }
 ],
 "nbformat": 4,
 "nbformat_minor": 5,
 "metadata": {}
}
