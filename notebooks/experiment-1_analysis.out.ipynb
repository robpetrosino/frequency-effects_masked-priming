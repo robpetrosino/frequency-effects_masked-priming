{
 "cells": [
  {
   "cell_type": "markdown",
   "metadata": {},
   "source": [
    "# Script B: Experiment 1"
   ],
   "id": "60cd701e-f2c2-4340-b8dc-a1212e216782"
  },
  {
   "cell_type": "code",
   "execution_count": null,
   "metadata": {},
   "outputs": [
    {
     "output_type": "stream",
     "name": "stderr",
     "text": [
      "── Attaching core tidyverse packages ──────────────────────── tidyverse 2.0.0 ──\n",
      "✔ dplyr     1.1.3     ✔ readr     2.1.4\n",
      "✔ forcats   1.0.0     ✔ stringr   1.5.0\n",
      "✔ ggplot2   3.4.4     ✔ tibble    3.2.1\n",
      "✔ lubridate 1.9.3     ✔ tidyr     1.3.0\n",
      "✔ purrr     1.0.2     \n",
      "── Conflicts ────────────────────────────────────────── tidyverse_conflicts() ──\n",
      "✖ dplyr::filter() masks stats::filter()\n",
      "✖ dplyr::lag()    masks stats::lag()\n",
      "ℹ Use the conflicted package (<http://conflicted.r-lib.org/>) to force all conflicts to become errors"
     ]
    },
    {
     "output_type": "stream",
     "name": "stderr",
     "text": [
      "\n",
      "Attaching package: 'rstatix'\n",
      "\n",
      "The following object is masked from 'package:stats':\n",
      "\n",
      "    filter"
     ]
    },
    {
     "output_type": "stream",
     "name": "stderr",
     "text": [
      "here() starts at /Users/rp3650/Library/CloudStorage/GoogleDrive-robpetrosino@gmail.com/My Drive/Academics/projects/morphology/morphological-decomposition/sub-projects/frequency-effects/frequency-effect_masked-priming"
     ]
    }
   ],
   "source": [
    "library(osfr)\n",
    "library(tidyverse)\n"
   ],
   "id": "7b310f51-8541-42aa-b8de-04141fb82041"
  },
  {
   "cell_type": "markdown",
   "metadata": {},
   "source": [
    "## Materials"
   ],
   "id": "70299e85-a19f-4fa3-b011-e9ac867b50a7"
  },
  {
   "cell_type": "code",
   "execution_count": null,
   "metadata": {},
   "outputs": [
    {
     "output_type": "stream",
     "name": "stderr",
     "text": [
      "Rows: 208 Columns: 15\n",
      "── Column specification ────────────────────────────────────────────────────────\n",
      "Delimiter: \",\"\n",
      "chr  (3): Word, type, freq.bin\n",
      "dbl (12): Mean_RT, Mean_Accuracy, SUBTLWF, Freq_HAL, Length, Ortho_N, BG_Sum...\n",
      "\n",
      "ℹ Use `spec()` to retrieve the full column specification for this data.\n",
      "ℹ Specify the column types or set `show_col_types = FALSE` to quiet this message."
     ]
    },
    {
     "output_type": "display_data",
     "metadata": {},
     "data": {
      "text/html": [
       "\n",
       "</div>"
      ],
      "text/markdown": [
       "  frequency   N    [**HAL**]{.gt_column_spanner}                       [**SUBTLEX~US~**]{.gt_column_spanner}                 \n",
       "  ----------- ---- ------------------------------- ------ ------ ----- --------------------------------------- ------ ------ -----\n",
       "                   min                             max    mean   SD    min                                     max    mean   SD\n",
       "  high        52   45                              4984   573    808   57                                      2691   210    388\n",
       "  low         52   6                               570    64     93    7                                       24     13     5\n"
      ]
     }
    }
   ],
   "source": [
    "#|\n",
    "words <- read_csv('../materials/experiments-1-2/frequency-effects_experiments-1-2_stimuli.csv') %>%\n",
    "            filter(type=='word')\n"
   ],
   "id": "8175cb0f-7ea5-4f90-9c9d-b6a85f62d0de"
  },
  {
   "cell_type": "markdown",
   "metadata": {},
   "source": [
    "## Data analysis"
   ],
   "id": "0ab9a60c-62b0-4d5e-bcb7-b054b5353461"
  },
  {
   "cell_type": "code",
   "execution_count": null,
   "metadata": {},
   "outputs": [],
   "source": [
    "\n",
    "# load the raw data dataframe\n",
    "exp1_data_folder <- \"data/experiment1\"\n",
    "exp1_rawdata_filename <- \"experiment_1_preprocessed_data.csv\"\n",
    "\n",
    "## 02. check if the rawdata file exists. if not, download it from OSF.\n",
    "if (!file.exists(here(exp1_data_folder, exp1_rawdata_filename))) {\n",
    "  osf_retrieve_file(\"vn3r2\") |> \n",
    "    osf_download(path = here(exp1_data_folder),\n",
    "                 conflicts = \"overwrite\") \n",
    "}\n",
    "\n",
    "## 03. read the data into R.\n",
    "exp1_rawdata <- here(exp1_data_folder, exp1_rawdata_filename) |>\n",
    "  read.csv(na = c(\"\", \"NA\")) %>%\n",
    "  mutate(primeTime = primeDuration - maskDuration) # calculating the actual SOA\n",
    "\n",
    "exp1_info <- list()\n",
    "exp1_info$intended_prime_duration <- 33\n",
    "exp1_info$prime_dur_lb <- 25\n",
    "exp1_info$prime_dur_ub <- 60\n",
    "exp1_info$rt_lb <- 200\n",
    "exp1_info$rt_ub <- 1800\n",
    "exp1_info$freq_conditions <- c(\"high\", \"low\", \"non-word\")\n",
    "exp1_info$n_recruited <- exp1_rawdata$Rec_Session_Id |>\n",
    "  unique() |>\n",
    "  length()\n",
    "\n",
    "exp1_rawdata.sub <- exp1_rawdata %>%\n",
    "  filter(!is.na(TimeMeasure_Mean) & !is.na(primeDuration) & !is.na(responseError))\n",
    "            \n",
    "exp1_info$summary <- with(\n",
    "  transform(exp1_rawdata.sub,\n",
    "    RT_inrange = ifelse(RT >= exp1_info$rt_lb & RT <= exp1_info$rt_ub, 1, 0),\n",
    "    Prime_inrange = ifelse((primeDuration - maskDuration) >= exp1_info$prime_dur_lb &\n",
    "                             (primeDuration - maskDuration) <= exp1_info$prime_dur_ub, 1, 0)),\n",
    "  {\n",
    "    data.frame(aggregate(Start_Time ~ Rec_Session_Id + Crowdsourcing_SubjId, data=exp1_rawdata.sub, unique),\n",
    "               aggregate(End_Time_Local ~ Rec_Session_Id + Crowdsourcing_SubjId, data=exp1_rawdata.sub, unique),\n",
    "              aggregate(cbind(list, SelectedGender, SelectedAge, TimeMeasure_Mean, TimeMeasure_Std) ~ Rec_Session_Id + Crowdsourcing_SubjId, data=exp1_rawdata.sub, unique),\n",
    "      aggregate(cbind(responseError, RT_inrange, Prime_inrange) ~ Rec_Session_Id + Crowdsourcing_SubjId, mean, data=exp1_rawdata.sub)\n",
    "  )\n",
    "}\n",
    ")\n",
    "\n",
    "exp1_info$summary <- exp1_info$summary[, -grep(\"Rec_Session_Id.|Crowdsourcing_SubjId.\", colnames(exp1_info$summary))] # remove all extra aggregating columns (subj ID)\n",
    "\n",
    "exp1_info$summary$Duration <- interval(ymd_hms(exp1_info$summary$Start_Time), \n",
    "                                             ymd_hms(exp1_info$summary$End_Time_Local)) |>\n",
    "                                      lapply(function(interval_value) {interval_value/dminutes(1)}) |> \n",
    "                                           unlist()\n"
   ],
   "id": "197daa45-eeb0-4863-9f55-f3df0942d8a5"
  },
  {
   "cell_type": "markdown",
   "metadata": {},
   "source": [
    "### Step 1: subject and item performance"
   ],
   "id": "bf40f9be-119e-4b40-9202-211ac9cff046"
  },
  {
   "cell_type": "code",
   "execution_count": null,
   "metadata": {},
   "outputs": [
    {
     "output_type": "stream",
     "name": "stderr",
     "text": [
      "`summarise()` has grouped output by 'condition_rec'. You can override using the\n",
      "`.groups` argument."
     ]
    }
   ],
   "source": [
    "\n",
    "exp1_step1_goodsubj <- exp1_info$summary |>\n",
    "  subset(responseError <= .3) \n",
    "\n",
    "exp1_step1_subj_remain <- exp1_step1_goodsubj |> nrow()\n",
    "\n",
    "exp1_step1_item.err <- exp1_rawdata.sub %>% group_by(condition_rec, target_rec) %>%\n",
    "  summarise(word.percent=mean(responseError)*100) %>% \n",
    "  filter(word.percent > 30)\n"
   ],
   "id": "fe996dea-890a-4e1b-8134-7d87ddd0177b"
  },
  {
   "cell_type": "markdown",
   "metadata": {},
   "source": [
    "### Step 2: prime durations"
   ],
   "id": "d5286c9c-239f-4294-8de2-0de616ba85c0"
  },
  {
   "cell_type": "code",
   "execution_count": null,
   "metadata": {},
   "outputs": [],
   "source": [
    "\n",
    "exp1_summary.primeTime <- exp1_rawdata.sub %>% \n",
    "  summarise(meanPrimeTime = round(mean(primeTime), 2), \n",
    "            sdPrimeTime = round(sd(primeTime), 2))\n",
    "\n",
    "exp1_primeTimeRangeSummary <- exp1_rawdata.sub %>% \n",
    "  group_by(primeTime) %>%\n",
    "  mutate(range = ifelse(primeTime < exp1_info$prime_dur_lb, \"below\", \n",
    "                        ifelse(primeTime > exp1_info$prime_dur_ub, \"above\",\n",
    "                               \"in range\"))) %>% \n",
    "  group_by(range) %>% tally() %>% ungroup() %>%\n",
    "  mutate(range.percent = round((n*100)/nrow(exp1_rawdata.sub),2))\n",
    "\n",
    "exp1_data_step2 <- exp1_data_step1  |>\n",
    "  subset(primeTime >= exp1_info$prime_dur_lb & primeTime <= exp1_info$prime_dur_ub)\n",
    "\n",
    "exp1_step2_subj_remain <- exp1_data_step2$Rec_Session_Id |>\n",
    "  unique() |>\n",
    "  length()\n",
    "\n",
    "exp1_step2_trials_remain <- nrow(exp1_data_step2)\n"
   ],
   "id": "5f05caf5-1aae-4346-b42f-373945406191"
  },
  {
   "cell_type": "markdown",
   "metadata": {},
   "source": [
    "### Step 3: RT analysis"
   ],
   "id": "b7b7a9b2-1440-4c32-b945-8c929136ef61"
  },
  {
   "cell_type": "code",
   "execution_count": null,
   "metadata": {},
   "outputs": [],
   "source": [
    "\n",
    "# RT outliers \n",
    "exp1_data_step3 <- exp1_data_step2 |> \n",
    "  subset(RT >= exp1_info$rt_lb & RT <= exp1_info$rt_ub)\n",
    "\n",
    "exp1_step3_subj_remain <- exp1_data_step3$Rec_Session_Id |>\n",
    "  unique() |>\n",
    "  length()\n",
    "\n",
    "exp1_step3_trials_remain <- nrow(exp1_data_step3)\n",
    "\n",
    "# error trial removal\n",
    "\n",
    "exp1_data_step3b <- exp1_data_step3  |>\n",
    "  subset(responseError == 0)\n",
    "\n",
    "exp1_step3b_subj_remain <- exp1_data_step3b$Rec_Session_Id |>\n",
    "  unique() |>\n",
    "  length()\n",
    "\n",
    "exp1_step3b_trials_remain <- nrow(exp1_data_step3b)\n",
    "\n",
    "# remove subjects with less than 12 trials in at least one condition*primetype combination (half of the total number of items per combination)\n",
    "rt_data_labels <- c(\"Rec_Session_Id\", \"condition_rec\", \"primetype_rec\", \"RT\")\n",
    "\n",
    "exp1_subj_filter_2 <- exp1_data_step3b[, rt_data_labels] |>\n",
    "  aggregate(RT ~ ., FUN = length, drop = FALSE) |>\n",
    "  subset(RT < 7, select = Rec_Session_Id) |>\n",
    "  unique() |>\n",
    "  unlist()\n",
    "\n",
    "### we also want to sure that all subjects have all conditions; in case some subject had all the trials for a given condition lost down the road, they will be removed\n",
    "exp1_subj_filter_conditions <- \n",
    "  exp1_data_step3b %>%\n",
    "  group_by(Rec_Session_Id) %>% \n",
    "  distinct(condition_rec, primetype_rec) %>% \n",
    "  tally() %>% filter(n != 6) %>% pull(Rec_Session_Id)\n",
    "\n",
    "exp1_data_final <- exp1_data_step3b |>\n",
    "  subset(!(Rec_Session_Id %in% exp1_subj_filter_2) & !(Rec_Session_Id %in% exp1_subj_filter_conditions)) %>%\n",
    "  mutate(condition_rec = as.factor(condition_rec), primetype_rec=as.factor(primetype_rec))\n",
    "\n",
    "exp1_final_subj_remain <- exp1_data_final$Rec_Session_Id |>\n",
    "  unique() |> \n",
    "  length()\n",
    "  \n",
    "exp1_final_trials_remain <- nrow(exp1_data_final)\n"
   ],
   "id": "04cf061d-c75b-4b14-b180-d2af7a2c1d43"
  },
  {
   "cell_type": "markdown",
   "metadata": {},
   "source": [
    "## Results"
   ],
   "id": "6f791efc-ccfa-4a85-8694-5c6260c59100"
  },
  {
   "cell_type": "code",
   "execution_count": null,
   "metadata": {},
   "outputs": [
    {
     "output_type": "stream",
     "name": "stderr",
     "text": [
      "`summarise()` has grouped output by 'condition_rec', 'primetype_rec'. You can\n",
      "override using the `.groups` argument."
     ]
    },
    {
     "output_type": "stream",
     "name": "stderr",
     "text": [
      "`summarise()` has grouped output by 'Rec_Session_Id', 'condition_rec'. You can\n",
      "override using the `.groups` argument."
     ]
    },
    {
     "output_type": "stream",
     "name": "stderr",
     "text": [
      "`summarise()` has grouped output by 'Rec_Session_Id', 'condition_rec'. You can\n",
      "override using the `.groups` argument."
     ]
    },
    {
     "output_type": "stream",
     "name": "stderr",
     "text": [
      "`summarise()` has grouped output by 'condition_rec'. You can override using the\n",
      "`.groups` argument."
     ]
    },
    {
     "output_type": "stream",
     "name": "stderr",
     "text": [
      "Loading required package: Matrix\n",
      "\n",
      "Attaching package: 'Matrix'\n",
      "\n",
      "The following objects are masked from 'package:tidyr':\n",
      "\n",
      "    expand, pack, unpack"
     ]
    },
    {
     "output_type": "stream",
     "name": "stderr",
     "text": [
      "Loading required package: carData\n",
      "\n",
      "Attaching package: 'car'\n",
      "\n",
      "The following object is masked from 'package:dplyr':\n",
      "\n",
      "    recode\n",
      "\n",
      "The following object is masked from 'package:purrr':\n",
      "\n",
      "    some"
     ]
    },
    {
     "output_type": "stream",
     "name": "stdout",
     "text": [
      "Analysis of Deviance Table (Type III Wald chisquare tests)\n",
      "\n",
      "Response: responseError\n",
      "                              Chisq Df Pr(>Chisq)    \n",
      "(Intercept)                 3028.42  1  < 2.2e-16 ***\n",
      "condition_rec                 14.61  2  0.0006722 ***\n",
      "primetype_rec                253.46  1  < 2.2e-16 ***\n",
      "condition_rec:primetype_rec  307.44  2  < 2.2e-16 ***\n",
      "---\n",
      "Signif. codes:  0 '***' 0.001 '**' 0.01 '*' 0.05 '.' 0.1 ' ' 1"
     ]
    },
    {
     "output_type": "stream",
     "name": "stderr",
     "text": [
      "Warning: There was 1 warning in `mutate()`.\n",
      "ℹ In argument: `across(c(13), round, 2)`.\n",
      "Caused by warning:\n",
      "! The `...` argument of `across()` is deprecated as of dplyr 1.1.0.\n",
      "Supply arguments directly to `.fns` through an anonymous function instead.\n",
      "\n",
      "  # Previously\n",
      "  across(a:b, mean, na.rm = TRUE)\n",
      "\n",
      "  # Now\n",
      "  across(a:b, \\(x) mean(x, na.rm = TRUE))"
     ]
    }
   ],
   "source": [
    "\n",
    "# error rates averages\n",
    "### we also want to sure that all subjects have all conditions; in case some subject had all the trials for a given condition lost down the road, they will be removed. Crucially the trial calculations are made on the dataset *before* the trial error removal step\n",
    "exp1_subj_filter_2_with.errors <- exp1_data_step3[, rt_data_labels] |>\n",
    "  aggregate(RT ~ ., FUN = length, drop = FALSE) |>\n",
    "  subset(RT < 7, select = Rec_Session_Id) |>\n",
    "  unique() |>\n",
    "  unlist()\n",
    "# this step just makes sure that the same subjects will be removed from both datasets\n",
    "exp1_subj_filter_2_with.errors <- union(exp1_subj_filter_2_with.errors, exp1_subj_filter_2)\n",
    "\n",
    "### just making sure that all subjects have all conditions; in case some subject had all the trials for a given condition lost down the road, they will be removed\n",
    "exp1_subj_filter_conditions_with.errors <- \n",
    "  exp1_data_step3 %>%\n",
    "  group_by(Rec_Session_Id) %>% \n",
    "  distinct(condition_rec, primetype_rec) %>% \n",
    "  tally() %>% filter(n != 6) %>% pull(Rec_Session_Id)\n",
    "\n",
    "exp1_data_final_with.errors <- exp1_data_step3 |>\n",
    "  subset(!(Rec_Session_Id %in% exp1_subj_filter_2_with.errors) & \n",
    "           !(Rec_Session_Id %in% exp1_subj_filter_conditions_with.errors)) \n",
    "\n",
    "exp1_error.rates <- exp1_data_final_with.errors %>%\n",
    "  mutate(primetype_rec = factor(primetype_rec, levels=c(\"unrelated\", \"related\")),\n",
    "         condition_rec = factor(condition_rec, levels=c(\"high\", \"low\", \"non-word\"))) %>%\n",
    "  group_by(condition_rec, primetype_rec, Rec_Session_Id) %>%\n",
    "  summarise(error.percent=mean(responseError)*100)\n"
   ],
   "id": "4d43bc8e-351a-461b-88e6-a588654b9712"
  },
  {
   "cell_type": "markdown",
   "metadata": {},
   "source": [
    "#### Stats summary"
   ],
   "id": "a2a0f2c9-845c-4fa7-9e41-9e7d5e05951a"
  },
  {
   "cell_type": "code",
   "execution_count": null,
   "metadata": {
    "tbl-pos": "h"
   },
   "outputs": [
    {
     "output_type": "display_data",
     "metadata": {},
     "data": {
      "text/html": [
       "\n",
       "</div>"
      ],
      "text/markdown": [
       "  -----------------------------------------------------------------------------------------------------------------------------------------------------------------------------------------------------------------------\n",
       "  factor                [unrelated                              [repetition                             cor     [priming                                              [*t*-test]{.gt_column_spanner}          \n",
       "                        RT]{.gt_column_spanner}                 RT]{.gt_column_spanner}                         effects]{.gt_column_spanner}                                                                  \n",
       "  --------------------- ------------------------- ----- ------- ------------------------- ----- ------- ------- ------------------------------ ------ ------- ------- -------------------------------- ------ -----------\n",
       "                        mean                      SD    Error   mean                      SD    Error           MOP                            95% CI SD~p~   ES      *t*                              df     *p*\n",
       "                                                        (%)                                     (%)                                                                                                           \n",
       "\n",
       "  high                  573                       83    3       555                       85    2       0.860   18                             \\[16   45      0.41    19.7                             2340   2.88e-80\n",
       "                                                                                                                                               20\\]                                                           \n",
       "\n",
       "  low                   605                       88    6       577                       88    3       0.850   28                             \\[26   49      0.58    27.8                             2340   1.52e-147\n",
       "                                                                                                                                               30\\]                                                           \n",
       "\n",
       "  non-word              623                       103   4       625                       103   4       0.910   -2                             \\[-4   43      -0.05   -2.33                            2340   0.0197\n",
       "                                                                                                                                               0\\]                                                            \n",
       "\n",
       "  frequency:primetype   \\                         \\     \\       \\                         \\     \\       0.029   10                             \\[7    66      0.15    7.24                             2340   5.86e-13\n",
       "                                                                                                                                               13\\]                                                           \n",
       "  -----------------------------------------------------------------------------------------------------------------------------------------------------------------------------------------------------------------------\n"
      ]
     }
    }
   ],
   "source": [
    "\n",
    "exp1_summary.results_mop <- merge(exp1_gdavg_mop_summary, exp1_rt_stats_main, by='factor')\n",
    "exp1_summary.results_fae <- merge(exp1_gdavg_fae_summary, exp1_rt_stats_interaction, by='factor') |>\n",
    "  select(-mean_high, -mean_low)\n",
    "\n",
    "exp1_summary.results <- bind_rows(exp1_summary.results_mop, exp1_summary.results_fae)\n",
    "  \n",
    "exp1_summary.results %>%\n",
    "  relocate(c(\"sd_unrelated\", \"mean.error_unrelated\"), .before=gd.mean_related) %>%\n",
    "  gt() %>%\n",
    "  cols_label(\n",
    "    CI = \"95% CI\",\n",
    "    contains(\"mean\") ~ \"mean\",\n",
    "    contains(\"sd\") ~ \"SD\", \n",
    "    contains(\"error\") ~ \"Error (%)\"\n",
    "  ) %>%\n",
    "  tab_spanner(\n",
    "    label = \"unrelated RT\",\n",
    "    columns = c(2:4)\n",
    "  ) %>%\n",
    "  tab_spanner(\n",
    "    label = \"repetition RT\",\n",
    "    columns = c(5:7)\n",
    "  ) %>%\n",
    "  tab_spanner(\n",
    "    label = 'priming effects',\n",
    "    columns = c(9:12)\n",
    "  ) %>%\n",
    "  tab_spanner(\n",
    "    label = md(\"_t_-test\"),\n",
    "    columns = c(13:15)\n",
    "  ) %>%\n",
    "  cols_label(\n",
    "    sd = md(\"SD~p~\")\n",
    "  ) %>%\n",
    "  cols_label(\n",
    "    t = md(\"_t_\"),\n",
    "    p = md(\"_p_\"),\n",
    "  ) %>%\n",
    "   sub_missing(\n",
    "    missing_text = \" \"\n",
    "  )\n"
   ],
   "id": "f7eb303b-6039-439c-81df-8eff03659e62"
  }
 ],
 "nbformat": 4,
 "nbformat_minor": 5,
 "metadata": {}
}
