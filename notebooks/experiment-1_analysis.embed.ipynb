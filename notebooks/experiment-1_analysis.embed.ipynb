{
 "cells": [
  {
   "cell_type": "markdown",
   "metadata": {},
   "source": [
    "# Script B: Experiment 1"
   ],
   "id": "64bd4533-1934-4f7a-821c-77256137f930"
  },
  {
   "cell_type": "code",
   "execution_count": null,
   "metadata": {},
   "outputs": [
    {
     "output_type": "stream",
     "name": "stderr",
     "text": [
      "── Attaching core tidyverse packages ──────────────────────── tidyverse 2.0.0 ──\n",
      "✔ dplyr     1.1.4     ✔ readr     2.1.4\n",
      "✔ forcats   1.0.0     ✔ stringr   1.5.1\n",
      "✔ ggplot2   3.5.1     ✔ tibble    3.2.1\n",
      "✔ lubridate 1.9.3     ✔ tidyr     1.3.1\n",
      "✔ purrr     1.0.2     \n",
      "── Conflicts ────────────────────────────────────────── tidyverse_conflicts() ──\n",
      "✖ dplyr::filter() masks stats::filter()\n",
      "✖ dplyr::lag()    masks stats::lag()\n",
      "ℹ Use the conflicted package (<http://conflicted.r-lib.org/>) to force all conflicts to become errors"
     ]
    },
    {
     "output_type": "stream",
     "name": "stderr",
     "text": [
      "\n",
      "Attaching package: 'rstatix'\n",
      "\n",
      "The following object is masked from 'package:stats':\n",
      "\n",
      "    filter"
     ]
    },
    {
     "output_type": "stream",
     "name": "stderr",
     "text": [
      "here() starts at /Users/rp3650/Library/CloudStorage/GoogleDrive-robpetrosino@gmail.com/My Drive/Academics/projects/morphology/morphological-decomposition/sub-projects/frequency-effects/frequency-effect_masked-priming"
     ]
    },
    {
     "output_type": "stream",
     "name": "stderr",
     "text": [
      "Loading required package: Matrix\n",
      "\n",
      "Attaching package: 'Matrix'\n",
      "\n",
      "The following objects are masked from 'package:tidyr':\n",
      "\n",
      "    expand, pack, unpack"
     ]
    },
    {
     "output_type": "stream",
     "name": "stderr",
     "text": [
      "Loading required package: carData\n",
      "\n",
      "Attaching package: 'car'\n",
      "\n",
      "The following object is masked from 'package:dplyr':\n",
      "\n",
      "    recode\n",
      "\n",
      "The following object is masked from 'package:purrr':\n",
      "\n",
      "    some"
     ]
    }
   ],
   "source": [
    "#| warning: false\n",
    "#| error: false\n",
    "#| message: false\n",
    "library(osfr)\n",
    "library(tidyverse)"
   ],
   "id": "57b0c12a-a54c-4359-882c-1f1a6f20e7ce"
  },
  {
   "cell_type": "markdown",
   "metadata": {},
   "source": [
    "## Materials"
   ],
   "id": "cf31c903-578b-433d-8015-c7e1370b0800"
  },
  {
   "cell_type": "code",
   "execution_count": null,
   "metadata": {},
   "outputs": [
    {
     "output_type": "stream",
     "name": "stderr",
     "text": [
      "Rows: 208 Columns: 15\n",
      "── Column specification ────────────────────────────────────────────────────────\n",
      "Delimiter: \",\"\n",
      "chr  (3): Word, type, freq.bin\n",
      "dbl (12): Mean_RT, Mean_Accuracy, SUBTLWF, Freq_HAL, Length, Ortho_N, BG_Sum...\n",
      "\n",
      "ℹ Use `spec()` to retrieve the full column specification for this data.\n",
      "ℹ Specify the column types or set `show_col_types = FALSE` to quiet this message."
     ]
    },
    {
     "output_type": "display_data",
     "metadata": {},
     "data": {
      "text/html": [
       "\n",
       "</div>"
      ],
      "text/markdown": [
       "  frequency   N    [**HAL**]{.gt_column_spanner}                       [**SUBTLEX~US~**]{.gt_column_spanner}                 \n",
       "  ----------- ---- ------------------------------- ------ ------ ----- --------------------------------------- ------ ------ -----\n",
       "                   min                             max    mean   SD    min                                     max    mean   SD\n",
       "  high        52   45                              4984   573    808   57                                      2691   210    388\n",
       "  low         52   6                               570    64     93    7                                       24     13     5\n"
      ]
     }
    }
   ],
   "source": [
    "#| echo: false\n",
    "#| label: tbl-words_exp1\n",
    "#| tbl-cap: \"Descriptive statistics of the word items used. For both frequency databases, the word frequencies were converted to per-million count to ensure cross-comparison.\"\n",
    "#|\n",
    "words <- read_csv('../materials/experiments-1-2/frequency-effects_experiments-1-2_stimuli.csv') %>%\n",
    "            filter(type=='word')"
   ],
   "id": "117b93b5-a347-4cad-987a-6aca9ea8ce61"
  },
  {
   "cell_type": "markdown",
   "metadata": {},
   "source": [
    "## Data analysis"
   ],
   "id": "c625e53e-1e5d-477d-92f1-4b27b5bfc57d"
  },
  {
   "cell_type": "code",
   "execution_count": null,
   "metadata": {},
   "outputs": [],
   "source": [
    "#| label: exp1_raw-data\n",
    "#| echo: false\n",
    "\n",
    "# load the raw data dataframe\n",
    "exp1_data_folder <- \"data/experiment1\"\n",
    "exp1_rawdata_filename <- \"experiment_1_preprocessed_data.csv\"\n",
    "\n",
    "## 02. check if the rawdata file exists. if not, download it from OSF.\n",
    "if (!file.exists(here(exp1_data_folder, exp1_rawdata_filename))) {\n",
    "  osf_retrieve_file(\"vn3r2\") |> \n",
    "    osf_download(path = here(exp1_data_folder),\n",
    "                 conflicts = \"overwrite\") \n",
    "}\n",
    "\n",
    "## 03. read the data into R.\n",
    "exp1_rawdata <- here(exp1_data_folder, exp1_rawdata_filename) |>\n",
    "  read.csv(na = c(\"\", \"NA\")) %>%\n",
    "  mutate(primeTime = primeDuration - maskDuration) # calculating the actual SOA\n",
    "\n",
    "exp1_info <- list()\n",
    "exp1_info$intended_prime_duration <- 33\n",
    "exp1_info$prime_dur_lb <- 25\n",
    "exp1_info$prime_dur_ub <- 60\n",
    "exp1_info$rt_lb <- 200\n",
    "exp1_info$rt_ub <- 1800\n",
    "exp1_info$freq_conditions <- c(\"high\", \"low\", \"non-word\")\n",
    "exp1_info$n_recruited <- exp1_rawdata$Rec_Session_Id |>\n",
    "  unique() |>\n",
    "  length()\n",
    "\n",
    "exp1_rawdata.sub <- exp1_rawdata %>%\n",
    "  filter(!is.na(TimeMeasure_Mean) & !is.na(primeDuration) & !is.na(responseError))\n",
    "            \n",
    "exp1_info$summary <- with(\n",
    "  transform(exp1_rawdata.sub,\n",
    "    RT_inrange = ifelse(RT >= exp1_info$rt_lb & RT <= exp1_info$rt_ub, 1, 0),\n",
    "    Prime_inrange = ifelse((primeDuration - maskDuration) >= exp1_info$prime_dur_lb &\n",
    "                             (primeDuration - maskDuration) <= exp1_info$prime_dur_ub, 1, 0)),\n",
    "  {\n",
    "    data.frame(aggregate(Start_Time ~ Rec_Session_Id + Crowdsourcing_SubjId, data=exp1_rawdata.sub, unique),\n",
    "               aggregate(End_Time_Local ~ Rec_Session_Id + Crowdsourcing_SubjId, data=exp1_rawdata.sub, unique),\n",
    "              aggregate(cbind(list, SelectedGender, SelectedAge, TimeMeasure_Mean, TimeMeasure_Std) ~ Rec_Session_Id + Crowdsourcing_SubjId, data=exp1_rawdata.sub, unique),\n",
    "      aggregate(cbind(responseError, RT_inrange, Prime_inrange) ~ Rec_Session_Id + Crowdsourcing_SubjId, mean, data=exp1_rawdata.sub)\n",
    "  )\n",
    "}\n",
    ")\n",
    "\n",
    "exp1_info$summary <- exp1_info$summary[, -grep(\"Rec_Session_Id.|Crowdsourcing_SubjId.\", colnames(exp1_info$summary))] # remove all extra aggregating columns (subj ID)\n",
    "\n",
    "exp1_info$summary$Duration <- interval(ymd_hms(exp1_info$summary$Start_Time), \n",
    "                                             ymd_hms(exp1_info$summary$End_Time_Local)) |>\n",
    "                                      lapply(function(interval_value) {interval_value/dminutes(1)}) |> \n",
    "                                           unlist()"
   ],
   "id": "be259125-073a-4d98-8723-6a881b9363f1"
  },
  {
   "cell_type": "markdown",
   "metadata": {},
   "source": [
    "### Step 1: subject and item performance"
   ],
   "id": "4007aa1c-e8fe-4948-b449-475b51cc7bb1"
  },
  {
   "cell_type": "code",
   "execution_count": null,
   "metadata": {},
   "outputs": [
    {
     "output_type": "stream",
     "name": "stderr",
     "text": [
      "`summarise()` has grouped output by 'condition_rec'. You can override using the\n",
      "`.groups` argument."
     ]
    }
   ],
   "source": [
    "#| label: exp1_performance\n",
    "\n",
    "exp1_step1_goodsubj <- exp1_info$summary |>\n",
    "  subset(responseError <= .3) \n",
    "\n",
    "exp1_step1_subj_remain <- exp1_step1_goodsubj |> nrow()\n",
    "\n",
    "exp1_step1_item.err <- exp1_rawdata.sub %>% group_by(condition_rec, target_rec) %>%\n",
    "  summarise(word.percent=mean(responseError)*100) %>% \n",
    "  filter(word.percent > 30)"
   ],
   "id": "5ec39b73-f03e-4176-bfd6-8e801e1de87a"
  },
  {
   "cell_type": "markdown",
   "metadata": {},
   "source": [
    "### Step 2: prime durations"
   ],
   "id": "9b75db9d-3bde-4b8d-a489-5450e9668afa"
  },
  {
   "cell_type": "code",
   "execution_count": null,
   "metadata": {},
   "outputs": [],
   "source": [
    "#| label: exp1_prime-durations\n",
    "\n",
    "exp1_summary.primeTime <- exp1_rawdata.sub %>% \n",
    "  summarise(meanPrimeTime = round(mean(primeTime), 2), \n",
    "            sdPrimeTime = round(sd(primeTime), 2))\n",
    "\n",
    "exp1_primeTimeRangeSummary <- exp1_rawdata.sub %>% \n",
    "  group_by(primeTime) %>%\n",
    "  mutate(range = ifelse(primeTime < exp1_info$prime_dur_lb, \"below\", \n",
    "                        ifelse(primeTime > exp1_info$prime_dur_ub, \"above\",\n",
    "                               \"in range\"))) %>% \n",
    "  group_by(range) %>% tally() %>% ungroup() %>%\n",
    "  mutate(range.percent = round((n*100)/nrow(exp1_rawdata.sub),2))\n",
    "\n",
    "exp1_data_step2 <- exp1_data_step1  |>\n",
    "  subset(primeTime >= exp1_info$prime_dur_lb & primeTime <= exp1_info$prime_dur_ub)\n",
    "\n",
    "exp1_step2_subj_remain <- exp1_data_step2$Rec_Session_Id |>\n",
    "  unique() |>\n",
    "  length()\n",
    "\n",
    "exp1_step2_trials_remain <- nrow(exp1_data_step2)"
   ],
   "id": "9742c6c0-9552-453b-94c8-7077427684b0"
  },
  {
   "cell_type": "markdown",
   "metadata": {},
   "source": [
    "### Step 3: RT analysis"
   ],
   "id": "00019d47-cbbf-40f6-a4d3-bafafb831372"
  },
  {
   "cell_type": "code",
   "execution_count": null,
   "metadata": {},
   "outputs": [],
   "source": [
    "#| label: exp1_RT-outliers\n",
    "\n",
    "# RT outliers \n",
    "exp1_data_step3 <- exp1_data_step2 |> \n",
    "  subset(RT >= exp1_info$rt_lb & RT <= exp1_info$rt_ub)\n",
    "\n",
    "exp1_step3_subj_remain <- exp1_data_step3$Rec_Session_Id |>\n",
    "  unique() |>\n",
    "  length()\n",
    "\n",
    "exp1_step3_trials_remain <- nrow(exp1_data_step3)\n",
    "\n",
    "# error trial removal\n",
    "\n",
    "exp1_data_step3b <- exp1_data_step3  |>\n",
    "  subset(responseError == 0)\n",
    "\n",
    "exp1_step3b_subj_remain <- exp1_data_step3b$Rec_Session_Id |>\n",
    "  unique() |>\n",
    "  length()\n",
    "\n",
    "exp1_step3b_trials_remain <- nrow(exp1_data_step3b)\n",
    "\n",
    "# remove subjects with less than 12 trials in at least one condition*primetype combination (half of the total number of items per combination)\n",
    "rt_data_labels <- c(\"Rec_Session_Id\", \"condition_rec\", \"primetype_rec\", \"RT\")\n",
    "\n",
    "exp1_subj_filter_2 <- exp1_data_step3b[, rt_data_labels] |>\n",
    "  aggregate(RT ~ ., FUN = length, drop = FALSE) |>\n",
    "  subset(RT < 7, select = Rec_Session_Id) |>\n",
    "  unique() |>\n",
    "  unlist()\n",
    "\n",
    "### we also want to sure that all subjects have all conditions; in case some subject had all the trials for a given condition lost down the road, they will be removed\n",
    "exp1_subj_filter_conditions <- \n",
    "  exp1_data_step3b %>%\n",
    "  group_by(Rec_Session_Id) %>% \n",
    "  distinct(condition_rec, primetype_rec) %>% \n",
    "  tally() %>% filter(n != 6) %>% pull(Rec_Session_Id)\n",
    "\n",
    "exp1_data_final <- exp1_data_step3b |>\n",
    "  subset(!(Rec_Session_Id %in% exp1_subj_filter_2) & !(Rec_Session_Id %in% exp1_subj_filter_conditions)) %>%\n",
    "  mutate(condition_rec = as.factor(condition_rec), primetype_rec=as.factor(primetype_rec))\n",
    "\n",
    "exp1_final_subj_remain <- exp1_data_final$Rec_Session_Id |>\n",
    "  unique() |> \n",
    "  length()\n",
    "  \n",
    "exp1_final_trials_remain <- nrow(exp1_data_final)"
   ],
   "id": "161ca7e9-8c57-40da-9222-6c81a9c10148"
  },
  {
   "cell_type": "markdown",
   "metadata": {},
   "source": [
    "## Results"
   ],
   "id": "e7e232c2-b181-485f-971b-eccb636ad9c2"
  },
  {
   "cell_type": "code",
   "execution_count": null,
   "metadata": {},
   "outputs": [
    {
     "output_type": "stream",
     "name": "stderr",
     "text": [
      "`summarise()` has grouped output by 'condition_rec', 'primetype_rec'. You can\n",
      "override using the `.groups` argument."
     ]
    },
    {
     "output_type": "stream",
     "name": "stderr",
     "text": [
      "`summarise()` has grouped output by 'Rec_Session_Id', 'condition_rec'. You can\n",
      "override using the `.groups` argument."
     ]
    },
    {
     "output_type": "stream",
     "name": "stderr",
     "text": [
      "`summarise()` has grouped output by 'Rec_Session_Id', 'condition_rec'. You can\n",
      "override using the `.groups` argument."
     ]
    },
    {
     "output_type": "stream",
     "name": "stderr",
     "text": [
      "`summarise()` has grouped output by 'condition_rec'. You can override using the\n",
      "`.groups` argument."
     ]
    },
    {
     "output_type": "stream",
     "name": "stdout",
     "text": [
      "Analysis of Deviance Table (Type III Wald chisquare tests)\n",
      "\n",
      "Response: responseError\n",
      "                              Chisq Df Pr(>Chisq)    \n",
      "(Intercept)                 3028.42  1  < 2.2e-16 ***\n",
      "condition_rec                 14.61  2  0.0006722 ***\n",
      "primetype_rec                253.46  1  < 2.2e-16 ***\n",
      "condition_rec:primetype_rec  307.44  2  < 2.2e-16 ***\n",
      "---\n",
      "Signif. codes:  0 '***' 0.001 '**' 0.01 '*' 0.05 '.' 0.1 ' ' 1"
     ]
    },
    {
     "output_type": "stream",
     "name": "stdout",
     "text": [
      "$emmeans\n",
      "condition_rec = high:\n",
      " primetype_rec emmean     SE  df asymp.LCL asymp.UCL\n",
      " related        -4.48 0.1326 Inf     -4.74     -4.22\n",
      " unrelated      -3.90 0.1295 Inf     -4.16     -3.65\n",
      "\n",
      "condition_rec = low:\n",
      " primetype_rec emmean     SE  df asymp.LCL asymp.UCL\n",
      " related        -3.96 0.1296 Inf     -4.21     -3.71\n",
      " unrelated      -3.22 0.1275 Inf     -3.47     -2.97\n",
      "\n",
      "condition_rec = non-word:\n",
      " primetype_rec emmean     SE  df asymp.LCL asymp.UCL\n",
      " related        -3.61 0.0920 Inf     -3.79     -3.43\n",
      " unrelated      -3.72 0.0923 Inf     -3.90     -3.54\n",
      "\n",
      "Results are given on the logit (not the response) scale. \n",
      "Confidence level used: 0.95 \n",
      "\n",
      "$contrasts\n",
      "condition_rec = high:\n",
      " contrast            estimate     SE  df z.ratio p.value\n",
      " related - unrelated   -0.579 0.0555 Inf -10.421  <.0001\n",
      "\n",
      "condition_rec = low:\n",
      " contrast            estimate     SE  df z.ratio p.value\n",
      " related - unrelated   -0.739 0.0419 Inf -17.616  <.0001\n",
      "\n",
      "condition_rec = non-word:\n",
      " contrast            estimate     SE  df z.ratio p.value\n",
      " related - unrelated    0.107 0.0305 Inf   3.502  0.0005\n",
      "\n",
      "Results are given on the log odds ratio (not the response) scale. "
     ]
    },
    {
     "output_type": "stream",
     "name": "stdout",
     "text": [
      "Analysis of Deviance Table (Type III Wald chisquare tests)\n",
      "\n",
      "Response: RT\n",
      "                                 Chisq Df Pr(>Chisq)    \n",
      "(Intercept)                 1232876.53  1  < 2.2e-16 ***\n",
      "condition_rec                  2978.35  2  < 2.2e-16 ***\n",
      "primetype_rec                  1531.12  1  < 2.2e-16 ***\n",
      "condition_rec:primetype_rec     870.27  2  < 2.2e-16 ***\n",
      "---\n",
      "Signif. codes:  0 '***' 0.001 '**' 0.01 '*' 0.05 '.' 0.1 ' ' 1"
     ]
    },
    {
     "output_type": "stream",
     "name": "stderr",
     "text": [
      "Warning in as.data.frame.emm_list(.): Note: 'as.data.frame' has combined your 2 sets of results into one object,\n",
      "and this affects things like adjusted P values. Refer to the annotations."
     ]
    },
    {
     "output_type": "stream",
     "name": "stderr",
     "text": [
      "Warning: There was 1 warning in `mutate()`.\n",
      "ℹ In argument: `across(c(13), round, 2)`.\n",
      "Caused by warning:\n",
      "! The `...` argument of `across()` is deprecated as of dplyr 1.1.0.\n",
      "Supply arguments directly to `.fns` through an anonymous function instead.\n",
      "\n",
      "  # Previously\n",
      "  across(a:b, mean, na.rm = TRUE)\n",
      "\n",
      "  # Now\n",
      "  across(a:b, \\(x) mean(x, na.rm = TRUE))"
     ]
    }
   ],
   "source": [
    "#| label: exp1_results\n",
    "\n",
    "# error rates averages\n",
    "### we also want to sure that all subjects have all conditions; in case some subject had all the trials for a given condition lost down the road, they will be removed. Crucially the trial calculations are made on the dataset *before* the trial error removal step\n",
    "exp1_subj_filter_2_with.errors <- exp1_data_step3[, rt_data_labels] |>\n",
    "  aggregate(RT ~ ., FUN = length, drop = FALSE) |>\n",
    "  subset(RT < 7, select = Rec_Session_Id) |>\n",
    "  unique() |>\n",
    "  unlist()\n",
    "# this step just makes sure that the same subjects will be removed from both datasets\n",
    "exp1_subj_filter_2_with.errors <- union(exp1_subj_filter_2_with.errors, exp1_subj_filter_2)\n",
    "\n",
    "### just making sure that all subjects have all conditions; in case some subject had all the trials for a given condition lost down the road, they will be removed\n",
    "exp1_subj_filter_conditions_with.errors <- \n",
    "  exp1_data_step3 %>%\n",
    "  group_by(Rec_Session_Id) %>% \n",
    "  distinct(condition_rec, primetype_rec) %>% \n",
    "  tally() %>% filter(n != 6) %>% pull(Rec_Session_Id)\n",
    "\n",
    "exp1_data_final_with.errors <- exp1_data_step3 |>\n",
    "  subset(!(Rec_Session_Id %in% exp1_subj_filter_2_with.errors) & \n",
    "           !(Rec_Session_Id %in% exp1_subj_filter_conditions_with.errors)) \n",
    "\n",
    "exp1_error.rates <- exp1_data_final_with.errors %>%\n",
    "  mutate(primetype_rec = factor(primetype_rec, levels=c(\"unrelated\", \"related\")),\n",
    "         condition_rec = factor(condition_rec, levels=c(\"high\", \"low\", \"non-word\"))) %>%\n",
    "  group_by(condition_rec, primetype_rec, Rec_Session_Id) %>%\n",
    "  summarise(error.percent=mean(responseError)*100)"
   ],
   "id": "8b466a88-5980-472b-968e-a979dbb4b11c"
  },
  {
   "cell_type": "markdown",
   "metadata": {},
   "source": [
    "#### Stats summary"
   ],
   "id": "c374b7a9-22b3-4d64-b672-4d7d7933ab91"
  },
  {
   "cell_type": "code",
   "execution_count": null,
   "metadata": {
    "tbl-pos": "h"
   },
   "outputs": [
    {
     "output_type": "display_data",
     "metadata": {},
     "data": {
      "text/html": [
       "\n",
       "</div>"
      ],
      "text/markdown": [
       "  -----------------------------------------------------------------------------------------------------------------------------------------------------------------------------------------------------------------------\n",
       "  factor                [unrelated                              [repetition                             cor     [priming                                              [*t*-test]{.gt_column_spanner}          \n",
       "                        RT]{.gt_column_spanner}                 RT]{.gt_column_spanner}                         effects]{.gt_column_spanner}                                                                  \n",
       "  --------------------- ------------------------- ----- ------- ------------------------- ----- ------- ------- ------------------------------ ------ ------- ------- -------------------------------- ------ -----------\n",
       "                        mean                      SD    Error   mean                      SD    Error           MOP                            95% CI SD~p~   ES      *t*                              df     *p*\n",
       "                                                        (%)                                     (%)                                                                                                           \n",
       "\n",
       "  high                  573                       83    3       555                       85    2       0.860   18                             \\[16   45      0.41    19.7                             2340   2.88e-80\n",
       "                                                                                                                                               20\\]                                                           \n",
       "\n",
       "  low                   605                       88    6       577                       88    3       0.850   28                             \\[26   49      0.58    27.8                             2340   1.52e-147\n",
       "                                                                                                                                               30\\]                                                           \n",
       "\n",
       "  non-word              623                       103   4       625                       103   4       0.910   -2                             \\[-4   43      -0.05   -2.33                            2340   0.0197\n",
       "                                                                                                                                               0\\]                                                            \n",
       "\n",
       "  frequency:primetype   \\                         \\     \\       \\                         \\     \\       0.029   10                             \\[7    66      0.15    7.24                             2340   5.86e-13\n",
       "                                                                                                                                               13\\]                                                           \n",
       "  -----------------------------------------------------------------------------------------------------------------------------------------------------------------------------------------------------------------------\n"
      ]
     }
    }
   ],
   "source": [
    "#| echo: false\n",
    "#| label: tbl-exp1-statsResults-anova\n",
    "#| tbl-cap: \"Experiment 1. Summary of the word priming results within the ANOVA model. *Legend.* MOP: magnitude of priming.\"\n",
    "#| tbl-pos: 'h'\n",
    "\n",
    "exp1_summary.results_mop <- merge(exp1_gdavg_mop_summary, exp1_rt_stats_main, by='factor')\n",
    "exp1_summary.results_fae <- merge(exp1_gdavg_fae_summary, exp1_rt_stats_interaction, by='factor') |>\n",
    "  select(-mean_high, -mean_low)\n",
    "\n",
    "exp1_summary.results <- bind_rows(exp1_summary.results_mop, exp1_summary.results_fae)\n",
    "  \n",
    "exp1_summary.results %>%\n",
    "  relocate(c(\"sd_unrelated\", \"mean.error_unrelated\"), .before=gd.mean_related) %>%\n",
    "  gt() %>%\n",
    "  cols_label(\n",
    "    CI = \"95% CI\",\n",
    "    contains(\"mean\") ~ \"mean\",\n",
    "    contains(\"sd\") ~ \"SD\", \n",
    "    contains(\"error\") ~ \"Error (%)\"\n",
    "  ) %>%\n",
    "  tab_spanner(\n",
    "    label = \"unrelated RT\",\n",
    "    columns = c(2:4)\n",
    "  ) %>%\n",
    "  tab_spanner(\n",
    "    label = \"repetition RT\",\n",
    "    columns = c(5:7)\n",
    "  ) %>%\n",
    "  tab_spanner(\n",
    "    label = 'priming effects',\n",
    "    columns = c(9:12)\n",
    "  ) %>%\n",
    "  tab_spanner(\n",
    "    label = md(\"_t_-test\"),\n",
    "    columns = c(13:15)\n",
    "  ) %>%\n",
    "  cols_label(\n",
    "    sd = md(\"SD~p~\")\n",
    "  ) %>%\n",
    "  cols_label(\n",
    "    t = md(\"_t_\"),\n",
    "    p = md(\"_p_\"),\n",
    "  ) %>%\n",
    "   sub_missing(\n",
    "    missing_text = \" \"\n",
    "  )"
   ],
   "id": "26cb4c6f-e41d-4eaa-9b9d-6b87d377c625"
  },
  {
   "cell_type": "code",
   "execution_count": null,
   "metadata": {
    "tbl-pos": "h"
   },
   "outputs": [
    {
     "output_type": "display_data",
     "metadata": {},
     "data": {
      "text/html": [
       "\n",
       "</div>"
      ],
      "text/markdown": [
       "  ---------------------------------------------------------------------------------------------------------------------------------------------------------\n",
       "  factor                 [unrelated                                [repetition                               [priming                               \n",
       "                         RT]{.gt_column_spanner}                   RT]{.gt_column_spanner}                   effects]{.gt_column_spanner}           \n",
       "  ---------------------- ------------------------- ------- ------- ------------------------- ------- ------- ------------------------------ ------- -------\n",
       "                         mean                      95% CI  SE      mean                      95% CI  SE      MOP                            95% CI  SE\n",
       "\n",
       "  high                   604                       \\[607   0.85    585                       \\[588   0.90    19                             \\[17    0.63\n",
       "                                                   602\\]                                     583\\]                                          21\\]    \n",
       "\n",
       "  low                    634                       \\[637   0.73    606                       \\[608   0.83    28                             \\[26    0.84\n",
       "                                                   632\\]                                     604\\]                                          31\\]    \n",
       "\n",
       "  non-word               645                       \\[647   0.75    647                       \\[649   0.84    -2                             \\[-4    0.62\n",
       "                                                   643\\]                                     645\\]                                          0\\]     \n",
       "\n",
       "  frequency\\*primetype   \\                         \\       \\       \\                         \\       \\       9                              \\[7     1.03\n",
       "                                                                                                                                            12\\]    \n",
       "  ---------------------------------------------------------------------------------------------------------------------------------------------------------\n"
      ]
     }
    }
   ],
   "source": [
    "#| echo: false\n",
    "#| label: tbl-exp1-statsResults-glmm\n",
    "#| tbl-cap: \"Experiment 1. Summary of the word priming results within the GLMM model. *Legend.* MOP: magnitude of priming.\"\n",
    "#| tbl-pos: 'h'\n",
    "\n",
    "exp1_summary.results_glmm <- bind_rows(exp1_emmeans_glmm, exp1_emmeans_glmm_fae)\n",
    "  \n",
    "exp1_summary.results_glmm %>%\n",
    "  gt() %>%\n",
    "  cols_label(\n",
    "    contains(\"CI\") ~ \"95% CI\",\n",
    "    contains(\"emmean\") ~ \"mean\",\n",
    "    contains(\"SE\") ~ \"SE\"\n",
    "  ) %>%\n",
    "  tab_spanner(\n",
    "    label = \"unrelated RT\",\n",
    "    columns = c(2:4)\n",
    "  ) %>%\n",
    "  tab_spanner(\n",
    "    label = \"repetition RT\",\n",
    "    columns = c(5:7)\n",
    "  ) %>%\n",
    "  tab_spanner(\n",
    "    label = 'priming effects',\n",
    "    columns = c(8:10)\n",
    "  ) %>%\n",
    "   sub_missing(\n",
    "    missing_text = \" \"\n",
    "  )"
   ],
   "id": "3fa2681e-2885-4959-b790-ea98f3e649d1"
  }
 ],
 "nbformat": 4,
 "nbformat_minor": 5,
 "metadata": {}
}
