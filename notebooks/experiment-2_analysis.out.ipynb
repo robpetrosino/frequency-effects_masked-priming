{
 "cells": [
  {
   "cell_type": "markdown",
   "metadata": {},
   "source": [
    "# Script C: Experiment 2"
   ],
   "id": "ecfec4cc-84a8-4a8c-941e-9d4a71c7af6a"
  },
  {
   "cell_type": "code",
   "execution_count": null,
   "metadata": {},
   "outputs": [
    {
     "output_type": "stream",
     "name": "stderr",
     "text": [
      "── Attaching core tidyverse packages ──────────────────────── tidyverse 2.0.0 ──\n",
      "✔ dplyr     1.1.3     ✔ readr     2.1.4\n",
      "✔ forcats   1.0.0     ✔ stringr   1.5.0\n",
      "✔ ggplot2   3.4.4     ✔ tibble    3.2.1\n",
      "✔ lubridate 1.9.3     ✔ tidyr     1.3.0\n",
      "✔ purrr     1.0.2     \n",
      "── Conflicts ────────────────────────────────────────── tidyverse_conflicts() ──\n",
      "✖ dplyr::filter() masks stats::filter()\n",
      "✖ dplyr::lag()    masks stats::lag()\n",
      "ℹ Use the conflicted package (<http://conflicted.r-lib.org/>) to force all conflicts to become errors"
     ]
    },
    {
     "output_type": "stream",
     "name": "stderr",
     "text": [
      "\n",
      "Attaching package: 'rstatix'\n",
      "\n",
      "The following object is masked from 'package:stats':\n",
      "\n",
      "    filter"
     ]
    },
    {
     "output_type": "stream",
     "name": "stderr",
     "text": [
      "here() starts at /Users/rp3650/Library/CloudStorage/GoogleDrive-robpetrosino@gmail.com/My Drive/Academics/projects/morphology/morphological-decomposition/sub-projects/frequency-effects/frequency-effect_masked-priming"
     ]
    }
   ],
   "source": [
    "library(osfr)\n",
    "library(tidyverse)\n"
   ],
   "id": "19cd8180-7d8d-4007-b442-cfd42273b7c2"
  },
  {
   "cell_type": "markdown",
   "metadata": {},
   "source": [
    "## Data analysis"
   ],
   "id": "1e521d31-c70c-4ffd-825e-b7d57e23e169"
  },
  {
   "cell_type": "code",
   "execution_count": null,
   "metadata": {},
   "outputs": [],
   "source": [
    "\n",
    "# load the raw data dataframe\n",
    "exp2_data_folder <- \"data/experiment2\"\n",
    "exp2_rawdata_filename <- \"experiment_2_preprocessed_data.csv\"\n",
    "\n",
    "## 02. check if the rawdata file exists. if not, download it from OSF.\n",
    "if (!file.exists(here(exp2_data_folder, exp2_rawdata_filename))) {\n",
    "  osf_retrieve_file(\"k3gpc\") |> \n",
    "    osf_download(path = here(exp2_data_folder),\n",
    "                 conflicts = \"overwrite\") \n",
    "}\n",
    "\n",
    "## 03. read the data into R.\n",
    "exp2_rawdata <- here(exp2_data_folder, exp2_rawdata_filename) |>\n",
    "  read.csv(na = c(\"\", \"NA\")) %>%\n",
    "  mutate(primeTime = primeDuration - maskDuration) %>% # calculating the actual SOA\n",
    "  rename(list = \"Group_Nr\")\n",
    "\n",
    "exp2_info <- list()\n",
    "exp2_info$intended_prime_duration <- 33\n",
    "exp2_info$prime_dur_lb <- 25\n",
    "exp2_info$prime_dur <- 50\n",
    "exp2_info$prime_dur_ub <- 60\n",
    "exp2_info$rt_lb <- 200\n",
    "exp2_info$rt_ub <- 1800\n",
    "exp2_info$freq_conditions <- c(\"high\", \"low\", \"non-word\")\n",
    "exp2_info$n_recruited <- exp2_rawdata$Rec_Session_Id |>\n",
    "  unique() |>\n",
    "  length()\n",
    "\n",
    "exp2_rawdata.sub <- exp2_rawdata %>%\n",
    "  filter(!is.na(TimeMeasure_Mean) & !is.na(primeDuration) & !is.na(responseError))\n",
    "\n",
    "exp2_subj.error <- exp2_rawdata.sub %>% group_by(Crowdsourcing_SubjId) %>%\n",
    "  summarise(mean.error = mean(responseError))\n",
    "            \n",
    "exp2_info$summary <- with(\n",
    "  transform(exp2_rawdata.sub,\n",
    "    RT_inrange = ifelse(RT >= exp2_info$rt_lb & RT <= exp2_info$rt_ub, 1, 0),\n",
    "    Prime_inrange = ifelse((primeDuration - maskDuration) >= exp2_info$prime_dur_lb &\n",
    "                             (primeDuration - maskDuration) <= exp2_info$prime_dur_ub, 1, 0)),\n",
    "  {\n",
    "    data.frame(aggregate(Start_Time ~ Rec_Session_Id + Crowdsourcing_SubjId, data=exp2_rawdata.sub, unique),\n",
    "               aggregate(End_Time_Local ~ Rec_Session_Id + Crowdsourcing_SubjId, data=exp2_rawdata.sub, unique),\n",
    "               aggregate(cbind(list, SelectedGender, SelectedAge) ~ Rec_Session_Id + Crowdsourcing_SubjId, data=exp2_rawdata.sub, unique),\n",
    "      aggregate(cbind(responseError, RT_inrange, Prime_inrange) ~ Rec_Session_Id + Crowdsourcing_SubjId, mean, data=exp2_rawdata.sub)\n",
    "  )\n",
    "}\n",
    ")\n",
    "\n",
    "exp2_info$summary <- exp2_info$summary[, -grep(\"Rec_Session_Id.|Crowdsourcing_SubjId.\", colnames(exp2_info$summary))] # remove all extra aggregating columns (subj ID)\n",
    "\n",
    "exp2_info$summary$Duration <- interval(ymd_hms(exp2_info$summary$Start_Time), \n",
    "                                             ymd_hms(exp2_info$summary$End_Time_Local)) |>\n",
    "                                      lapply(function(interval_value) {interval_value/dminutes(1)}) |> \n",
    "                                           unlist()\n"
   ],
   "id": "93662c73-bdb3-4a79-91bf-ef34d2b9f5dc"
  },
  {
   "cell_type": "markdown",
   "metadata": {},
   "source": [
    "### Step 1: subject and item performance"
   ],
   "id": "e4563b8f-a542-4cec-8d5c-c32f5ef33a2d"
  },
  {
   "cell_type": "code",
   "execution_count": null,
   "metadata": {},
   "outputs": [
    {
     "output_type": "stream",
     "name": "stderr",
     "text": [
      "`summarise()` has grouped output by 'condition_rec'. You can override using the\n",
      "`.groups` argument."
     ]
    }
   ],
   "source": [
    "\n",
    "exp2_step1_goodsubj <- exp2_info$summary |>\n",
    "  subset(responseError <= .3) \n",
    "\n",
    "exp2_step1_subj_remain <- exp2_step1_goodsubj |> nrow()\n",
    "\n",
    "exp2_step1_item.err <- exp2_rawdata.sub %>% group_by(condition_rec, target_rec) %>%\n",
    "  summarise(word.percent=mean(responseError)*100) %>% \n",
    "  filter(word.percent > 30)\n"
   ],
   "id": "263da569-1487-4e5c-ab7b-7fa2589877b7"
  },
  {
   "cell_type": "markdown",
   "metadata": {},
   "source": [
    "### Step 2: prime durations"
   ],
   "id": "d65666a0-b072-41dc-ad9e-6a5b6eebb1bc"
  },
  {
   "cell_type": "code",
   "execution_count": null,
   "metadata": {},
   "outputs": [],
   "source": [
    "\n",
    "exp2_summary.primeTime <- exp2_rawdata.sub %>% \n",
    "  summarise(meanPrimeTime = round(mean(primeTime), 2), \n",
    "            sdPrimeTime = round(sd(primeTime), 2))\n",
    "\n",
    "exp2_primeTimeRangeSummary <- exp2_rawdata.sub %>% \n",
    "  group_by(primeTime) %>%\n",
    "  mutate(range = ifelse(primeTime < exp2_info$prime_dur_lb, \"below\", \n",
    "                        ifelse(primeTime > exp2_info$prime_dur_ub, \"above\",\n",
    "                               \"in range\"))) %>% \n",
    "  group_by(range) %>% tally() %>% ungroup() %>%\n",
    "  mutate(range.percent = round((n*100)/nrow(exp2_rawdata.sub),2))\n",
    "\n",
    "exp2_data_step2 <- exp2_data_step1  |>\n",
    "  subset(primeTime >= exp2_info$prime_dur_lb & primeTime <= exp2_info$prime_dur_ub)\n",
    "\n",
    "exp2_step2_subj_remain <- exp2_data_step2$Rec_Session_Id |>\n",
    "  unique() |>\n",
    "  length()\n",
    "\n",
    "exp2_step2_trials_remain <- nrow(exp2_data_step2)\n"
   ],
   "id": "3898e2a1-0cec-453f-8be4-5f806de46a45"
  },
  {
   "cell_type": "markdown",
   "metadata": {},
   "source": [
    "### Step 3: RT distribution"
   ],
   "id": "8242012f-9c11-4a61-a2b3-0e72c4b4495e"
  },
  {
   "cell_type": "code",
   "execution_count": null,
   "metadata": {},
   "outputs": [],
   "source": [
    "\n",
    "# RT outliers \n",
    "exp2_data_step3 <- exp2_data_step2 |> \n",
    "  subset(RT >= exp2_info$rt_lb & RT <= exp2_info$rt_ub)\n",
    "\n",
    "exp2_step3_subj_remain <- exp2_data_step3$Rec_Session_Id |>\n",
    "  unique() |>\n",
    "  length()\n",
    "\n",
    "exp2_step3_trials_remain <- nrow(exp2_data_step3)\n",
    "\n",
    "# error trial removal\n",
    "\n",
    "exp2_data_step3b <- exp2_data_step3  |>\n",
    "  subset(responseError == 0)\n",
    "\n",
    "exp2_step3b_subj_remain <- exp2_data_step3b$Rec_Session_Id |>\n",
    "  unique() |>\n",
    "  length()\n",
    "\n",
    "exp2_step3b_trials_remain <- nrow(exp2_data_step3b)\n",
    "\n",
    "# remove subjects with less than 7 trials in at least one condition*primetype combination (half of the total number of items per combination)\n",
    "rt_data_labels <- c(\"Rec_Session_Id\", \"condition_rec\", \"primetype_rec\", \"RT\")\n",
    "\n",
    "exp2_subj_filter_2 <- exp2_data_step3b[, rt_data_labels] |>\n",
    "  aggregate(RT ~ ., FUN = length, drop = FALSE) |>\n",
    "  subset(RT < 7, select = Rec_Session_Id) |>\n",
    "  unique() |>\n",
    "  unlist()\n",
    "\n",
    "### we also want to sure that all subjects have all conditions; in case some subject had all the trials for a given condition lost down the road, they will be removed\n",
    "exp2_subj_filter_conditions <- \n",
    "  exp2_data_step3b %>%\n",
    "  group_by(Rec_Session_Id) %>% \n",
    "  distinct(condition_rec, primetype_rec) %>% \n",
    "  tally() %>% filter(n != 6) %>% pull(Rec_Session_Id)\n",
    "\n",
    "exp2_data_final <- exp2_data_step3b |>\n",
    "  subset(!(Rec_Session_Id %in% exp2_subj_filter_2) & !(Rec_Session_Id %in% exp2_subj_filter_conditions)) %>%\n",
    "  mutate(condition_rec = as.factor(condition_rec), primetype_rec=as.factor(primetype_rec))\n",
    "\n",
    "exp2_final_subj_remain <- exp2_data_final$Rec_Session_Id |>\n",
    "  unique() |> \n",
    "  length()\n",
    "  \n",
    "exp2_final_trials_remain <- nrow(exp2_data_final)\n"
   ],
   "id": "b6f0fbb6-d064-43c4-a60a-99ac8663d24e"
  },
  {
   "cell_type": "markdown",
   "metadata": {},
   "source": [
    "## Results"
   ],
   "id": "9be003c0-8b18-4f2c-8db6-46308598cb65"
  },
  {
   "cell_type": "code",
   "execution_count": null,
   "metadata": {},
   "outputs": [
    {
     "output_type": "stream",
     "name": "stderr",
     "text": [
      "`summarise()` has grouped output by 'condition_rec', 'primetype_rec'. You can\n",
      "override using the `.groups` argument."
     ]
    },
    {
     "output_type": "stream",
     "name": "stderr",
     "text": [
      "`summarise()` has grouped output by 'Rec_Session_Id', 'condition_rec'. You can\n",
      "override using the `.groups` argument."
     ]
    },
    {
     "output_type": "stream",
     "name": "stderr",
     "text": [
      "`summarise()` has grouped output by 'Rec_Session_Id', 'condition_rec'. You can\n",
      "override using the `.groups` argument."
     ]
    },
    {
     "output_type": "stream",
     "name": "stderr",
     "text": [
      "`summarise()` has grouped output by 'condition_rec'. You can override using the\n",
      "`.groups` argument."
     ]
    },
    {
     "output_type": "stream",
     "name": "stderr",
     "text": [
      "Loading required package: Matrix\n",
      "\n",
      "Attaching package: 'Matrix'\n",
      "\n",
      "The following objects are masked from 'package:tidyr':\n",
      "\n",
      "    expand, pack, unpack"
     ]
    },
    {
     "output_type": "stream",
     "name": "stderr",
     "text": [
      "Loading required package: carData\n",
      "\n",
      "Attaching package: 'car'\n",
      "\n",
      "The following object is masked from 'package:dplyr':\n",
      "\n",
      "    recode\n",
      "\n",
      "The following object is masked from 'package:purrr':\n",
      "\n",
      "    some"
     ]
    },
    {
     "output_type": "stream",
     "name": "stdout",
     "text": [
      "Analysis of Deviance Table (Type III Wald chisquare tests)\n",
      "\n",
      "Response: responseError\n",
      "                               Chisq Df Pr(>Chisq)    \n",
      "(Intercept)                 3016.539  1  < 2.2e-16 ***\n",
      "condition_rec                 22.196  2  1.514e-05 ***\n",
      "primetype_rec                262.276  1  < 2.2e-16 ***\n",
      "condition_rec:primetype_rec  283.571  2  < 2.2e-16 ***\n",
      "---\n",
      "Signif. codes:  0 '***' 0.001 '**' 0.01 '*' 0.05 '.' 0.1 ' ' 1"
     ]
    },
    {
     "output_type": "stream",
     "name": "stdout",
     "text": [
      "Analysis of Deviance Table (Type III Wald chisquare tests)\n",
      "\n",
      "Response: RT\n",
      "                                Chisq Df Pr(>Chisq)    \n",
      "(Intercept)                 1949622.3  1  < 2.2e-16 ***\n",
      "condition_rec                  2613.3  2  < 2.2e-16 ***\n",
      "primetype_rec                  1700.5  1  < 2.2e-16 ***\n",
      "condition_rec:primetype_rec    1158.9  2  < 2.2e-16 ***\n",
      "---\n",
      "Signif. codes:  0 '***' 0.001 '**' 0.01 '*' 0.05 '.' 0.1 ' ' 1"
     ]
    },
    {
     "output_type": "stream",
     "name": "stderr",
     "text": [
      "Warning: There was 1 warning in `mutate()`.\n",
      "ℹ In argument: `across(c(13), round, 2)`.\n",
      "Caused by warning:\n",
      "! The `...` argument of `across()` is deprecated as of dplyr 1.1.0.\n",
      "Supply arguments directly to `.fns` through an anonymous function instead.\n",
      "\n",
      "  # Previously\n",
      "  across(a:b, mean, na.rm = TRUE)\n",
      "\n",
      "  # Now\n",
      "  across(a:b, \\(x) mean(x, na.rm = TRUE))"
     ]
    }
   ],
   "source": [
    "\n",
    "# error rates averages\n",
    "### we also want to sure that all subjects have all conditions; in case some subject had all the trials for a given condition lost down the road, they will be removed. Crucially the trial calculations are made on the dataset *before* the trial error removal step\n",
    "exp2_subj_filter_2_with.errors <- exp2_data_step3[, rt_data_labels] |>\n",
    "  aggregate(RT ~ ., FUN = length, drop = FALSE) |>\n",
    "  subset(RT < 7, select = Rec_Session_Id) |>\n",
    "  unique() |>\n",
    "  unlist()\n",
    "# this step just makes sure that the same subjects will be removed from both datasets\n",
    "exp2_subj_filter_2_with.errors <- union(exp2_subj_filter_2_with.errors, exp2_subj_filter_2)\n",
    "\n",
    "### just making sure that all subjects have all conditions; in case some subject had all the trials for a given condition lost down the road, they will be removed\n",
    "exp2_subj_filter_conditions_with.errors <- \n",
    "  exp2_data_step3 %>%\n",
    "  group_by(Rec_Session_Id) %>% \n",
    "  distinct(condition_rec, primetype_rec) %>% \n",
    "  tally() %>% filter(n != 6) %>% pull(Rec_Session_Id)\n",
    "\n",
    "exp2_data_final_with.errors <- exp2_data_step3 |>\n",
    "  subset(!(Rec_Session_Id %in% exp2_subj_filter_2_with.errors) & \n",
    "           !(Rec_Session_Id %in% exp2_subj_filter_conditions_with.errors)) \n",
    "\n",
    "exp2_error.rates <- exp2_data_final_with.errors %>%\n",
    "  mutate(primetype_rec = factor(primetype_rec, levels=c(\"unrelated\", \"related\")),\n",
    "         condition_rec = factor(condition_rec, levels=c(\"high\", \"low\", \"non-word\"))) %>%\n",
    "  group_by(condition_rec, primetype_rec, Rec_Session_Id) %>%\n",
    "  summarise(error.percent=mean(responseError)*100)\n"
   ],
   "id": "0f90930e-d6e2-4e8c-b6fe-844f59cb009e"
  },
  {
   "cell_type": "markdown",
   "metadata": {},
   "source": [
    "#### Stats summary"
   ],
   "id": "46c28f45-0bad-4c69-a1e4-d0ee6f220f6c"
  },
  {
   "cell_type": "code",
   "execution_count": null,
   "metadata": {
    "tbl-pos": "h"
   },
   "outputs": [
    {
     "output_type": "display_data",
     "metadata": {},
     "data": {
      "text/html": [
       "\n",
       "</div>"
      ],
      "text/markdown": [
       "  -----------------------------------------------------------------------------------------------------------------------------------------------------------------------------------------------------------------------\n",
       "  factor                [unrelated                              [repetition                             cor     [priming                                              [*t*-test]{.gt_column_spanner}          \n",
       "                        RT]{.gt_column_spanner}                 RT]{.gt_column_spanner}                         effects]{.gt_column_spanner}                                                                  \n",
       "  --------------------- ------------------------- ----- ------- ------------------------- ----- ------- ------- ------------------------------ ------ ------- ------- -------------------------------- ------ -----------\n",
       "                        mean                      SD    Error   mean                      SD    Error           MOP                            95% CI SD~p~   ES      *t*                              df     *p*\n",
       "                                                        (%)                                     (%)                                                                                                           \n",
       "\n",
       "  high                  574                       83    3       548                       83    2       0.850   26                             \\[24   46      0.56    24.60                            1923   2.27e-116\n",
       "                                                                                                                                               28\\]                                                           \n",
       "\n",
       "  low                   605                       89    6       570                       89    3       0.840   35                             \\[33   51      0.69    30.19                            1923   3.51e-164\n",
       "                                                                                                                                               37\\]                                                           \n",
       "\n",
       "  non-word              629                       108   4       633                       110   5       0.900   -4                             \\[-6   50      -0.08   -3.53                            1923   4.32e-04\n",
       "                                                                                                                                               -2\\]                                                           \n",
       "\n",
       "  frequency:primetype   \\                         \\     \\       \\                         \\     \\       0.024   9                              \\[6    68      0.13    6.07                             1923   1.55e-09\n",
       "                                                                                                                                               12\\]                                                           \n",
       "  -----------------------------------------------------------------------------------------------------------------------------------------------------------------------------------------------------------------------\n"
      ]
     }
    }
   ],
   "source": [
    "\n",
    "exp2_summary.results_mop <- merge(exp2_gdavg_mop_summary, exp2_rt_stats_main, by='factor')\n",
    "exp2_summary.results_fae <- merge(exp2_gdavg_fae_summary, exp2_rt_stats_interaction, by='factor') |>\n",
    "  select(-mean_high, -mean_low)\n",
    "\n",
    "exp2_summary.results <- bind_rows(exp2_summary.results_mop, exp2_summary.results_fae)\n",
    "  \n",
    "exp2_summary.results %>%\n",
    "  mutate(t = round(t, 2)) %>%\n",
    "  relocate(c(\"sd_unrelated\", \"mean.error_unrelated\"), .before=gd.mean_related) %>%\n",
    "  gt() %>%\n",
    "  cols_label(\n",
    "    CI = \"95% CI\",\n",
    "    contains(\"mean\") ~ \"mean\",\n",
    "    contains(\"sd\") ~ \"SD\", \n",
    "    contains(\"error\") ~ \"Error (%)\"\n",
    "  ) %>%\n",
    "  tab_spanner(\n",
    "    label = \"unrelated RT\",\n",
    "    columns = c(2:4)\n",
    "  ) %>%\n",
    "  tab_spanner(\n",
    "    label = \"repetition RT\",\n",
    "    columns = c(5:7)\n",
    "  ) %>%\n",
    "  tab_spanner(\n",
    "    label = 'priming effects',\n",
    "    columns = c(9:12)\n",
    "  ) %>%\n",
    "  tab_spanner(\n",
    "    label = md(\"_t_-test\"),\n",
    "    columns = c(13:15)\n",
    "  ) %>%\n",
    "  cols_label(\n",
    "    sd = md(\"SD~p~\")\n",
    "  ) %>%\n",
    "  cols_label(\n",
    "    t = md(\"_t_\"),\n",
    "    p = md(\"_p_\"),\n",
    "  ) %>%\n",
    "   sub_missing(\n",
    "    missing_text = \" \"\n",
    "  )\n"
   ],
   "id": "8ee30ff9-f6e5-4d1b-bd56-77c387ea41cf"
  }
 ],
 "nbformat": 4,
 "nbformat_minor": 5,
 "metadata": {}
}
