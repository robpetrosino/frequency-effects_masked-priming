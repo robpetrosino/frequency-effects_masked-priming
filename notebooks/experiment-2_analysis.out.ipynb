{
 "cells": [
  {
   "cell_type": "markdown",
   "metadata": {},
   "source": [
    "# Script C: Experiment 2"
   ],
   "id": "ff603c62-329f-4c7c-96db-2db4e52863fe"
  },
  {
   "cell_type": "code",
   "execution_count": null,
   "metadata": {},
   "outputs": [
    {
     "output_type": "stream",
     "name": "stderr",
     "text": [
      "── Attaching core tidyverse packages ──────────────────────── tidyverse 2.0.0 ──\n",
      "✔ dplyr     1.1.4     ✔ readr     2.1.4\n",
      "✔ forcats   1.0.0     ✔ stringr   1.5.1\n",
      "✔ ggplot2   3.5.1     ✔ tibble    3.2.1\n",
      "✔ lubridate 1.9.3     ✔ tidyr     1.3.1\n",
      "✔ purrr     1.0.2     \n",
      "── Conflicts ────────────────────────────────────────── tidyverse_conflicts() ──\n",
      "✖ dplyr::filter() masks stats::filter()\n",
      "✖ dplyr::lag()    masks stats::lag()\n",
      "ℹ Use the conflicted package (<http://conflicted.r-lib.org/>) to force all conflicts to become errors"
     ]
    },
    {
     "output_type": "stream",
     "name": "stderr",
     "text": [
      "\n",
      "Attaching package: 'rstatix'\n",
      "\n",
      "The following object is masked from 'package:stats':\n",
      "\n",
      "    filter"
     ]
    },
    {
     "output_type": "stream",
     "name": "stderr",
     "text": [
      "here() starts at /Users/rp3650/Library/CloudStorage/GoogleDrive-robpetrosino@gmail.com/My Drive/Academics/projects/morphology/morphological-decomposition/sub-projects/frequency-effects/frequency-effect_masked-priming"
     ]
    },
    {
     "output_type": "stream",
     "name": "stderr",
     "text": [
      "Loading required package: Matrix\n",
      "\n",
      "Attaching package: 'Matrix'\n",
      "\n",
      "The following objects are masked from 'package:tidyr':\n",
      "\n",
      "    expand, pack, unpack"
     ]
    },
    {
     "output_type": "stream",
     "name": "stderr",
     "text": [
      "Loading required package: carData\n",
      "\n",
      "Attaching package: 'car'\n",
      "\n",
      "The following object is masked from 'package:dplyr':\n",
      "\n",
      "    recode\n",
      "\n",
      "The following object is masked from 'package:purrr':\n",
      "\n",
      "    some"
     ]
    }
   ],
   "source": [
    "library(osfr)\n",
    "library(tidyverse)\n"
   ],
   "id": "f753bd68-80c6-43bb-8278-08b481be47b5"
  },
  {
   "cell_type": "markdown",
   "metadata": {},
   "source": [
    "## Data analysis"
   ],
   "id": "ddd7f65d-4506-4ee2-a263-e7e850110174"
  },
  {
   "cell_type": "code",
   "execution_count": null,
   "metadata": {},
   "outputs": [],
   "source": [
    "\n",
    "# load the raw data dataframe\n",
    "exp2_data_folder <- \"data/experiment2\"\n",
    "exp2_rawdata_filename <- \"experiment_2_preprocessed_data.csv\"\n",
    "\n",
    "## 02. check if the rawdata file exists. if not, download it from OSF.\n",
    "if (!file.exists(here(exp2_data_folder, exp2_rawdata_filename))) {\n",
    "  osf_retrieve_file(\"k3gpc\") |> \n",
    "    osf_download(path = here(exp2_data_folder),\n",
    "                 conflicts = \"overwrite\") \n",
    "}\n",
    "\n",
    "## 03. read the data into R.\n",
    "exp2_rawdata <- here(exp2_data_folder, exp2_rawdata_filename) |>\n",
    "  read.csv(na = c(\"\", \"NA\")) %>%\n",
    "  mutate(primeTime = primeDuration - maskDuration) %>% # calculating the actual SOA\n",
    "  rename(list = \"Group_Nr\")\n",
    "\n",
    "exp2_info <- list()\n",
    "exp2_info$intended_prime_duration <- 33\n",
    "exp2_info$prime_dur_lb <- 25\n",
    "exp2_info$prime_dur <- 50\n",
    "exp2_info$prime_dur_ub <- 60\n",
    "exp2_info$rt_lb <- 200\n",
    "exp2_info$rt_ub <- 1800\n",
    "exp2_info$freq_conditions <- c(\"high\", \"low\", \"non-word\")\n",
    "exp2_info$n_recruited <- exp2_rawdata$Rec_Session_Id |>\n",
    "  unique() |>\n",
    "  length()\n",
    "\n",
    "exp2_rawdata.sub <- exp2_rawdata %>%\n",
    "  filter(!is.na(TimeMeasure_Mean) & !is.na(primeDuration) & !is.na(responseError))\n",
    "\n",
    "exp2_subj.error <- exp2_rawdata.sub %>% group_by(Crowdsourcing_SubjId) %>%\n",
    "  summarise(mean.error = mean(responseError))\n",
    "            \n",
    "exp2_info$summary <- with(\n",
    "  transform(exp2_rawdata.sub,\n",
    "    RT_inrange = ifelse(RT >= exp2_info$rt_lb & RT <= exp2_info$rt_ub, 1, 0),\n",
    "    Prime_inrange = ifelse((primeDuration - maskDuration) >= exp2_info$prime_dur_lb &\n",
    "                             (primeDuration - maskDuration) <= exp2_info$prime_dur_ub, 1, 0)),\n",
    "  {\n",
    "    data.frame(aggregate(Start_Time ~ Rec_Session_Id + Crowdsourcing_SubjId, data=exp2_rawdata.sub, unique),\n",
    "               aggregate(End_Time_Local ~ Rec_Session_Id + Crowdsourcing_SubjId, data=exp2_rawdata.sub, unique),\n",
    "               aggregate(cbind(list, SelectedGender, SelectedAge) ~ Rec_Session_Id + Crowdsourcing_SubjId, data=exp2_rawdata.sub, unique),\n",
    "      aggregate(cbind(responseError, RT_inrange, Prime_inrange) ~ Rec_Session_Id + Crowdsourcing_SubjId, mean, data=exp2_rawdata.sub)\n",
    "  )\n",
    "}\n",
    ")\n",
    "\n",
    "exp2_info$summary <- exp2_info$summary[, -grep(\"Rec_Session_Id.|Crowdsourcing_SubjId.\", colnames(exp2_info$summary))] # remove all extra aggregating columns (subj ID)\n",
    "\n",
    "exp2_info$summary$Duration <- interval(ymd_hms(exp2_info$summary$Start_Time), \n",
    "                                             ymd_hms(exp2_info$summary$End_Time_Local)) |>\n",
    "                                      lapply(function(interval_value) {interval_value/dminutes(1)}) |> \n",
    "                                           unlist()\n"
   ],
   "id": "90fda495-d419-40f0-9650-1956197789c7"
  },
  {
   "cell_type": "markdown",
   "metadata": {},
   "source": [
    "### Step 1: subject and item performance"
   ],
   "id": "ad10429d-fc5c-4a9a-b9df-ea230d7d77e2"
  },
  {
   "cell_type": "code",
   "execution_count": null,
   "metadata": {},
   "outputs": [
    {
     "output_type": "stream",
     "name": "stderr",
     "text": [
      "`summarise()` has grouped output by 'condition_rec'. You can override using the\n",
      "`.groups` argument."
     ]
    }
   ],
   "source": [
    "\n",
    "exp2_step1_goodsubj <- exp2_info$summary |>\n",
    "  subset(responseError <= .3) \n",
    "\n",
    "exp2_step1_subj_remain <- exp2_step1_goodsubj |> nrow()\n",
    "\n",
    "exp2_step1_item.err <- exp2_rawdata.sub %>% group_by(condition_rec, target_rec) %>%\n",
    "  summarise(word.percent=mean(responseError)*100) %>% \n",
    "  filter(word.percent > 30)\n"
   ],
   "id": "a9ba58cb-bcb4-4208-8ca9-a001cb415e2f"
  },
  {
   "cell_type": "markdown",
   "metadata": {},
   "source": [
    "### Step 2: prime durations"
   ],
   "id": "b50e29fb-5994-4211-aa08-e42c2afa301c"
  },
  {
   "cell_type": "code",
   "execution_count": null,
   "metadata": {},
   "outputs": [],
   "source": [
    "\n",
    "exp2_summary.primeTime <- exp2_rawdata.sub %>% \n",
    "  summarise(meanPrimeTime = round(mean(primeTime), 2), \n",
    "            sdPrimeTime = round(sd(primeTime), 2))\n",
    "\n",
    "exp2_primeTimeRangeSummary <- exp2_rawdata.sub %>% \n",
    "  group_by(primeTime) %>%\n",
    "  mutate(range = ifelse(primeTime < exp2_info$prime_dur_lb, \"below\", \n",
    "                        ifelse(primeTime > exp2_info$prime_dur_ub, \"above\",\n",
    "                               \"in range\"))) %>% \n",
    "  group_by(range) %>% tally() %>% ungroup() %>%\n",
    "  mutate(range.percent = round((n*100)/nrow(exp2_rawdata.sub),2))\n",
    "\n",
    "exp2_data_step2 <- exp2_data_step1  |>\n",
    "  subset(primeTime >= exp2_info$prime_dur_lb & primeTime <= exp2_info$prime_dur_ub)\n",
    "\n",
    "exp2_step2_subj_remain <- exp2_data_step2$Rec_Session_Id |>\n",
    "  unique() |>\n",
    "  length()\n",
    "\n",
    "exp2_step2_trials_remain <- nrow(exp2_data_step2)\n"
   ],
   "id": "70df94a4-88be-46eb-84af-0ebbad3b44b5"
  },
  {
   "cell_type": "markdown",
   "metadata": {},
   "source": [
    "### Step 3: RT distribution"
   ],
   "id": "bfce91dd-d0d8-4065-873d-694c8c38572c"
  },
  {
   "cell_type": "code",
   "execution_count": null,
   "metadata": {},
   "outputs": [],
   "source": [
    "\n",
    "# RT outliers \n",
    "exp2_data_step3 <- exp2_data_step2 |> \n",
    "  subset(RT >= exp2_info$rt_lb & RT <= exp2_info$rt_ub)\n",
    "\n",
    "exp2_step3_subj_remain <- exp2_data_step3$Rec_Session_Id |>\n",
    "  unique() |>\n",
    "  length()\n",
    "\n",
    "exp2_step3_trials_remain <- nrow(exp2_data_step3)\n",
    "\n",
    "# error trial removal\n",
    "\n",
    "exp2_data_step3b <- exp2_data_step3  |>\n",
    "  subset(responseError == 0)\n",
    "\n",
    "exp2_step3b_subj_remain <- exp2_data_step3b$Rec_Session_Id |>\n",
    "  unique() |>\n",
    "  length()\n",
    "\n",
    "exp2_step3b_trials_remain <- nrow(exp2_data_step3b)\n",
    "\n",
    "# remove subjects with less than 7 trials in at least one condition*primetype combination (half of the total number of items per combination)\n",
    "rt_data_labels <- c(\"Rec_Session_Id\", \"condition_rec\", \"primetype_rec\", \"RT\")\n",
    "\n",
    "exp2_subj_filter_2 <- exp2_data_step3b[, rt_data_labels] |>\n",
    "  aggregate(RT ~ ., FUN = length, drop = FALSE) |>\n",
    "  subset(RT < 7, select = Rec_Session_Id) |>\n",
    "  unique() |>\n",
    "  unlist()\n",
    "\n",
    "### we also want to sure that all subjects have all conditions; in case some subject had all the trials for a given condition lost down the road, they will be removed\n",
    "exp2_subj_filter_conditions <- \n",
    "  exp2_data_step3b %>%\n",
    "  group_by(Rec_Session_Id) %>% \n",
    "  distinct(condition_rec, primetype_rec) %>% \n",
    "  tally() %>% filter(n != 6) %>% pull(Rec_Session_Id)\n",
    "\n",
    "exp2_data_final <- exp2_data_step3b |>\n",
    "  subset(!(Rec_Session_Id %in% exp2_subj_filter_2) & !(Rec_Session_Id %in% exp2_subj_filter_conditions)) %>%\n",
    "  mutate(condition_rec = as.factor(condition_rec), primetype_rec=as.factor(primetype_rec))\n",
    "\n",
    "exp2_final_subj_remain <- exp2_data_final$Rec_Session_Id |>\n",
    "  unique() |> \n",
    "  length()\n",
    "  \n",
    "exp2_final_trials_remain <- nrow(exp2_data_final)\n"
   ],
   "id": "5b08e8fd-d3e9-4fd4-81e9-14362353705b"
  },
  {
   "cell_type": "markdown",
   "metadata": {},
   "source": [
    "## Results"
   ],
   "id": "172670d4-a565-4c81-93f5-3e05aeacc46d"
  },
  {
   "cell_type": "code",
   "execution_count": null,
   "metadata": {},
   "outputs": [
    {
     "output_type": "stream",
     "name": "stderr",
     "text": [
      "`summarise()` has grouped output by 'condition_rec', 'primetype_rec'. You can\n",
      "override using the `.groups` argument."
     ]
    },
    {
     "output_type": "stream",
     "name": "stderr",
     "text": [
      "`summarise()` has grouped output by 'Rec_Session_Id', 'condition_rec'. You can\n",
      "override using the `.groups` argument."
     ]
    },
    {
     "output_type": "stream",
     "name": "stderr",
     "text": [
      "`summarise()` has grouped output by 'Rec_Session_Id', 'condition_rec'. You can\n",
      "override using the `.groups` argument."
     ]
    },
    {
     "output_type": "stream",
     "name": "stderr",
     "text": [
      "`summarise()` has grouped output by 'condition_rec'. You can override using the\n",
      "`.groups` argument."
     ]
    },
    {
     "output_type": "stream",
     "name": "stdout",
     "text": [
      "Analysis of Deviance Table (Type III Wald chisquare tests)\n",
      "\n",
      "Response: responseError\n",
      "                               Chisq Df Pr(>Chisq)    \n",
      "(Intercept)                 3016.539  1  < 2.2e-16 ***\n",
      "condition_rec                 22.196  2  1.514e-05 ***\n",
      "primetype_rec                262.276  1  < 2.2e-16 ***\n",
      "condition_rec:primetype_rec  283.571  2  < 2.2e-16 ***\n",
      "---\n",
      "Signif. codes:  0 '***' 0.001 '**' 0.01 '*' 0.05 '.' 0.1 ' ' 1"
     ]
    },
    {
     "output_type": "stream",
     "name": "stdout",
     "text": [
      "$emmeans\n",
      "condition_rec = high:\n",
      " primetype_rec emmean     SE  df asymp.LCL asymp.UCL\n",
      " related        -4.62 0.1361 Inf     -4.88     -4.35\n",
      " unrelated      -3.97 0.1315 Inf     -4.23     -3.71\n",
      "\n",
      "condition_rec = low:\n",
      " primetype_rec emmean     SE  df asymp.LCL asymp.UCL\n",
      " related        -4.22 0.1326 Inf     -4.48     -3.96\n",
      " unrelated      -3.35 0.1290 Inf     -3.60     -3.09\n",
      "\n",
      "condition_rec = non-word:\n",
      " primetype_rec emmean     SE  df asymp.LCL asymp.UCL\n",
      " related        -3.52 0.0930 Inf     -3.71     -3.34\n",
      " unrelated      -3.60 0.0932 Inf     -3.78     -3.42\n",
      "\n",
      "Results are given on the logit (not the response) scale. \n",
      "Confidence level used: 0.95 \n",
      "\n",
      "$contrasts\n",
      "condition_rec = high:\n",
      " contrast            estimate     SE  df z.ratio p.value\n",
      " related - unrelated   -0.643 0.0653 Inf  -9.855  <.0001\n",
      "\n",
      "condition_rec = low:\n",
      " contrast            estimate     SE  df z.ratio p.value\n",
      " related - unrelated   -0.873 0.0509 Inf -17.136  <.0001\n",
      "\n",
      "condition_rec = non-word:\n",
      " contrast            estimate     SE  df z.ratio p.value\n",
      " related - unrelated    0.075 0.0327 Inf   2.295  0.0218\n",
      "\n",
      "Results are given on the log odds ratio (not the response) scale. "
     ]
    },
    {
     "output_type": "stream",
     "name": "stdout",
     "text": [
      "Analysis of Deviance Table (Type III Wald chisquare tests)\n",
      "\n",
      "Response: RT\n",
      "                                Chisq Df Pr(>Chisq)    \n",
      "(Intercept)                 1949622.3  1  < 2.2e-16 ***\n",
      "condition_rec                  2613.3  2  < 2.2e-16 ***\n",
      "primetype_rec                  1700.5  1  < 2.2e-16 ***\n",
      "condition_rec:primetype_rec    1158.9  2  < 2.2e-16 ***\n",
      "---\n",
      "Signif. codes:  0 '***' 0.001 '**' 0.01 '*' 0.05 '.' 0.1 ' ' 1"
     ]
    },
    {
     "output_type": "stream",
     "name": "stderr",
     "text": [
      "Warning in as.data.frame.emm_list(.): Note: 'as.data.frame' has combined your 2 sets of results into one object,\n",
      "and this affects things like adjusted P values. Refer to the annotations."
     ]
    },
    {
     "output_type": "stream",
     "name": "stderr",
     "text": [
      "Warning: There was 1 warning in `mutate()`.\n",
      "ℹ In argument: `across(c(13), round, 2)`.\n",
      "Caused by warning:\n",
      "! The `...` argument of `across()` is deprecated as of dplyr 1.1.0.\n",
      "Supply arguments directly to `.fns` through an anonymous function instead.\n",
      "\n",
      "  # Previously\n",
      "  across(a:b, mean, na.rm = TRUE)\n",
      "\n",
      "  # Now\n",
      "  across(a:b, \\(x) mean(x, na.rm = TRUE))"
     ]
    }
   ],
   "source": [
    "\n",
    "# error rates averages\n",
    "### we also want to sure that all subjects have all conditions; in case some subject had all the trials for a given condition lost down the road, they will be removed. Crucially the trial calculations are made on the dataset *before* the trial error removal step\n",
    "exp2_subj_filter_2_with.errors <- exp2_data_step3[, rt_data_labels] |>\n",
    "  aggregate(RT ~ ., FUN = length, drop = FALSE) |>\n",
    "  subset(RT < 7, select = Rec_Session_Id) |>\n",
    "  unique() |>\n",
    "  unlist()\n",
    "# this step just makes sure that the same subjects will be removed from both datasets\n",
    "exp2_subj_filter_2_with.errors <- union(exp2_subj_filter_2_with.errors, exp2_subj_filter_2)\n",
    "\n",
    "### just making sure that all subjects have all conditions; in case some subject had all the trials for a given condition lost down the road, they will be removed\n",
    "exp2_subj_filter_conditions_with.errors <- \n",
    "  exp2_data_step3 %>%\n",
    "  group_by(Rec_Session_Id) %>% \n",
    "  distinct(condition_rec, primetype_rec) %>% \n",
    "  tally() %>% filter(n != 6) %>% pull(Rec_Session_Id)\n",
    "\n",
    "exp2_data_final_with.errors <- exp2_data_step3 |>\n",
    "  subset(!(Rec_Session_Id %in% exp2_subj_filter_2_with.errors) & \n",
    "           !(Rec_Session_Id %in% exp2_subj_filter_conditions_with.errors)) \n",
    "\n",
    "exp2_error.rates <- exp2_data_final_with.errors %>%\n",
    "  mutate(primetype_rec = factor(primetype_rec, levels=c(\"unrelated\", \"related\")),\n",
    "         condition_rec = factor(condition_rec, levels=c(\"high\", \"low\", \"non-word\"))) %>%\n",
    "  group_by(condition_rec, primetype_rec, Rec_Session_Id) %>%\n",
    "  summarise(error.percent=mean(responseError)*100)\n"
   ],
   "id": "f1559a89-5677-40d3-b941-62bd094b3587"
  },
  {
   "cell_type": "markdown",
   "metadata": {},
   "source": [
    "#### Stats summary"
   ],
   "id": "31e8579f-f704-4f99-8d50-89d5622c85ca"
  },
  {
   "cell_type": "code",
   "execution_count": null,
   "metadata": {
    "tbl-pos": "h"
   },
   "outputs": [
    {
     "output_type": "display_data",
     "metadata": {},
     "data": {
      "text/html": [
       "\n",
       "</div>"
      ],
      "text/markdown": [
       "  -----------------------------------------------------------------------------------------------------------------------------------------------------------------------------------------------------------------------\n",
       "  factor                [unrelated                              [repetition                             cor     [priming                                              [*t*-test]{.gt_column_spanner}          \n",
       "                        RT]{.gt_column_spanner}                 RT]{.gt_column_spanner}                         effects]{.gt_column_spanner}                                                                  \n",
       "  --------------------- ------------------------- ----- ------- ------------------------- ----- ------- ------- ------------------------------ ------ ------- ------- -------------------------------- ------ -----------\n",
       "                        mean                      SD    Error   mean                      SD    Error           MOP                            95% CI SD~p~   ES      *t*                              df     *p*\n",
       "                                                        (%)                                     (%)                                                                                                           \n",
       "\n",
       "  high                  574                       83    3       548                       83    2       0.850   26                             \\[24   46      0.56    24.60                            1923   2.27e-116\n",
       "                                                                                                                                               28\\]                                                           \n",
       "\n",
       "  low                   605                       89    6       570                       89    3       0.840   35                             \\[33   51      0.69    30.19                            1923   3.51e-164\n",
       "                                                                                                                                               37\\]                                                           \n",
       "\n",
       "  non-word              629                       108   4       633                       110   5       0.900   -4                             \\[-6   50      -0.08   -3.53                            1923   4.32e-04\n",
       "                                                                                                                                               -2\\]                                                           \n",
       "\n",
       "  frequency:primetype   \\                         \\     \\       \\                         \\     \\       0.024   9                              \\[6    68      0.13    6.07                             1923   1.55e-09\n",
       "                                                                                                                                               12\\]                                                           \n",
       "  -----------------------------------------------------------------------------------------------------------------------------------------------------------------------------------------------------------------------\n"
      ]
     }
    }
   ],
   "source": [
    "\n",
    "exp2_summary.results_mop <- merge(exp2_gdavg_mop_summary, exp2_rt_stats_main, by='factor')\n",
    "exp2_summary.results_fae <- merge(exp2_gdavg_fae_summary, exp2_rt_stats_interaction, by='factor') |>\n",
    "  select(-mean_high, -mean_low)\n",
    "\n",
    "exp2_summary.results <- bind_rows(exp2_summary.results_mop, exp2_summary.results_fae)\n",
    "  \n",
    "exp2_summary.results %>%\n",
    "  mutate(t = round(t, 2)) %>%\n",
    "  relocate(c(\"sd_unrelated\", \"mean.error_unrelated\"), .before=gd.mean_related) %>%\n",
    "  gt() %>%\n",
    "  cols_label(\n",
    "    CI = \"95% CI\",\n",
    "    contains(\"mean\") ~ \"mean\",\n",
    "    contains(\"sd\") ~ \"SD\", \n",
    "    contains(\"error\") ~ \"Error (%)\"\n",
    "  ) %>%\n",
    "  tab_spanner(\n",
    "    label = \"unrelated RT\",\n",
    "    columns = c(2:4)\n",
    "  ) %>%\n",
    "  tab_spanner(\n",
    "    label = \"repetition RT\",\n",
    "    columns = c(5:7)\n",
    "  ) %>%\n",
    "  tab_spanner(\n",
    "    label = 'priming effects',\n",
    "    columns = c(9:12)\n",
    "  ) %>%\n",
    "  tab_spanner(\n",
    "    label = md(\"_t_-test\"),\n",
    "    columns = c(13:15)\n",
    "  ) %>%\n",
    "  cols_label(\n",
    "    sd = md(\"SD~p~\")\n",
    "  ) %>%\n",
    "  cols_label(\n",
    "    t = md(\"_t_\"),\n",
    "    p = md(\"_p_\"),\n",
    "  ) %>%\n",
    "   sub_missing(\n",
    "    missing_text = \" \"\n",
    "  )\n"
   ],
   "id": "d279511e-67d8-4d6b-a98c-a0baa583fa1c"
  },
  {
   "cell_type": "code",
   "execution_count": null,
   "metadata": {
    "tbl-pos": "h"
   },
   "outputs": [
    {
     "output_type": "display_data",
     "metadata": {},
     "data": {
      "text/html": [
       "\n",
       "</div>"
      ],
      "text/markdown": [
       "  ---------------------------------------------------------------------------------------------------------------------------------------------------------\n",
       "  factor                 [unrelated                                [repetition                               [priming                               \n",
       "                         RT]{.gt_column_spanner}                   RT]{.gt_column_spanner}                   effects]{.gt_column_spanner}           \n",
       "  ---------------------- ------------------------- ------- ------- ------------------------- ------- ------- ------------------------------ ------- -------\n",
       "                         mean                      95% CI  SE      mean                      95% CI  SE      MOP                            95% CI  SE\n",
       "\n",
       "  high                   605                       \\[608   0.81    579                       \\[582   0.87    26                             \\[24    0.80\n",
       "                                                   603\\]                                     577\\]                                          28\\]    \n",
       "\n",
       "  low                    633                       \\[635   0.81    598                       \\[600   0.77    35                             \\[32    0.85\n",
       "                                                   631\\]                                     596\\]                                          37\\]    \n",
       "\n",
       "  non-word               649                       \\[652   0.95    653                       \\[655   0.96    -3                             \\[-5    0.73\n",
       "                                                   647\\]                                     650\\]                                          -1\\]    \n",
       "\n",
       "  frequency\\*primetype   \\                         \\       \\       \\                         \\       \\       8                              \\[6     1.05\n",
       "                                                                                                                                            11\\]    \n",
       "  ---------------------------------------------------------------------------------------------------------------------------------------------------------\n"
      ]
     }
    }
   ],
   "source": [
    "\n",
    "exp2_summary.results_glmm <- bind_rows(exp2_emmeans_glmm, exp2_emmeans_glmm_fae)\n",
    "  \n",
    "exp2_summary.results_glmm %>%\n",
    "  gt() %>%\n",
    "  cols_label(\n",
    "    contains(\"CI\") ~ \"95% CI\",\n",
    "    contains(\"emmean\") ~ \"mean\",\n",
    "    contains(\"SE\") ~ \"SE\"\n",
    "  ) %>%\n",
    "  tab_spanner(\n",
    "    label = \"unrelated RT\",\n",
    "    columns = c(2:4)\n",
    "  ) %>%\n",
    "  tab_spanner(\n",
    "    label = \"repetition RT\",\n",
    "    columns = c(5:7)\n",
    "  ) %>%\n",
    "  tab_spanner(\n",
    "    label = 'priming effects',\n",
    "    columns = c(8:10)\n",
    "  ) %>%\n",
    "   sub_missing(\n",
    "    missing_text = \" \"\n",
    "  )\n"
   ],
   "id": "46747f47-7003-499a-97c2-86f2086968ab"
  },
  {
   "cell_type": "markdown",
   "metadata": {},
   "source": [
    "### Prediction intervals"
   ],
   "id": "3a053c78-f4fa-477e-8773-84757e0a85d0"
  },
  {
   "cell_type": "code",
   "execution_count": null,
   "metadata": {
    "tbl-pos": "h"
   },
   "outputs": [
    {
     "output_type": "display_data",
     "metadata": {},
     "data": {
      "text/html": [
       "\n",
       "</div>"
      ],
      "text/markdown": [
       "  factor                mean   SD   [sample size]{.gt_column_spanner}                  95% PI\n",
       "  --------------------- ------ ---- ----------------------------------- -------------- -----------\n",
       "                                    experiment 1                        experiment 2   \n",
       "  high                  18     45   2341                                1924           \\[15 21\\]\n",
       "  low                   28     49   2341                                1924           \\[25 31\\]\n",
       "  non-word              -2     43   2341                                1924           \\[-5 1\\]\n",
       "  frequency:primetype   10     66   2341                                1924           \\[6 14\\]\n"
      ]
     }
    }
   ],
   "source": [
    "\n",
    "exp1_summary.results <- structure(list(factor = c(\"high\", \"low\", \"non-word\", \"frequency:primetype\"\n",
    "), gd.mean_unrelated = c(573, 605, 623, NA), gd.mean_related = c(555, \n",
    "577, 625, NA), sd_related = c(85, 88, 103, NA), sd_unrelated = c(83, \n",
    "88, 103, NA), mean.error_related = c(2, 3, 4, NA), mean.error_unrelated = c(3, \n",
    "6, 4, NA), cor = c(0.86, 0.85, 0.91, 0.029), MOP = c(18, 28, \n",
    "-2, 10), CI = c(\"[16 20]\", \"[26 30]\", \"[-4 0]\", \"[7 13]\"), sd = c(45, \n",
    "49, 43, 66), ES = c(0.41, 0.58, -0.05, 0.15), t = c(\"19.7\", \"27.8\", \n",
    "\"-2.33\", \"7.24\"), df = c(\"2340\", \"2340\", \"2340\", \"2340\"), p = c(\"2.88e-80\", \n",
    "\"1.52e-147\", \"0.0197\", \"5.86e-13\")), row.names = c(NA, -4L), class = \"data.frame\")\n",
    "\n",
    "exp1_high <- pi.m(M = exp1_summary.results$MOP[1], SD = exp1_summary.results$sd[1], n = as.numeric(exp1_summary.results$df[1]) + 1, rep.n = as.numeric(exp2_summary.results$df[1]) + 1)\n",
    "exp1_low <- pi.m(M = exp1_summary.results$MOP[2], SD = exp1_summary.results$sd[2], n = as.numeric(exp1_summary.results$df[2]) + 1, rep.n = as.numeric(exp2_summary.results$df[2]) + 1)\n",
    "exp1_nw <- pi.m(M = exp1_summary.results$MOP[3], SD = exp1_summary.results$sd[3], n = as.numeric(exp1_summary.results$df[3]) + 1, rep.n = as.numeric(exp2_summary.results$df[3]) + 1)\n",
    "exp1_fae <- pi.m(M = exp1_summary.results$MOP[4], SD = exp1_summary.results$sd[4], n = as.numeric(exp1_summary.results$df[4]) + 1, rep.n = as.numeric(exp2_summary.results$df[4]) + 1)\n",
    "\n",
    "pis <- data.frame(\n",
    "         factor = c(\"high\", \"low\", \"non-word\", \"frequency:primetype\"),\n",
    "         M = c(exp1_summary.results$MOP[1], exp1_summary.results$MOP[2], exp1_summary.results$MOP[3], exp1_summary.results$MOP[4]),\n",
    "         SD = c(exp1_summary.results$sd[1], exp1_summary.results$sd[2], exp1_summary.results$sd[3], exp1_summary.results$sd[4]),\n",
    "         N = rep(c(as.numeric(exp1_summary.results$df[1]) + 1), 4),\n",
    "         rep.n = rep(c(as.numeric(exp2_summary.results$df[1]) + 1), 4),\n",
    "         pi.lb = c(exp1_high$lower_prediction_interval, \n",
    "                   exp1_low$lower_prediction_interval, \n",
    "                   exp1_nw$lower_prediction_interval,\n",
    "                   exp1_fae$lower_prediction_interval),\n",
    "         pi.ub = c(exp1_high$upper_prediction_interval, \n",
    "                   exp1_low$upper_prediction_interval, \n",
    "                   exp1_nw$upper_prediction_interval,\n",
    "                   exp1_fae$upper_prediction_interval)\n",
    "        )\n",
    "\n",
    "pis %>% \n",
    "  mutate(across(c(6:7), round),\n",
    "         pi.lb = paste0(\"[\", pi.lb),\n",
    "         pi.ub = paste0(pi.ub, \"]\")) %>%\n",
    "  unite(\"95% PI\", pi.lb:pi.ub, sep=\" \") %>%\n",
    "  gt() %>%\n",
    "  cols_label(\n",
    "    M = \"mean\",\n",
    "    N = \"experiment 1\",\n",
    "    rep.n = \"experiment 2\") %>%\n",
    "  tab_spanner(\n",
    "    label = \"sample size\",\n",
    "    columns = c(4:5)\n",
    "  )\n"
   ],
   "id": "6f0d5742-f35a-4fc7-93d5-5f744369dc34"
  }
 ],
 "nbformat": 4,
 "nbformat_minor": 5,
 "metadata": {}
}
