{
 "cells": [
  {
   "cell_type": "markdown",
   "metadata": {},
   "source": [
    "# Frequency attenuation effects in masked repetition priming: A large\n",
    "\n",
    "scale online lexical decision study\n",
    "\n",
    "Roberto Petrosino [![](data:image/png;base64,iVBORw0KGgoAAAANSUhEUgAAABAAAAAQCAYAAAAf8/9hAAAAGXRFWHRTb2Z0d2FyZQBBZG9iZSBJbWFnZVJlYWR5ccllPAAAA2ZpVFh0WE1MOmNvbS5hZG9iZS54bXAAAAAAADw/eHBhY2tldCBiZWdpbj0i77u/IiBpZD0iVzVNME1wQ2VoaUh6cmVTek5UY3prYzlkIj8+IDx4OnhtcG1ldGEgeG1sbnM6eD0iYWRvYmU6bnM6bWV0YS8iIHg6eG1wdGs9IkFkb2JlIFhNUCBDb3JlIDUuMC1jMDYwIDYxLjEzNDc3NywgMjAxMC8wMi8xMi0xNzozMjowMCAgICAgICAgIj4gPHJkZjpSREYgeG1sbnM6cmRmPSJodHRwOi8vd3d3LnczLm9yZy8xOTk5LzAyLzIyLXJkZi1zeW50YXgtbnMjIj4gPHJkZjpEZXNjcmlwdGlvbiByZGY6YWJvdXQ9IiIgeG1sbnM6eG1wTU09Imh0dHA6Ly9ucy5hZG9iZS5jb20veGFwLzEuMC9tbS8iIHhtbG5zOnN0UmVmPSJodHRwOi8vbnMuYWRvYmUuY29tL3hhcC8xLjAvc1R5cGUvUmVzb3VyY2VSZWYjIiB4bWxuczp4bXA9Imh0dHA6Ly9ucy5hZG9iZS5jb20veGFwLzEuMC8iIHhtcE1NOk9yaWdpbmFsRG9jdW1lbnRJRD0ieG1wLmRpZDo1N0NEMjA4MDI1MjA2ODExOTk0QzkzNTEzRjZEQTg1NyIgeG1wTU06RG9jdW1lbnRJRD0ieG1wLmRpZDozM0NDOEJGNEZGNTcxMUUxODdBOEVCODg2RjdCQ0QwOSIgeG1wTU06SW5zdGFuY2VJRD0ieG1wLmlpZDozM0NDOEJGM0ZGNTcxMUUxODdBOEVCODg2RjdCQ0QwOSIgeG1wOkNyZWF0b3JUb29sPSJBZG9iZSBQaG90b3Nob3AgQ1M1IE1hY2ludG9zaCI+IDx4bXBNTTpEZXJpdmVkRnJvbSBzdFJlZjppbnN0YW5jZUlEPSJ4bXAuaWlkOkZDN0YxMTc0MDcyMDY4MTE5NUZFRDc5MUM2MUUwNEREIiBzdFJlZjpkb2N1bWVudElEPSJ4bXAuZGlkOjU3Q0QyMDgwMjUyMDY4MTE5OTRDOTM1MTNGNkRBODU3Ii8+IDwvcmRmOkRlc2NyaXB0aW9uPiA8L3JkZjpSREY+IDwveDp4bXBtZXRhPiA8P3hwYWNrZXQgZW5kPSJyIj8+84NovQAAAR1JREFUeNpiZEADy85ZJgCpeCB2QJM6AMQLo4yOL0AWZETSqACk1gOxAQN+cAGIA4EGPQBxmJA0nwdpjjQ8xqArmczw5tMHXAaALDgP1QMxAGqzAAPxQACqh4ER6uf5MBlkm0X4EGayMfMw/Pr7Bd2gRBZogMFBrv01hisv5jLsv9nLAPIOMnjy8RDDyYctyAbFM2EJbRQw+aAWw/LzVgx7b+cwCHKqMhjJFCBLOzAR6+lXX84xnHjYyqAo5IUizkRCwIENQQckGSDGY4TVgAPEaraQr2a4/24bSuoExcJCfAEJihXkWDj3ZAKy9EJGaEo8T0QSxkjSwORsCAuDQCD+QILmD1A9kECEZgxDaEZhICIzGcIyEyOl2RkgwAAhkmC+eAm0TAAAAABJRU5ErkJggg==)](https://orcid.org/0000-0002-8502-3070) (New York University Abu Dhabi)  \n",
    "Diogo Almeida [![](data:image/png;base64,iVBORw0KGgoAAAANSUhEUgAAABAAAAAQCAYAAAAf8/9hAAAAGXRFWHRTb2Z0d2FyZQBBZG9iZSBJbWFnZVJlYWR5ccllPAAAA2ZpVFh0WE1MOmNvbS5hZG9iZS54bXAAAAAAADw/eHBhY2tldCBiZWdpbj0i77u/IiBpZD0iVzVNME1wQ2VoaUh6cmVTek5UY3prYzlkIj8+IDx4OnhtcG1ldGEgeG1sbnM6eD0iYWRvYmU6bnM6bWV0YS8iIHg6eG1wdGs9IkFkb2JlIFhNUCBDb3JlIDUuMC1jMDYwIDYxLjEzNDc3NywgMjAxMC8wMi8xMi0xNzozMjowMCAgICAgICAgIj4gPHJkZjpSREYgeG1sbnM6cmRmPSJodHRwOi8vd3d3LnczLm9yZy8xOTk5LzAyLzIyLXJkZi1zeW50YXgtbnMjIj4gPHJkZjpEZXNjcmlwdGlvbiByZGY6YWJvdXQ9IiIgeG1sbnM6eG1wTU09Imh0dHA6Ly9ucy5hZG9iZS5jb20veGFwLzEuMC9tbS8iIHhtbG5zOnN0UmVmPSJodHRwOi8vbnMuYWRvYmUuY29tL3hhcC8xLjAvc1R5cGUvUmVzb3VyY2VSZWYjIiB4bWxuczp4bXA9Imh0dHA6Ly9ucy5hZG9iZS5jb20veGFwLzEuMC8iIHhtcE1NOk9yaWdpbmFsRG9jdW1lbnRJRD0ieG1wLmRpZDo1N0NEMjA4MDI1MjA2ODExOTk0QzkzNTEzRjZEQTg1NyIgeG1wTU06RG9jdW1lbnRJRD0ieG1wLmRpZDozM0NDOEJGNEZGNTcxMUUxODdBOEVCODg2RjdCQ0QwOSIgeG1wTU06SW5zdGFuY2VJRD0ieG1wLmlpZDozM0NDOEJGM0ZGNTcxMUUxODdBOEVCODg2RjdCQ0QwOSIgeG1wOkNyZWF0b3JUb29sPSJBZG9iZSBQaG90b3Nob3AgQ1M1IE1hY2ludG9zaCI+IDx4bXBNTTpEZXJpdmVkRnJvbSBzdFJlZjppbnN0YW5jZUlEPSJ4bXAuaWlkOkZDN0YxMTc0MDcyMDY4MTE5NUZFRDc5MUM2MUUwNEREIiBzdFJlZjpkb2N1bWVudElEPSJ4bXAuZGlkOjU3Q0QyMDgwMjUyMDY4MTE5OTRDOTM1MTNGNkRBODU3Ii8+IDwvcmRmOkRlc2NyaXB0aW9uPiA8L3JkZjpSREY+IDwveDp4bXBtZXRhPiA8P3hwYWNrZXQgZW5kPSJyIj8+84NovQAAAR1JREFUeNpiZEADy85ZJgCpeCB2QJM6AMQLo4yOL0AWZETSqACk1gOxAQN+cAGIA4EGPQBxmJA0nwdpjjQ8xqArmczw5tMHXAaALDgP1QMxAGqzAAPxQACqh4ER6uf5MBlkm0X4EGayMfMw/Pr7Bd2gRBZogMFBrv01hisv5jLsv9nLAPIOMnjy8RDDyYctyAbFM2EJbRQw+aAWw/LzVgx7b+cwCHKqMhjJFCBLOzAR6+lXX84xnHjYyqAo5IUizkRCwIENQQckGSDGY4TVgAPEaraQr2a4/24bSuoExcJCfAEJihXkWDj3ZAKy9EJGaEo8T0QSxkjSwORsCAuDQCD+QILmD1A9kECEZgxDaEZhICIzGcIyEyOl2RkgwAAhkmC+eAm0TAAAAABJRU5ErkJggg==)](https://orcid.org/0000-0003-4674-8092) (New York University Abu Dhabi)\n",
    "\n",
    "This study addresses the controversy surrounding the sensitivity of masked repetition priming to word frequency, a topic less contentious in unmasked priming. While unmasked priming exhibits a frequency attenuation effect, wherein high frequency words yield smaller repetition effects, this phenomenon has been inconsistently reported in masked priming. We conducted two large online experiments with rigorously validated frequency databases to reconcile past discrepancies. The first experiment confirmed masked repetition priming’s viability in web browser-based settings. The pre-registered second study, designed for high statistical power, successfully identified a significant 9-ms frequency attenuation effect under masked priming conditions. This result indicates that the repetition effect in masked priming is less qualitatively distinct from unmasked priming than previously assumed, a finding with important practical and theoretical consequences. Moreover, our research underscores the usefulness of online masked priming experiments for detecting subtle effects that may elude traditional lab-based investigations.\n",
    "\n",
    "# 1. Introduction"
   ],
   "id": "a68ac2cf-1d2f-4cbd-a88c-63e4a165784e"
  },
  {
   "cell_type": "code",
   "execution_count": null,
   "metadata": {},
   "outputs": [
    {
     "output_type": "stream",
     "name": "stderr",
     "text": [
      "here() starts at /Users/rp3650/Library/CloudStorage/GoogleDrive-robpetrosino@gmail.com/My Drive/Academics/projects/morphology/morphological-decomposition/sub-projects/frequency-effects/freq_atten"
     ]
    },
    {
     "output_type": "stream",
     "name": "stderr",
     "text": [
      "── Attaching core tidyverse packages ──────────────────────── tidyverse 2.0.0 ──\n",
      "✔ dplyr     1.1.3     ✔ readr     2.1.4\n",
      "✔ forcats   1.0.0     ✔ stringr   1.5.0\n",
      "✔ ggplot2   3.4.4     ✔ tibble    3.2.1\n",
      "✔ lubridate 1.9.3     ✔ tidyr     1.3.0\n",
      "✔ purrr     1.0.2     "
     ]
    },
    {
     "output_type": "stream",
     "name": "stderr",
     "text": [
      "── Conflicts ────────────────────────────────────────── tidyverse_conflicts() ──\n",
      "✖ dplyr::filter() masks stats::filter()\n",
      "✖ dplyr::lag()    masks stats::lag()\n",
      "ℹ Use the conflicted package (<http://conflicted.r-lib.org/>) to force all conflicts to become errors"
     ]
    },
    {
     "output_type": "stream",
     "name": "stderr",
     "text": [
      "\n",
      "Attaching package: 'rstatix'\n",
      "\n",
      "The following object is masked from 'package:stats':\n",
      "\n",
      "    filter"
     ]
    },
    {
     "output_type": "stream",
     "name": "stderr",
     "text": [
      "\n",
      "Attaching package: 'zoo'\n",
      "\n",
      "The following objects are masked from 'package:base':\n",
      "\n",
      "    as.Date, as.Date.numeric"
     ]
    }
   ],
   "source": [
    "library(osfr)\n",
    "library(here)"
   ],
   "id": "a7daf72f-e819-4553-b56b-9479b07d23de"
  },
  {
   "cell_type": "markdown",
   "metadata": {},
   "source": [
    "The masked priming technique has been an invaluable tool in visual word recognition research. It has allowed researchers to study the conditions under which orthographic, phonological, morphological, and semantic information impact access to visual word forms while mitigating strategic effects and minimizing the influence of controlled processes ([Forster 1998](#ref-Forster1998)). First introduced in its traditional form by Forster and Davis ([1984](#ref-ForsterDavis1984); see also [Evett and Humphreys 1981](#ref-EvettHumphreys1981)), this technique involves a forward mask (i.e., usually a string of hashes, #####), followed by a prime string presented for very short time ($SOA < 60$ ms),[1] and a target string presented immediately after. Because the prime presentation is so brief and masked by preceding and subsequent stimuli, most participants report not being aware that a prime string had been presented, and can at most report a screen flicker just before the target presentation ([Forster, Mohan, and Hector 2003](#ref-ForsterEtal2003)).\n",
    "\n",
    "Among possible manipulations of prime-target relatedness, masked repetition priming (in which the same word is presented as both the prime and target within the same trial: e.g., *love-LOVE*) has been well studied, because its response seems to be qualitatively different from the unmasked counterpart ($SOA > 60 ms$): while high-frequency words benefit less from repetition than low-frequency words in the unmasked design (*frequency attenuation effect*, henceforth FAE; [Scarborough, Cortese, and Scarborough 1977](#ref-ScarboroughEtal1977)), this does not seem to be the case when the prime is masked ([Forster and Davis 1984](#ref-ForsterDavis1984); [Forster et al. 1987](#ref-ForsterEtal1987); [Segui and Grainger 1990](#ref-SeguiGrainger1990); [Sereno 1991](#ref-Sereno1991); [Forster and Davis 1991](#ref-ForsterDavis1991); [Rajaram and Neely 1992](#ref-RajaramNeely1992); [Bodner and Masson 1997](#ref-BodnerMasson1997); [Forster, Mohan, and Hector 2003](#ref-ForsterEtal2003); [Nievas 2010](#ref-Nievas2010)).\n",
    "\n",
    "This asymmetry in sensitivity to lexical frequency between the masked and unmasked repetition priming responses has been important in distinguishing among different models of priming in visual word recognition. More specifically, *interactive activation models* ([McClelland and Rumelhart 1981](#ref-McClellandRumelhart1981); [Grainger and Jacobs 1996](#ref-GraingerJacobs1996); [Coltheart et al. 2001](#ref-ColtheartEtal2001)) conceive of priming as a “head start” in processing due to the pre-activation of the target word due to the presentation of the prime. According to this type of model, priming is ultimately due to this single mechanism, and therefore it is difficult to reconcile interactive activation models with the qualitatively different profiles for repetition priming in masked and unmasked conditions.\n",
    "\n",
    "Similarly, episodic models (e.g., [Jacoby and Dallas 1981](#ref-Jacoby1981); [Jacoby 1983](#ref-Jacoby1983)) posit a different single mechanism for priming effects, that is, the activation/retrieval of the episodic memory trace of the encounter with the prime word. These models therefore encounter the same type of difficulty in accounting for qualitatively different patterns of repetition priming effects in masked and unmasked conditions. A similar type of model, called the *memory recruitment model* makes very similar predictions to the episodic memory models, positing a non-lexical source for priming effects ([Bodner and Masson 1997](#ref-BodnerMasson1997); [Masson and Bodner 2003](#ref-MassonBodner2003); [Bodner and Masson 2014](#ref-Bodner2014)). Repetition priming effects under this view stem from the exploitation, strategically or automatically, of a memory resource created by the encounter with the prime word. The frequency attenuation effect, under episodic and memory recruitment models alike, is predicted on the basis that low frequency primes, being more distinctive stimuli, create a more potent and effective memory resource compared to high frequency primes.\n",
    "\n",
    "Alternatively, other models with a more fine-grained view of the lexical access process seem to sidestep the problem posed by the qualitatively different repetition priming profiles observed in masked and unmasked conditions. One such model is the *entry-opening model* (also known as the bin model; [Forster and Davis 1984](#ref-ForsterDavis1984)). According to this model, when the visual stimulus is presented, lexical entries are assigned to specific bins based on orthographic similarity. In the first stage (fast search stage), a fast, frequency-ordered search goes through the entries within a given bin, and compares each one with the the input stimulus, thus assigning to each entry a goodness-of-fit score. This comparison is fast and crude, and sorts entries into (a) perfect (i.e., no difference is detected between the input and the entry), (b) close (i.e., small differences are detected), and (c) irrelevant matches (i.e., substantial difference are detected). Any entry of type (a) or (b) is opened, so that the entry can be further analyzed and compared to the input in the subsequent verification stage. In the masked environment, the entry of the prime word is opened at the fast search stage, but its short presentation duration prevents it from reaching the evaluation stage, but the entry is nonetheless left open. Upon the presentation of the target, the access procedure will follow its two stage course, with a frequency-sensitive fast search and a subsequent entry opening for evaluation/verification. In this view, the fast search for the target word proceeds normally, but the evaluation/verification procedure starts and ends sooner than it otherwise would, because the target entry has already been left open after the brief processing of the prime. Thus, the *entry-opening model* explains the masked repetition priming as the benefit from having the entry of the target word already open when it is going to be evaluated in the second stage of recognition. Crucially, this occurs *after* the target word is initially accessed, which happens in order of frequency. Put differently, according to the *entry-opening model*, masked repetition priming occurs because of the time savings from not having to open the entry, which is a frequency-insensitive process (every entry takes the same time to be opened), but *after* the frequency-sensitive first access stage. As a consequence, *entry-opening model* predicts a frequency-insensitive masked repetition priming effect, which is what has been traditionally reported in the literature (see <a href=\"#tbl-litReview\" class=\"quarto-xref\">Table 1</a>). In addition, it also (correctly) predicts that pseudowords should not benefit from masked repetition priming, as they have no entries in the mental lexicon to be left open after the brief processing of the prime.\n",
    "\n",
    "However, as <a href=\"#tbl-litReview\" class=\"quarto-xref\">Table 1</a> shows, there are nonetheless a few studies that do report significant FAEs in masked repetition priming ([Bodner and Masson 2001](#ref-BodnerMasson2001); [Kinoshita 2006](#ref-Kinoshita2006); [Norris and Kinoshita 2008](#ref-NorrisKinoshita2008)). Bodner and Masson ([2001](#ref-BodnerMasson2001)) report that when stimuli are presented in alternating case (e.g., *pHoNe*), this increases the lexical decision difficulty and therefore creates an extra incentive to draw on the memory resource created by the brief processing of the prime. Under such conditions, they were able to observe a statistically significant FAE. In the same vein, Kinoshita ([2006](#ref-Kinoshita2006)) noticed that in earlier studies the low frequency words often had very high error rates, and suggested that perhaps many participants did not know them. If participants treated a substantial number of low frequency words as nonwords, and nonwords do not exhibit repetition priming under masked conditions, it could artificially depress the repetition priming effect. In two separate experiments, Kinoshita ([2006](#ref-Kinoshita2006)) showed that larger repetition priming effects for low frequency words were only obtained when the low frequency words were vetted to make sure the participants knew them prior to the experiment. Following up on Kinoshita ([2006](#ref-Kinoshita2006)), Norris and Kinoshita ([2008](#ref-NorrisKinoshita2008)) were also able to find an interaction between lexical frequency and repetition in masked repetition priming.\n",
    "\n",
    "Finally, as <a href=\"#tbl-litReview\" class=\"quarto-xref\">Table 1</a> shows, it is noteworthy that 15 out of 18 previous studies showed numerically larger masked priming effects for low frequency words as opposed to high frequency words, irrespective of statistical significance. Similarly, the average repetition effect for low frequency words in the studies reviewed in <a href=\"#tbl-litReview\" class=\"quarto-xref\">Table 1</a> is 13 ms larger when compared to that of high frequency words. These results are not in line with the predictions dictated by the *entry opening model*, and seem to align better with the predictions made by *interactive activation models* and *memory recruitment* models.\n",
    "\n",
    "[1] *SOA: Stimulus Onset Asynchrony*, i.e. the time between the start of one stimulus (in our case, the prime stimulus) and the start of another stimulus (the target stimulus). In the standard repetition priming design, no backward mask occurs between the prime and the target, and therefore SOA equals the duration of prime presentation."
   ],
   "id": "061837d5-d8a4-4718-b261-7ce9b74aa081"
  },
  {
   "cell_type": "raw",
   "metadata": {
    "raw_mimetype": "tex"
   },
   "source": [
    "\\blandscape"
   ],
   "id": "9855ee46-0337-4179-b2d8-9d148bc1f9e5"
  },
  {
   "cell_type": "code",
   "execution_count": null,
   "metadata": {},
   "outputs": [
    {
     "output_type": "stream",
     "name": "stderr",
     "text": [
      "Rows: 18 Columns: 8\n",
      "── Column specification ────────────────────────────────────────────────────────\n",
      "Delimiter: \",\"\n",
      "chr (4): PAPER, LANGUAGE, PRIME_DURATION, p<.05?\n",
      "dbl (4): N, MOP_HF, MOP_LF, MOP_Interaction\n",
      "\n",
      "ℹ Use `spec()` to retrieve the full column specification for this data.\n",
      "ℹ Specify the column types or set `show_col_types = FALSE` to quiet this message."
     ]
    },
    {
     "output_type": "stream",
     "name": "stderr",
     "text": [
      "Rows: 17 Columns: 11\n",
      "── Column specification ────────────────────────────────────────────────────────\n",
      "Delimiter: \",\"\n",
      "chr (3): file_name, PAPER, EXP.\n",
      "dbl (8): nsubj, minPower, maxPower, rho_min, std_dev_min, rho_max, std_dev_m...\n",
      "\n",
      "ℹ Use `spec()` to retrieve the full column specification for this data.\n",
      "ℹ Specify the column types or set `show_col_types = FALSE` to quiet this message."
     ]
    },
    {
     "output_type": "stream",
     "name": "stderr",
     "text": [
      "Rows: 17 Columns: 11\n",
      "── Column specification ────────────────────────────────────────────────────────\n",
      "Delimiter: \",\"\n",
      "chr (3): file_name, PAPER, EXP.\n",
      "dbl (8): nsubj, minPower, maxPower, rho_min, std_dev_min, rho_max, std_dev_m...\n",
      "\n",
      "ℹ Use `spec()` to retrieve the full column specification for this data.\n",
      "ℹ Specify the column types or set `show_col_types = FALSE` to quiet this message."
     ]
    }
   ],
   "source": [
    "lit_effects_tbl_filename <- \"supplemental-data/MaskedPrimingDatabase-IDPriming-InteractionFrequency.csv\"\n",
    "\n",
    "lit_effects <- read_csv(lit_effects_tbl_filename)"
   ],
   "id": "9a3c452c-0a89-4b57-93a4-9f85833c4775"
  },
  {
   "cell_type": "raw",
   "metadata": {
    "raw_mimetype": "tex"
   },
   "source": [
    "\\elandscape"
   ],
   "id": "8ce5b986-cdec-447b-be84-64c3449e5784"
  },
  {
   "cell_type": "markdown",
   "metadata": {},
   "source": [
    "# 2. The present study\n",
    "\n",
    "It is somewhat surprising that the status of the FAE in masked priming remains largely unresolved in the literature, given its substantial magnitude (especially considering that the difference between two conditions seems to be statistically significant: *M_FAE* = 13, CI_95% = \\[7, 20\\]), *t*(17) = 4.24, $p=.0005$), and its theoretical significance in elucidating the underlying cognitive processes of masked priming.\n",
    "\n",
    "One possible interpretation of the conflicting past findings revolves around the fact that only 4 out of 18 studies demonstrate a statistically significant FAE in masked repetition priming. Notably, this number potentially diminishes further when considering that, among these four studies, the FAE is detected only through the pooling of data across multiple studies employing a unique alternating-case stimulus presentation ([Bodner and Masson 2001](#ref-BodnerMasson2001); [Masson and Bodner 2003](#ref-MassonBodner2003)). This line of reasoning suggests a qualitatively distinct profile between masked and unmasked repetition priming, with the FAE more firmly established in the latter.\n",
    "\n",
    "Conversely, one could argue that 15 out of 18 studies exhibit numerically larger repetition effect sizes for low-frequency words compared to high-frequency words —- a pattern that is challenging to reconcile with a genuine absence of interaction between frequency and masked repetition. Additionally, the average FAE across all studies stands at 13 ms, a modest yet non-negligible (and statistically significant) effect size. These considerations suggest that a genuine FAE may exist in masked priming but might be smaller than the thresholds detectable by most previous experiments.\n",
    "\n",
    "Compounding this complexity, another potential contributor to past discrepancies is the reliance on the dated Kucera and Francis (1967) word frequency database, which 15 out of 18 studies have depended on. This poses a potential problem, as this frequency database has consistently demonstrated inferior predictive performance, particularly with low-frequency words, compared to more contemporary databases ([Burgess and Livesay 1998](#ref-Burgess1998); [Zevin and Seidenberg 2002](#ref-Zevin2002); [Balota et al. 2004](#ref-Balota2004); [Brysbaert and New 2009](#ref-BrysbaertNew2009); [Yap and Balota 2009](#ref-Yap2009); [Brysbaert and Cortese 2011](#ref-Brysbaert2011); [Gimenes and New 2016](#ref-Gimenes2016); [Herdağdelen and Marelli 2017](#ref-Herdaugdelen2017); [Brysbaert, Mandera, and Keuleers 2018](#ref-Brysbaert2018)). Both of these issues are addressed in the subsequent sections.\n",
    "\n",
    "## 2.1 Issues with frequency databases\n",
    "\n",
    "Due to the well-documented concerns over the reliability of the Kučera and Francis ([1967](#ref-KuceraFrancis1967)) frequency database for psycholinguistic experiments ([Burgess and Livesay 1998](#ref-Burgess1998); [Zevin and Seidenberg 2002](#ref-Zevin2002); [Balota et al. 2004](#ref-Balota2004); [Brysbaert and New 2009](#ref-BrysbaertNew2009); [Yap and Balota 2009](#ref-Yap2009); [Brysbaert and Cortese 2011](#ref-Brysbaert2011); [Gimenes and New 2016](#ref-Gimenes2016); [Herdağdelen and Marelli 2017](#ref-Herdaugdelen2017); [Brysbaert, Mandera, and Keuleers 2018](#ref-Brysbaert2018)), our studies exclusively sourced materials from the HAL ([Lund and Burgess 1996](#ref-LundBurgess1996)) and SUBTLEX${US}$ ([Brysbaert and New 2009](#ref-BrysbaertNew2009)) databases, which reflect more recent linguistic usage and offer better validation in behavioral experiments (e.g., [Balota et al. 2004](#ref-Balota2004); [Brysbaert and New 2009](#ref-BrysbaertNew2009); [Yap and Balota 2009](#ref-Yap2009); [Brysbaert and Cortese 2011](#ref-Brysbaert2011); [Gimenes and New 2016](#ref-Gimenes2016); [Herdağdelen and Marelli 2017](#ref-Herdaugdelen2017)). While these databases outperform Kučera and Francis ([1967](#ref-KuceraFrancis1967)) in predicting psycholinguistic task outcomes, it is important to note potential discrepancies in individual frequency counts, particularly in the low and mid-frequency ranges. This variation, attributable to the primary genre of their sources (USENET groups for HAL and movie subtitles for SUBTLEX$_{US}$),[1] may have minimal impact on megastudies with large word samples (e.g., [Balota et al. 2004](#ref-Balota2004); [Brysbaert and New 2009](#ref-BrysbaertNew2009); [Yap and Balota 2009](#ref-Yap2009); [Brysbaert and Cortese 2011](#ref-Brysbaert2011); [Gimenes and New 2016](#ref-Gimenes2016); [Herdağdelen and Marelli 2017](#ref-Herdaugdelen2017)). However, corpus-specific frequency skew can become significant when dealing with smaller samples of words in studies such as masked priming. <a href=\"#tbl-exFreqSkew\" class=\"quarto-xref\">Table 2</a> illustrates the potential discrepancy in considering words as high or low frequency based on the different aforementioned databases.\n",
    "\n",
    "[1] A separate, though relevant issue which cannot be addressed here is to how to mitigate the discrepancies across the databases available, but see Yap and Balota ([2009](#ref-Yap2009)), and Brysbaert and Cortese ([2011](#ref-Brysbaert2011)) for proposals about combining the frequency counts from different corpora."
   ],
   "id": "04d6b7bb-ba62-4684-902b-f0deaeb15de6"
  },
  {
   "cell_type": "code",
   "execution_count": null,
   "metadata": {},
   "outputs": [
    {
     "output_type": "stream",
     "name": "stderr",
     "text": [
      "Rows: 5 Columns: 4\n",
      "── Column specification ────────────────────────────────────────────────────────\n",
      "Delimiter: \",\"\n",
      "chr (1): Word\n",
      "dbl (3): KF, HAL, SUBTLEX-US\n",
      "\n",
      "ℹ Use `spec()` to retrieve the full column specification for this data.\n",
      "ℹ Specify the column types or set `show_col_types = FALSE` to quiet this message.\n",
      "Rows: 5 Columns: 4\n",
      "── Column specification ────────────────────────────────────────────────────────\n",
      "Delimiter: \",\"\n",
      "chr (1): Word\n",
      "dbl (3): KF, HAL, SUBTLEX-US\n",
      "\n",
      "ℹ Use `spec()` to retrieve the full column specification for this data.\n",
      "ℹ Specify the column types or set `show_col_types = FALSE` to quiet this message.\n",
      "Rows: 5 Columns: 4\n",
      "── Column specification ────────────────────────────────────────────────────────\n",
      "Delimiter: \",\"\n",
      "chr (1): Word\n",
      "dbl (3): KF, HAL, SUBTLEX-US\n",
      "\n",
      "ℹ Use `spec()` to retrieve the full column specification for this data.\n",
      "ℹ Specify the column types or set `show_col_types = FALSE` to quiet this message."
     ]
    }
   ],
   "source": [
    "freqSkew <- list.files(path=\"supplemental-data/\", pattern=\"_skew_\", full.names = T) %>%\n",
    "  lapply(function(x) read_csv(x)) %>% bind_rows()"
   ],
   "id": "8bf8f00f-cf48-49b8-bfd2-38ea37527b39"
  },
  {
   "cell_type": "markdown",
   "metadata": {},
   "source": [
    "## 2.2 Issues with statistical power\n",
    "\n",
    "The inconsistency of past findings regarding the FAE in masked priming has been linked to a potential lack of statistical power in previous research ([Bodner and Masson 1997](#ref-BodnerMasson1997); [Bodner and Masson 2001](#ref-BodnerMasson2001); [Masson and Bodner 2003](#ref-MassonBodner2003)). This is a plausible concern, as interactions like the FAE often require larger sample sizes for statistical detection ([Potvin and Schutz 2000](#ref-PotvinSchtuz2000); [Brysbaert and Stevens 2018](#ref-BrysbaertStevens2018)) compared to main effects. We outline below three ways in which neglecting statistical power might frustrate our understanding of FAE in masked repetition priming.\n",
    "\n",
    "First, our literature review revealed crucial gaps in reporting relevant statistical information, obstructing the assessment of the statistical power attained by past experiments. The inconsistent reporting of each conditions’ standard deviations (only 7 out of 18 studies) and the complete lack of reporting of the correlation structure between conditions complicates power assessments. Researchers are thus forced to explore a range of plausible values for standard deviations and correlation structures on their own.\n",
    "\n",
    "<a href=\"#tbl-litReview\" class=\"quarto-xref\">Table 1</a> details our attempt to conduct power simulations for two hypothesized frequency attenuation effect sizes: 15 ms, close to the averaged FAE of 13 ms, and 30 ms, close to the only four observed statistically significant FAE. Standard deviations (ranging between 60 ms and 180 ms, in 10 ms increments) and correlation between conditions (uniformly set to range between 0.6 and 0.9, with 0.1 unit increments) were simulated for each study’s sample size, with 10,000 replications for each simulation. These range of values were derived from our literature review and previous in lab and online experiments ([Petrosino 2020](#ref-Petrosino2020); [Petrosino, Sprouse, and Almeida 2023](#ref-PetrosinoEtal2023)). For each simulated dataset, a paired *t*-test was performed comparing the repetition effect for high frequency words and low frequency words. This calculation is mathematically identical to the interaction term in a 2x2 factorial within-subjects design, but it is less computationally expensive to perform in large scale simulations. Power to detect this interaction was then calculated as the proportion of significant tests obtained across replications. All else being equal, standard deviations and correlations between conditions have opposite effects on statistical power: increases in standard deviations lead to less power, while increases in correlation between conditions lead to more power.\n",
    "\n",
    "The results reported in <a href=\"#tbl-litReview\" class=\"quarto-xref\">Table 1</a> reveal a wide range of possible statistical power attained by previous studies, depending solely on the combination of plausible standard deviation and correlation across conditions. For instance, the study with the smallest sample size ([Forster et al. 1987](#ref-ForsterEtal1987), $N=16$) had a 2% to 24% chance of detecting a 15 ms frequency attenuation effect and a 4% to 84% chance for a 30 ms effect. Similarly, the study with the largest sample size ([Rajaram and Neely 1992](#ref-RajaramNeely1992), $N=48$) exhibited a range of 4% to 76% for a 15 ms frequency attenuation effect and 9% to 100% for a 30 ms effect. As a consequence of the limited reporting of relevant statistical information in past studies, it is nearly impossible to determine if any of them were adequately powered to detect the effect of interest.\n",
    "\n",
    "A second concern arising from the ambiguity surrounding statistical power in the literature is the potential impact of a prevalence of low-powered experiments on the scientific record. An excess of such experiments increases the risk of observed statistically significant effects being spurious ([Button et al. 2013](#ref-Button2013)). As highlighted in <a href=\"#tbl-litReview\" class=\"quarto-xref\">Table 1</a>, only 4 out of 18 studies demonstrate a statistically significant FAE. The absence of clarity regarding the statistical power of previous research poses challenges in assessing the likelihood of these significant findings being spurious.\n",
    "\n",
    "Finally, it is widely acknowledged that experiments with approximately 50% power are akin to a coin toss in their ability to detect a true effect ([Cohen 1992](#ref-Cohen1992)). A less-appreciated fact is that, in the presence of even lower power (\\<25%), statistically significant results can substantially overestimate the effect size – a type-M error ([Gelman and Carlin 2014](#ref-GelmanCarlin2014)). When power drops to levels below 10%, a statistically significant result may occur even when the observed effect goes in the opposite direction of the true effect – a type-S error ([Gelman and Carlin 2014](#ref-GelmanCarlin2014)). Our power simulations for within-subjects data revealed a similar relationship between statistical power, type-M, and type-S errors in line with the observations detailed by Gelman and Carlin ([2014](#ref-GelmanCarlin2014)) for the independent samples $t$-test. For instance, at 10% power (a possibility for virtually all previous studies, as indicated in <a href=\"#tbl-litReview\" class=\"quarto-xref\">Table 1</a>), a statistically significant result could indicate an overestimation of the magnitude of the frequency attenuation effect by a factor between 2 and 5, with a 5% chance of incorrectly determining the direction of the effect."
   ],
   "id": "0e1ac0ad-21d3-4e6d-a649-96cde7450060"
  },
  {
   "cell_type": "code",
   "execution_count": null,
   "metadata": {},
   "outputs": [
    {
     "output_type": "display_data",
     "metadata": {},
     "data": {}
    }
   ],
   "source": [
    "load(\"supplemental-data/freq_atten_exp2.10ms.RData\")\n",
    "\n",
    "freq_atten_exp2.10ms_df.sub <- freq_atten_exp2.10ms_df %>% \n",
    "  filter(ES == 10) %>%\n",
    "  filter(std_dev >= 80 & std_dev <= 120) %>%\n",
    "  filter(rho >= 0.7 & rho <= 0.9)\n",
    "\n",
    "freq_atten_exp2.10ms_df.sub |>\n",
    "  ggplot(aes(y = power_unadjusted, x = nsubj)) + \n",
    "    geom_line() + \n",
    "    geom_point() +\n",
    "    geom_hline(yintercept = 0.8, color = \"red2\") + \n",
    "    facet_grid(rho ~ std_dev) +\n",
    "  scale_x_continuous(sec.axis = sec_axis(~ . , name = \"sd\", breaks = NULL, labels = NULL)) +\n",
    "  scale_y_continuous(sec.axis = sec_axis(~ . , name = \"cor\", breaks = NULL, labels = NULL)) +\n",
    "  theme_bw()+\n",
    "    theme(#axis.line = element_line(colour = \"black\"),\n",
    "      panel.grid.major = element_blank(),\n",
    "      panel.grid.minor = element_blank(), \n",
    "      panel.border = element_blank(),\n",
    "      legend.position=\"none\"\n",
    "      #panel.background = element_blank() \n",
    "     )+\n",
    "  labs(title=\"FAE = 10 ms\", y = \"power (adjusted)\", x = \"sample size\")"
   ],
   "id": "cell-fig-power"
  },
  {
   "cell_type": "markdown",
   "metadata": {},
   "source": [
    "The two studies reported here were designed to mitigate these two confounding issues: the overreliance on the Kučera and Francis ([1967](#ref-KuceraFrancis1967)) frequency data as well as a potential lack of statistical power observed in previous research. As a large increase in statistical power requires a large sample size, Experiment 1 aimed to assess the suitability of using *Labvanced* ([Finger et al. 2017](#ref-Labvanced2017)), an online platform for running web browser-based experiments, for running masked priming studies online.\n",
    "\n",
    "# 3. Experiment 1\n",
    "\n",
    "As evident in <a href=\"#tbl-litReview\" class=\"quarto-xref\">Table 1</a>, conducting a properly powered experiment for a FAE close to the averaged value calculated from previous studies will require sample sizes that would be impractical to pursue in standard university research settings, typically quiet lab rooms with limited research computers. In response to this challenge, our study was exclusively conducted online, leveraging the growing trend in online behavioral research facilitated by HTML5 capabilities and the availability of advanced web software such as *jsPsych* ([Leeuw 2014](#ref-deLeeuw2014)), *PsychoJS* (the JavaScript counterpart of *PsychoPy*, Peirce et al. ([2019](#ref-PeirceEtal2019))), *Gorilla* ([Anwyl-Irvine et al. 2020](#ref-Anwyl2020)), and *Labvanced* ([Finger et al. 2017](#ref-Labvanced2017)).\n",
    "\n",
    "Notably, two recent studies have already demonstrated the viability of conducting masked priming experiments online, employing different software tools: Angele et al. ([2023](#ref-Angele2023)) with *PsychoJS*, and Cayado, Wray, and Stockall ([2023](#ref-Cayado2023)) with *Gorilla*. In our study, we opted for *Labvanced* ([Finger et al. 2017](#ref-Labvanced2017)). This choice was motivated by our university’s recent acquisition of a group license for *Labvanced*, itself motivated by its user-friendly GUI-based web app nature. Similar to *Gorilla*, *Labvanced* eliminates local installation issues, ensuring cross-platform consistency and simplifying experimental design without necessitating proficiency in additional programming languages.\n",
    "\n",
    "## 3.1 Methods\n",
    "\n",
    "### 3.1.1 Materials\n",
    "\n",
    "Two hundred five-letter English words were selected from the English Lexicon Project (ELP; [Balota et al. 2007](#ref-balota2007)), in which 100 words were selected from an upper and a lower frequency range, respectively.[1] It was not possible to identify two frequency ranges that were well separated from one another for both the HAL ([Lund and Burgess 1996](#ref-LundBurgess1996)) and the SUBTLEX$_{US}$ ([Brysbaert and New 2009](#ref-BrysbaertNew2009)) frequency databases. As <a href=\"#tbl-words_exp1\" class=\"quarto-xref\">Table 3</a> shows, we managed to do this only for the former, whereas some overlap was present in the latter, as expected given the different source of the two databases (see above, and fn. ). The two word subsets corresponded to the two word frequency conditions being tested: the high-frequency, and low-frequency conditions. In each condition, fifty words were randomly chosen to be presented as targets and related primes (for the related prime type condition), and the remaining fifty were presented as unrelated primes (for the unrelated prime type condition).\n",
    "\n",
    "[1] The experiment also included an even lower frequency condition (range: \\[3.0 5.01\\]; mean: 4.39, SD: 0.50), thus summing up to six hundred trials being presented in the experiment. However, the average error rate for this condition was 44% and 33 (out of the 50) target words used in the same condition had a error rate higher than 30%. This suggested that they might have not known these words at all (see Kinoshita ([2006](#ref-Kinoshita2006))). For this reason, this condition was completely removed from analysis and will not be mentioned in the rest of this article."
   ],
   "id": "5a5c760e-b114-49dc-9b8a-f3886b8c5476"
  },
  {
   "cell_type": "code",
   "execution_count": null,
   "metadata": {},
   "outputs": [],
   "source": [
    "exp1_wordlists_folder <- \"./materials/experiment1/\"\n",
    "\n",
    "stimuli <- read.csv(paste0(exp1_wordlists_folder, \"frequency-effects_experiment1_stimuli.csv\"))\n",
    "database <- read.csv(paste0(exp1_wordlists_folder, \"stim-database.csv\"))\n",
    "\n",
    "stimuli <- merge(stimuli, database, by='Word', all.x=T, all.y=F)\n",
    "stimuli <- stimuli[c(-559,-596),] #one word and one non-word were duplicated as being considered both non-words and words\n",
    "\n",
    "words <- stimuli %>% filter(type != 'non-word') \n",
    "nonwords <- stimuli %>% filter(type == 'non-word')\n",
    "\n",
    "words$freq.bin <- factor(words$freq.bin, levels = c(\"high\", \"mid\"))\n",
    "words$type <- as.factor(words$type)\n",
    "\n",
    "words %>% \n",
    "  filter(freq.bin != 'low') %>%\n",
    "  mutate(Freq_HAL.Pm = (Freq_HAL * (10^6) / (131*10^6))) %>% # CHECK IF THE TRANSFORM HERE IS CORRECT\n",
    "  mutate(freq.bin = fct_recode(freq.bin, low = \"mid\")) %>% \n",
    "  dplyr::group_by(freq.bin) %>%\n",
    "  dplyr::summarise(N = n(),\n",
    "            minFreq= min(Freq_HAL.Pm, na.rm = T), maxFreq=max(Freq_HAL.Pm, na.rm = T),\n",
    "            meanFreq = mean(Freq_HAL.Pm, na.rm = T), sdFreq = sd(Freq_HAL.Pm, na.rm = T),\n",
    "            minSUBFreq= min(SUBTLWF, na.rm = T), maxSUBFreq=max(SUBTLWF, na.rm = T),\n",
    "            meanSUBFreq = mean(SUBTLWF, na.rm = T), sdSUBFreq = sd(SUBTLWF, na.rm = T),\n",
    "            #meanRT=mean(as.numeric(I_Mean_RT), na.rm = T), sdRT=sd(as.numeric(I_Mean_RT), na.rm = T),\n",
    "            #meanLength = mean(Length, na.rm = T), sdLength=sd(Length, na.rm = T)\n",
    "            ) %>% \n",
    "  mutate(\n",
    "    across(-freq.bin, ~ if_else(.<1, round(., 2), round(.)))\n",
    "  ) %>% \n",
    "  gt() %>%\n",
    "  tab_spanner(\n",
    "    label = md(\"**HAL**\"), \n",
    "    columns = c(minFreq: sdFreq)\n",
    "  ) %>%\n",
    "  tab_spanner(\n",
    "    label = md(\"**SUBTLEX~US~**\"), \n",
    "    columns = c(minSUBFreq: sdSUBFreq)\n",
    "  ) %>%\n",
    "  cols_label(freq.bin = \"frequency\", \n",
    "             minFreq = \"min\", maxFreq = \"max\", meanFreq = \"mean\", sdFreq = \"SD\", \n",
    "             minSUBFreq = \"min\", maxSUBFreq = \"max\", meanSUBFreq = \"mean\", sdSUBFreq = \"SD\") %>%\n",
    "  gt_add_divider(columns=c(\"maxFreq\", \"maxSUBFreq\"), weight=px(1))"
   ],
   "id": "c94c729f-ae3b-4e8f-848b-4411c756a52c"
  },
  {
   "cell_type": "markdown",
   "metadata": {},
   "source": [
    "Two-hundred five-letter phonotactically legal nonwords were randomly selected from the ELP database as well. Half of them were randomly selected to be presented as targets; the other half was instead used as unrelated nonword primes.\n",
    "\n",
    "### 3.1.2 Participants\n",
    "\n",
    "Three hundred participants (145 females; age mean: 38.48; age sd: 12.44) were recruited on Prolific (<https://www.prolific.com>). Several criteria were selected to ensure recruitment of native speakers of U.S. English. Participants needed to be born in the Unites States of America, speak English as their first and only language, and have no language-related disorder. We encouraged participants to avoid any sort of distraction throughout the experiment, and to close any program that may be running in the background, as a way to boost performance of the stimulus presentation in the web browser as much as possible. Because the experiment was run online, participants could not be monitored in any way during data collection. Finally, to further reduce variability across participants’ devices, we restricted the experiment to be run on Google Chrome only, which is the most used browser worldwide (<https://www.w3counter.com/globalstats.php>), and reportedly performs better than any other across operating systems (likely thanks to the Blink engine; see [Lukács and Gartus 2023](#ref-LukacsGaspar2023)).\n",
    "\n",
    "### 3.1.3 Procedure\n",
    "\n",
    "Each recruited participant was assigned one of two word lists, which differed only in the relatedness of the prime with respect to the target; otherwise, the two lists presented the same set of target words and nonwords (300 items in total). In one list, the three conditions (high-frequency, low-frequency word conditions, and the non-word condition) had 25 target items being preceded by themselves (the *related* condition) and the remaining 25 target items being preceded by one of the unrelated primes belonging to the same frequency bin (the *unrelated* condition). In the other list, these assignments were reversed. The order of stimulus presentation was randomized for each participant.\n",
    "\n",
    "After being recruited, participants were asked to click on a link which redirected them to Labvanced. During the experiment, they were asked to perform a lexical decision task by pressing either the ‘J’ (for word) or ‘F’ (for non-word) keys on their keyboard. Each trial consisted of three different stimuli appearing at the center of the screen: a series of hashes (#####) presented for 500 ms, followed by a prime word presented for 33 ms, and finally the target word; the target word disappeared from the screen as soon as a decision was made. The motivation for the choice of a very short prime duration (as compared to the literature, in which it is usually between 50 and 60 ms; see <a href=\"#tbl-litReview\" class=\"quarto-xref\">Table 1</a>) is threefold. First, previous pilot experiments on *Labvanced* showed that, due to the inherent difficulties in presenting stimuli for very short set durations on the browser, a longer duration would increase the number of trials in which the prime duration would rise above the subliminal threshold (usually set at 60 ms) due to timing inaccuracies and missing screen refreshes, which could trigger the adoption of experiment-wide strategies in the task, and ultimately contaminate the masked priming response. Second, Angele et al. ([2023](#ref-Angele2023)) and Cayado, Wray, and Stockall ([2023](#ref-Cayado2023)) have demonstrated that a 33 ms priming duration does elicit repetition priming effects in online experiments. Finally, setting such a short prime duration prevents virtually everyone from consciously perceiving the prime word Nievas ([2010](#ref-Nievas2010)), and thus presents a less contaminated estimate of early automatic processes in word recognition.\n",
    "\n",
    "Participants were given 5 breaks throughout the experiment. When the experiment was over, the participants were then redirected to Prolific in order to validate their submission. The median time to finish the experiment was 11 minutes and 27 seconds. Each participant was paid with a standard rate of GBP 9/hour.\n",
    "\n",
    "## 3.2 Data analysis"
   ],
   "id": "8ddead69-2dd1-4066-ab20-b28e985a9252"
  },
  {
   "cell_type": "code",
   "execution_count": null,
   "metadata": {},
   "outputs": [],
   "source": [
    "# load the raw data dataframe\n",
    "exp1_data_folder <- \"experiment1\"\n",
    "exp1_rawdata_filename <- \"experiment_1_preprocessed_data.csv\"\n",
    "\n",
    "## 02. check if the rawdata file exists. if not, download it from OSF.\n",
    "if (!file.exists(here(exp1_data_folder, exp1_rawdata_filename))) {\n",
    "  osf_retrieve_file(\"ej8dh\") |> \n",
    "    osf_download(path = here(exp1_data_folder),\n",
    "                 conflicts = \"overwrite\") \n",
    "}\n",
    "\n",
    "## 03. read the data into R.\n",
    "exp1_rawdata <- here(exp1_data_folder, exp1_rawdata_filename) |>\n",
    "  read.csv(na = c(\"\", \"NA\")) %>%\n",
    "  filter(condition_rec != 'low') %>% # deleting the low-low frequency bin\n",
    "  mutate(condition_rec = fct_recode(condition_rec, low = \"mid\"), # renaming the mid-frequency bin as low\n",
    "         primeTime = primeDuration - maskDuration) # calculating the actual SOA\n",
    "\n",
    "exp1_info <- list()\n",
    "exp1_info$intended_prime_duration <- 33\n",
    "exp1_info$prime_dur_lb <- 25\n",
    "exp1_info$prime_dur_ub <- 60\n",
    "exp1_info$rt_lb <- 200\n",
    "exp1_info$rt_ub <- 1800\n",
    "exp1_info$freq_conditions <- c(\"high\", \"low\", \"non-word\")\n",
    "exp1_info$n_recruited <- exp1_rawdata$Rec_Session_Id |>\n",
    "  unique() |>\n",
    "  length()\n",
    "\n",
    "exp1_rawdata.sub <- exp1_rawdata %>%\n",
    "  filter(!is.na(TimeMeasure_Mean) & !is.na(primeDuration) & !is.na(responseError))\n",
    "            \n",
    "\n",
    "exp1_info$summary <- with(\n",
    "  transform(exp1_rawdata.sub,\n",
    "    RT_inrange = ifelse(RT >= exp1_info$rt_lb & RT <= exp1_info$rt_ub, 1, 0),\n",
    "    Prime_inrange = ifelse((primeDuration - maskDuration) >= exp1_info$prime_dur_lb &\n",
    "                             (primeDuration - maskDuration) <= exp1_info$prime_dur_ub, 1, 0),\n",
    "    list = Group_Nr),\n",
    "  {\n",
    "    data.frame(aggregate(Start_Time ~ Rec_Session_Id + Crowdsourcing_SubjId, data=exp1_rawdata.sub, unique),\n",
    "               aggregate(End_Time_Local ~ Rec_Session_Id + Crowdsourcing_SubjId, data=exp1_rawdata.sub, unique),\n",
    "              aggregate(cbind(list, SelectedGender, SelectedAge, TimeMeasure_Mean, TimeMeasure_Std) ~ Rec_Session_Id + Crowdsourcing_SubjId, data=exp1_rawdata.sub, unique),\n",
    "      aggregate(cbind(responseError, RT_inrange, Prime_inrange) ~ Rec_Session_Id + Crowdsourcing_SubjId, mean, data=exp1_rawdata.sub)\n",
    "  )\n",
    "}\n",
    ")\n",
    "\n",
    "exp1_info$summary <- exp1_info$summary[, -grep(\"Rec_Session_Id.|Crowdsourcing_SubjId.\", colnames(exp1_info$summary))] # remove all extra aggregating columns (subj ID)\n",
    "\n",
    "exp1_info$summary$Duration <- interval(ymd_hms(exp1_info$summary$Start_Time), \n",
    "                                             ymd_hms(exp1_info$summary$End_Time_Local)) |>\n",
    "                                      lapply(function(interval_value) {interval_value/dminutes(1)}) |> \n",
    "                                           unlist()"
   ],
   "id": "ced4abe7-b59d-4908-a698-7f059075897a"
  },
  {
   "cell_type": "markdown",
   "metadata": {},
   "source": [
    "Analysis scripts and an abridged version of the data collected can be found on online (<https://osf.io/ej8dh>). We performed three different steps of analyses (in sequential order), with the goal of only keeping data that pass a set of stringent including criteria (77,359 observations in total). After removing participants and items with high error rates, we implemented a novel pre-processing step looking at the distribution of the actual durations of prime stimuli of each trial and for each subject. This was necessary to understand the performance capabilities of experiments set up by *Labvanced*, and how accurate they are in keeping the prime duration constant. Finally, we removed RT outliers.\n",
    "\n",
    "### 3.2.1 Step 1: subject and item performance"
   ],
   "id": "14edbe57-55ec-488e-a325-19589d6efcf6"
  },
  {
   "cell_type": "code",
   "execution_count": null,
   "metadata": {},
   "outputs": [
    {
     "output_type": "stream",
     "name": "stderr",
     "text": [
      "`summarise()` has grouped output by 'condition_rec'. You can override using the\n",
      "`.groups` argument."
     ]
    }
   ],
   "source": [
    "exp1_step1_goodsubj <- exp1_info$summary |>\n",
    "  subset(responseError <= .3) \n",
    "\n",
    "exp1_step1_subj_remain <- exp1_step1_goodsubj |> nrow()\n",
    "\n",
    "exp1_step1_item.err <- exp1_rawdata.sub %>% group_by(condition_rec, target_rec) %>%\n",
    "  summarise(word.percent=mean(responseError)*100) %>% \n",
    "  filter(word.percent > 30)"
   ],
   "id": "2cc892af-207a-4e9f-9ceb-c067dc608f1b"
  },
  {
   "cell_type": "markdown",
   "metadata": {},
   "source": [
    "Item and subject error rates were calculated, with a cutoff of 30%. Only 3 low-frequency words (*carte, parse, posit*), 5 non-words (\\*\\*), and 8 participants were removed, with 291 participants remaining.\n",
    "\n",
    "### 3.2.2 Step 2: prime durations"
   ],
   "id": "44c598a1-c220-415b-8764-cab999bb2e64"
  },
  {
   "cell_type": "code",
   "execution_count": null,
   "metadata": {},
   "outputs": [],
   "source": [
    "exp1_summary.primeTime <- exp1_rawdata.sub %>% \n",
    "  summarise(meanPrimeTime = round(mean(primeTime), 2), \n",
    "            sdPrimeTime = round(sd(primeTime), 2))\n",
    "\n",
    "exp1_primeTimeRangeSummary <- exp1_rawdata.sub %>% \n",
    "  group_by(primeTime) %>%\n",
    "  mutate(range = ifelse(primeTime < exp1_info$prime_dur_lb, \"below\", \n",
    "                        ifelse(primeTime > exp1_info$prime_dur_ub, \"above\",\n",
    "                               \"in range\"))) %>% \n",
    "  group_by(range) %>% tally() %>% ungroup() %>%\n",
    "  mutate(range.percent = round((n*100)/nrow(exp1_rawdata.sub),2))\n",
    "\n",
    "exp1_data_step2 <- exp1_data_step1  |>\n",
    "  subset(primeTime >= exp1_info$prime_dur_lb & primeTime <= exp1_info$prime_dur_ub)\n",
    "\n",
    "exp1_step2_subj_remain <- exp1_data_step2$Rec_Session_Id |>\n",
    "  unique() |>\n",
    "  length()\n",
    "\n",
    "exp1_step2_trials_remain <- nrow(exp1_data_step2)"
   ],
   "id": "c25555a3-500d-4864-a5c1-2e12b4ff29b1"
  },
  {
   "cell_type": "markdown",
   "metadata": {},
   "source": [
    "During the experiment, the duration of presentation of the prime word was recorded for every trial. Both the mean (mean = 37.88 ms) and the median (median = 35 ms) of the actual prime durations were slightly larger than the intended prime duration (33 ms). This distribution suggests that, while overall the visual presentation was kept in most trials at the intended duration, it was not 100% as precise and accurate as dedicated presentation software installed on lab computers. This was expected and likely due to the inherent difficulty with timing precision of visual presentations in web browsers and the great variation of devices used by the participants. Both of these issues may be impossible to control, at least at the current state of browser development. However, in masked priming, in which the duration of the prime is essential part of the design itself, such fluctuations may indeed hinder proper elicitation of the priming response. As a way to counteract the potential influence that such fluctuations might have had on the priming response, we only kept trials whose prime durations were within a pre-set range from the intended prime duration of 33 ms. Taking a standard 60-Hz monitor as reference, the lower and the upper bounds were set respectively at 25 ms (i.e., the intended prime duration minus half of a full refresh cycle: $33-8~ ms$; noting that Angele et al. ([2023](#ref-Angele2023)) already showed that no repetition priming effects are obtained with a 16.7ms prime duration) and 60 ms (i.e., the commonly accepted upper threshold of subliminal processing), so to remove as much as possible any trial that could have been consciously seen by participants. In the experiment tested, only 4% of the trials were out of the range selected. We take this as further corroborating evidence that *Labvanced* is pretty good at presenting stimuli at short durations, and the present, rather minimal fluctuations were due to external, and virtually incontrollable factors (such as CPU power, internet connection speed, and number of active operations in the background). The the out-of-range trial removal was performed on the data after the error rate removal procedure. A total of 291 participants and 67,209 observations were included in the next steps of analysis.\n",
    "\n",
    "### 3.2.3 Step 3: RT distribution"
   ],
   "id": "de426ec1-e1af-491c-a4ae-20ddd2649daa"
  },
  {
   "cell_type": "code",
   "execution_count": null,
   "metadata": {},
   "outputs": [],
   "source": [
    "# RT outliers \n",
    "exp1_data_step3 <- exp1_data_step2 |> \n",
    "  subset(RT >= exp1_info$rt_lb & RT <= exp1_info$rt_ub)\n",
    "\n",
    "exp1_step3_subj_remain <- exp1_data_step3$Rec_Session_Id |>\n",
    "  unique() |>\n",
    "  length()\n",
    "\n",
    "exp1_step3_trials_remain <- nrow(exp1_data_step3)\n",
    "\n",
    "# error trial removal\n",
    "\n",
    "exp1_data_step3b <- exp1_data_step3  |>\n",
    "  subset(responseError == 0)\n",
    "\n",
    "exp1_step3b_subj_remain <- exp1_data_step3b$Rec_Session_Id |>\n",
    "  unique() |>\n",
    "  length()\n",
    "\n",
    "exp1_step3b_trials_remain <- nrow(exp1_data_step3b)\n",
    "\n",
    "# remove subjects with less than 12 trials in at least one condition*primetype combination (half of the total number of items per combination)\n",
    "rt_data_labels <- c(\"Rec_Session_Id\", \"condition_rec\", \"primetype_rec\", \"RT\")\n",
    "\n",
    "exp1_subj_filter_2 <- exp1_data_step3b[, rt_data_labels] |>\n",
    "  aggregate(RT ~ ., FUN = length, drop = FALSE) |>\n",
    "  subset(RT < 12, select = Rec_Session_Id) |>\n",
    "  unique() |>\n",
    "  unlist()\n",
    "\n",
    "exp1_data_final <- exp1_data_step3b |>\n",
    "  subset(!(Rec_Session_Id %in% exp1_subj_filter_2))\n",
    "\n",
    "exp1_final_subj_remain <- exp1_data_final$Rec_Session_Id |>\n",
    "  unique() |> \n",
    "  length()\n",
    "  \n",
    "exp1_final_trials_remain <- nrow(exp1_data_final)"
   ],
   "id": "9d311447-a85d-4f75-a111-b8a62ed405d1"
  },
  {
   "cell_type": "markdown",
   "metadata": {},
   "source": [
    "Finally, individual trials were excluded if their RT was below 200 ms and 1800 ms. 602 observations were excluded at this stage of analysis (i.e., 99.1% of the dataset). After removing incorrect trials, to ensure more accurate estimates, we also made sure that each condition (frequency\\*primetype) for each each participant ended up with at least half of the total number of trials presented (i.e., 12). A total of 61,449 observations and 282 subjects were included in the statistical analysis below.\n",
    "\n",
    "## 3.3 Results"
   ],
   "id": "ba9aa964-3c64-4b4b-bf57-927ff11887ef"
  },
  {
   "cell_type": "code",
   "execution_count": null,
   "metadata": {},
   "outputs": [
    {
     "output_type": "stream",
     "name": "stderr",
     "text": [
      "`summarise()` has grouped output by 'condition_rec', 'primetype_rec'. You can\n",
      "override using the `.groups` argument."
     ]
    },
    {
     "output_type": "stream",
     "name": "stderr",
     "text": [
      "`summarise()` has grouped output by 'Rec_Session_Id', 'condition_rec'. You can\n",
      "override using the `.groups` argument."
     ]
    },
    {
     "output_type": "stream",
     "name": "stderr",
     "text": [
      "`summarise()` has grouped output by 'Rec_Session_Id', 'condition_rec'. You can\n",
      "override using the `.groups` argument."
     ]
    },
    {
     "output_type": "stream",
     "name": "stderr",
     "text": [
      "`summarise()` has grouped output by 'condition_rec'. You can override using the\n",
      "`.groups` argument."
     ]
    },
    {
     "output_type": "stream",
     "name": "stderr",
     "text": [
      "Warning: There was 1 warning in `mutate()`.\n",
      "ℹ In argument: `across(c(13), round, 2)`.\n",
      "Caused by warning:\n",
      "! The `...` argument of `across()` is deprecated as of dplyr 1.1.0.\n",
      "Supply arguments directly to `.fns` through an anonymous function instead.\n",
      "\n",
      "  # Previously\n",
      "  across(a:b, mean, na.rm = TRUE)\n",
      "\n",
      "  # Now\n",
      "  across(a:b, \\(x) mean(x, na.rm = TRUE))"
     ]
    }
   ],
   "source": [
    "# error rates averages\n",
    "### N.B.: to calculate error rates, will have to apply the 12-trial removal procedure after the RT removal procedure and without removing the error trials\n",
    "exp1_subj_filter_2_with.errors <- exp1_data_step3[, rt_data_labels] |> #exp1_data_step3 is the dataset after RT removal and before the error trial removal\n",
    "  aggregate(RT ~ ., FUN = length, drop = FALSE) |>\n",
    "  subset(RT < 12, select = Rec_Session_Id) |>\n",
    "  unique() |>\n",
    "  unlist()\n",
    "\n",
    "exp1_data_final_with.errors <- exp1_data_step3 |>\n",
    "  subset(!(Rec_Session_Id %in% exp1_subj_filter_2))\n",
    "\n",
    "exp1_error.rates <- exp1_data_final_with.errors %>%\n",
    "  mutate(primetype_rec = factor(primetype_rec, levels=c(\"unrelated\", \"related\")),\n",
    "         condition_rec = factor(condition_rec, levels=c(\"high\", \"low\", \"non-word\"))) %>%\n",
    "  group_by(condition_rec, primetype_rec, Rec_Session_Id) %>%\n",
    "  summarise(error.percent=mean(responseError)*100)"
   ],
   "id": "5665548c-f976-4023-98f2-919509ed4acd"
  },
  {
   "cell_type": "markdown",
   "metadata": {},
   "source": [
    "For each frequency bin, priming effects were calculated for each subject by subtracting the subject’s mean RT to the related condition from the subject’s mean RT to the unrelated condition. Unstandardized (in ms) and standardized effect sizes (i.e., Cohen’s *d*) were then calculated for each condition. <a href=\"#tbl-statsResults\" class=\"quarto-xref\">Table 4</a> below reports the descriptive and inferential statistics of the experiment. Both frequency conditions show statistically significant repetition priming effects (*MOP_HF* = 23, CI_95% = \\[19, 27\\], *t*(281) = 10.4, $p<.0001$; *MOP_LF* = 30, CI_95% = \\[24, 36\\], *t*(281) = 9.75, $p<.0001$), whereas the non-word priming effects were right at the alpha-level (*MOP\\_* = -4, CI_95% = \\[-8, 0\\], *t*(281) = -1.91, $p=0.057$). The low-frequency repetition priming effect was 7-ms larger than that of the high-frequency words, but this FAE effect was only marginally significant (*M_FAE* = 7, CI_95% = \\[-1, 15\\]), *t*(281) = 1.88, $p=0.06$). As for the error analysis, we found a significant priming effect in all conditions (high: *t*(281)=2.51, $p<.0001$; low: *t*(281)=6.39, $p<.0001$; non-word: *t*(281)=-2.24, $p<.0001$)."
   ],
   "id": "8851f9f8-a9f0-4d85-b996-8f393b8fde4d"
  },
  {
   "cell_type": "raw",
   "metadata": {
    "raw_mimetype": "tex"
   },
   "source": [
    "\\blandscape"
   ],
   "id": "4ebc54a0-c81a-4c50-ac90-d120a4a7edbb"
  },
  {
   "cell_type": "code",
   "execution_count": null,
   "metadata": {
    "tbl-pos": "h"
   },
   "outputs": [],
   "source": [
    "exp1_summary.results_mop <- merge(exp1_gdavg_mop_summary, exp1_rt_stats_main, by='factor')\n",
    "exp1_summary.results_fae <- merge(exp1_gdavg_fae_summary, exp1_rt_stats_interaction, by='factor') |>\n",
    "  select(-mean_high, -mean_low)\n",
    "\n",
    "exp1_summary.results <- bind_rows(exp1_summary.results_mop, exp1_summary.results_fae)\n",
    "  \n",
    "exp1_summary.results %>%\n",
    "  relocate(c(\"sd_unrelated\", \"mean.error_unrelated\"), .before=gd.mean_related) %>%\n",
    "  gt() %>%\n",
    "  cols_label(\n",
    "    CI = \"95% CI\",\n",
    "    contains(\"mean\") ~ \"mean\",\n",
    "    contains(\"sd\") ~ \"SD\", \n",
    "    contains(\"error\") ~ \"Error (%)\"\n",
    "  ) %>%\n",
    "  tab_spanner(\n",
    "    label = \"unrelated RT\",\n",
    "    columns = c(2:4)\n",
    "  ) %>%\n",
    "  tab_spanner(\n",
    "    label = \"repetition RT\",\n",
    "    columns = c(5:7)\n",
    "  ) %>%\n",
    "  tab_spanner(\n",
    "    label = 'priming effects',\n",
    "    columns = c(9:12)\n",
    "  ) %>%\n",
    "  tab_spanner(\n",
    "    label = md(\"_t_-test\"),\n",
    "    columns = c(13:15)\n",
    "  ) %>%\n",
    "  cols_label(\n",
    "    sd = md(\"SD~p~\")\n",
    "  ) %>%\n",
    "  cols_label(\n",
    "    t = md(\"_t_\"),\n",
    "    p = md(\"_p_\"),\n",
    "  ) %>%\n",
    "   sub_missing(\n",
    "    missing_text = \" \"\n",
    "  )"
   ],
   "id": "de35cf75-5cae-4b40-9816-65a389454d13"
  },
  {
   "cell_type": "raw",
   "metadata": {
    "raw_mimetype": "tex"
   },
   "source": [
    "\\elandscape"
   ],
   "id": "f4e287b7-66fd-4c87-ac40-b02dbd47dfab"
  },
  {
   "cell_type": "markdown",
   "metadata": {},
   "source": [
    "## 3.4 Discussion\n",
    "\n",
    "The primary objective of Experiment 1 was to present findings from a typical masked repetition priming experiment conducted online and to evaluate whether contemporary online stimulus delivery programs, such as *Labvanced*, can yield data comparable in quality to traditional lab-based experiments. The results indicate that online experiments using *Labvanced* can indeed provide masked priming data of satisfactory quality with some precautionary considerations in data analysis.\n",
    "\n",
    "First, the error rate was found significant in all priming conditions, with the non-word condition triggering inhibitory effects, in line with the previous literature Forster ([1999](#ref-Forster1999)). More crucially for the question being asked here, we found statistically significant masked priming effects in the response to both high- and low-frequency conditions, and a marginally significant FAE effect (with an effect size of 7 ms). As noted elsewhere ([Potvin and Schutz 2000](#ref-PotvinSchtuz2000)), the absence of a significant interaction effect may easily arise due to low statistical power. To address this concern, Experiment 2 employed a sample size determined by the power analysis simulations mentioned above, ensuring acceptable statistical power ($1-\\beta>80%$) to detect the potential interaction between priming and frequency.\n",
    "\n",
    "# 4. Experiment 2\n",
    "\n",
    "The findings from Experiment 1, as well as those reported by Angele et al. ([2023](#ref-Angele2023)) and Cayado, Wray, and Stockall ([2023](#ref-Cayado2023)), establish the feasibility of obtaining masked repetition priming in online experiments with a 33 ms prime duration. However, a crucial question remains: can we reliably detect the Frequency Attenuation Effect (FAE) under these online settings? Experiment 2 directly addresses concerns about potential statistical power limitations observed in Experiment 1 and much of the prior literature. Specifically targeting what we construe as the smallest theoretically interesting FAE (5ms), we recruited a larger sample size, as determined by a power analysis simulation. We simulated 10,000 datasets for each of the combinations of two statistical parameters (standard deviation, correlation conditions, which were kept uniform for simplicity) for various sample sizes and hypothesized FAEs. Based on our own pilot studies and previous published work ([Petrosino 2020](#ref-Petrosino2020); [Petrosino, Sprouse, and Almeida 2023](#ref-PetrosinoEtal2023)), the simulations involved the standard deviation ranging between 80 and 120 ms (with 10 ms increments), the correlation between 0.7 and 0.9 (with 0.1 increments), and the sample size between 200 and 3,000 participants (with 150 unit increments). Three different FAE sizes were chosen: 15 ms, 10 ms and 5 ms. The first effect size (15 ms) is about half of the ones observed in the studies that had a significant interaction (~30 ms). The second effect size (10 ms) is close to the size of the average frequency attenuation effect found in the literature (13 ms). The last effect size (5 ms) is our lower-bound estimate of a theoretically interesting effect size. The code used for the power simulations, along with the simulated datasets are available online (<https://osf.io/r7d2q/>).\n",
    "\n",
    "Our analysis identified a sample size of 1,250 participants as optimal, ensuring robust statistical power (\\> 80%) across various parameter combinations (<a href=\"#fig-power-1250\" class=\"quarto-xref\">Figure 2</a>), especially for raw FAEs equal to or exceeding 10 ms —- a value closely aligned with the average FAE calculated from previous studies (refer to <a href=\"#tbl-litReview\" class=\"quarto-xref\">Table 1</a>). In light of the observed limitations in the temporal accuracy and precision of current online stimulus delivery programs (discussed in <a href=\"#sec-exp1-analysis-primeTime\" class=\"quarto-xref\">Section 3.2.2</a>), which necessitated substantial subject and data exclusion in Experiment 1, we aimed for an intended sample size of 2,600. This decision was made to enhance the likelihood of obtaining our target sample size of 1,250 participants after applying all the necessary exclusion criteria to the data."
   ],
   "id": "db67aa31-be8a-4831-a6ae-5d4702dd6a6b"
  },
  {
   "cell_type": "code",
   "execution_count": null,
   "metadata": {},
   "outputs": [
    {
     "output_type": "display_data",
     "metadata": {},
     "data": {}
    }
   ],
   "source": [
    "load(\"/Users/rp3650/Library/CloudStorage/GoogleDrive-robpetrosino@gmail.com/My Drive/Academics/projects/morphology/morphological-decomposition/sub-projects/frequency-effects/frequency-effects_power-analysis/freq_atten_exp2.5ms.RData\")\n",
    "\n",
    "load(\"/Users/rp3650/Library/CloudStorage/GoogleDrive-robpetrosino@gmail.com/My Drive/Academics/projects/morphology/morphological-decomposition/sub-projects/frequency-effects/frequency-effects_power-analysis/freq_atten_exp2.10ms.RData\")\n",
    "\n",
    "load(\"/Users/rp3650/Library/CloudStorage/GoogleDrive-robpetrosino@gmail.com/My Drive/Academics/projects/morphology/morphological-decomposition/sub-projects/frequency-effects/frequency-effects_power-analysis/freq_atten_exp2.15ms.RData\")\n",
    "\n",
    "freq_atten_exp2.5ms_df.sub <- freq_atten_exp2.5ms_df %>% \n",
    "  filter(ES == 5) %>%\n",
    "  filter(std_dev >= 80 & std_dev <= 120) %>%\n",
    "  filter(rho >= 0.7 & rho <= 0.9)\n",
    "\n",
    "freq_atten_exp2.10ms_df.sub <- freq_atten_exp2.10ms_df %>% \n",
    "  filter(ES == 10) %>%\n",
    "  filter(std_dev >= 80 & std_dev <= 120) %>%\n",
    "  filter(rho >= 0.7 & rho <= 0.9)\n",
    "\n",
    "freq_atten_exp2.15ms_df.sub <- freq_atten_exp2.15ms_df %>% \n",
    "  filter(ES == 15 & grepl(\"interaction\", row.names(freq_atten_exp2.15ms_df))) %>%\n",
    "  filter(std_dev >= 80 & std_dev <= 120) %>%\n",
    "  filter(rho >= 0.7 & rho <= 0.9)\n",
    "\n",
    "power_pred_df <- bind_rows(freq_atten_exp2.5ms_df.sub, freq_atten_exp2.10ms_df.sub, freq_atten_exp2.15ms_df.sub) \n",
    "\n",
    "power_pred_df.sub1250 <- power_pred_df %>%\n",
    "  filter(nsubj == 1700)\n",
    "\n",
    "power_pred_df.sub1250 |>\n",
    "  ggplot(aes(y = power_unadjusted, x = ES)) + \n",
    "    geom_line() + \n",
    "    geom_point() +\n",
    "    geom_hline(yintercept = 0.8, color = \"red2\") + \n",
    "    facet_grid(rho ~ std_dev) +\n",
    "  scale_x_continuous(breaks=seq(5, 15, 5), limits=c(5, 15), labels=seq(5, 15, 5),\n",
    "    sec.axis = sec_axis(~ . , name = \"sd\", breaks = NULL, labels = NULL)) +\n",
    "  scale_y_continuous(breaks=seq(0, 1, 0.2), limits=c(0, 1), labels=seq(0, 1, .2),\n",
    "    sec.axis = sec_axis(~ . , name = \"cor\", breaks = NULL, labels = NULL)) +\n",
    "  theme_bw()+\n",
    "    theme(#axis.line = element_line(colour = \"black\"),\n",
    "      panel.grid.major = element_blank(),\n",
    "      panel.grid.minor = element_blank(), \n",
    "      panel.border = element_blank(),\n",
    "      legend.position=\"none\"\n",
    "      #panel.background = element_blank() \n",
    "     )+\n",
    "  labs(title=\"N=1,250\", y = \"power (unadjusted)\", x = \"FAE size (ms)\")"
   ],
   "id": "cell-fig-power-1250"
  },
  {
   "cell_type": "markdown",
   "metadata": {},
   "source": [
    "## 4.1 Methods\n",
    "\n",
    "### 4.1.1 Preregistration\n",
    "\n",
    "We preregistered the results of the power analysis, the goals, and the design and analysis plan for experiment 2 prior to data collection. The preregistration, containing the desired sample size, included variables, hypotheses, and planned analyses is available on online (<https://doi.org/10.17605/OSF.IO/3NFQP>).\n",
    "\n",
    "### 4.1.2 Materials\n",
    "\n",
    "One-hundred and four five-letter words, half of low frequency (between 7 and 24 in the SUBTLEX$_{US}$ frequency per million) and half of high frequency (between 57 and 2,961 in the SUBTLEX$_{US}$ frequency per million) were sampled from ELP ([Balota et al. 2007](#ref-balota2007)), but this time based on the SUBTLEX$_{US}$ frequency counts rather than HAL as experiment 1. <a href=\"#tbl-words_exp2\" class=\"quarto-xref\">Table 5</a> shows that although the SUBTLEX$_{US}$ frequency ranges of the two conditions were very far from one another (similarly to what was done in Experiment 1; <a href=\"#sec-exp1-methods-materials\" class=\"quarto-xref\">Section 3.1.1</a>), they still show some overlap in when HAL frequencies are used. As mentioned before, this seems to be a general problem when considering different frequency databases at the same time for a smaller set of stimuli that need to be manipulated and controlled in different ways (see also fn. ). From each word set, fifty words were randomly chosen to be presented as targets and related primes (the *related* condition), and the remaining fifty were presented as unrelated primes (the *unrelated* condition). All words used were monomorphemic nouns, adjectives, or verbs, thus excluding particles, prepositions, and derived or inflected forms."
   ],
   "id": "62122ee5-e348-4ecf-85ce-f333d17bcdb9"
  },
  {
   "cell_type": "code",
   "execution_count": null,
   "metadata": {},
   "outputs": [],
   "source": [
    "words_exp2 <- read.csv('./materials/experiment2/frequency-effects_experiment2_stimuli.csv') %>% filter(type=='word')\n",
    "\n",
    "needs_mutated <- function(x) {\n",
    "  if(!is.numeric(x)) return(FALSE)\n",
    "  max(x, na.rm = TRUE) > 100\n",
    "}\n",
    "\n",
    "words_exp2 %>%\n",
    "  group_by(freq.bin) %>%\n",
    "  mutate(Freq_HAL.Pm = (Freq_HAL * 10^6)/(131 * 10^6)) %>%\n",
    "  summarise(N = n(),\n",
    "            minFreq= min(Freq_HAL.Pm, na.rm = T), maxFreq=max(Freq_HAL.Pm, na.rm = T),\n",
    "            meanFreq = mean(Freq_HAL.Pm, na.rm = T), sdFreq = sd(Freq_HAL.Pm, na.rm = T),\n",
    "            minSUBFreq= min(SUBTLWF, na.rm = T), maxSUBFreq=max(SUBTLWF, na.rm = T),\n",
    "            meanSUBFreq = mean(SUBTLWF, na.rm = T), sdSUBFreq = sd(SUBTLWF, na.rm = T),\n",
    "            #meanRT=mean(as.numeric(I_Mean_RT), na.rm = T), sdRT=sd(as.numeric(I_Mean_RT), na.rm = T),\n",
    "            #meanLength = mean(Length, na.rm = T), sdLength=sd(Length, na.rm = T)\n",
    "            ) %>% \n",
    "  mutate_if(is.numeric, ~round(.)) %>% \n",
    "  mutate_if(needs_mutated, ~round(.)) %>%\n",
    "  gt() %>%\n",
    "  cols_label(\n",
    "    freq.bin = \"frequency\", \n",
    "    minFreq = \"min\", maxFreq = \"max\", meanFreq = \"mean\", sdFreq = \"SD\", \n",
    "    minSUBFreq = \"min\", maxSUBFreq = \"max\", meanSUBFreq = \"mean\", sdSUBFreq = \"SD\") %>%\n",
    "  tab_spanner(\n",
    "    label=md(\"**HAL**\"),\n",
    "    columns=3:6\n",
    "  ) %>%\n",
    "  tab_spanner(\n",
    "    label=md(\"**SUBTLEX~US~**\"),\n",
    "    columns=7:10\n",
    "  )"
   ],
   "id": "00e3ad52-b78a-4a66-b791-4b275cd4c5b4"
  },
  {
   "cell_type": "markdown",
   "metadata": {},
   "source": [
    "One-hundred and four five-letter, phonotactically legal nonwords were randomly selected from the ELP database as well. Half of them were randomly selected to be presented as targets; the other half was instead used as unrelated nonword primes. None of the nonwords contained any existing English morpheme. Both the words and non-words used in the experiments are reported in the appendix below.\n",
    "\n",
    "### 4.1.3 Participants\n",
    "\n",
    "Two thousand and six hundred participants (1445 females; age mean: 42.31; age sd: 14.12) were recruited on Prolific (<https://www.prolific.com>) with the same criteria specified for experiment 1 (<a href=\"#sec-exp1-methods-participants\" class=\"quarto-xref\">Section 3.1.2</a>).\n",
    "\n",
    "### 4.1.4 Procedure\n",
    "\n",
    "Experiment 2 was conducted in the same way as experiment 1 (see <a href=\"#sec-exp1-methods-proc\" class=\"quarto-xref\">Section 3.1.3</a>). The median time to finish the experiment was around 5 minutes.\n",
    "\n",
    "## 4.2 Data analysis"
   ],
   "id": "25863c9c-1331-451a-99b0-6460ded2bf25"
  },
  {
   "cell_type": "code",
   "execution_count": null,
   "metadata": {},
   "outputs": [],
   "source": [
    "# load the raw data dataframe\n",
    "exp2_data_folder <- \"experiment2\"\n",
    "exp2_rawdata_filename <- \"experiment_2_preprocessed_data.csv\"\n",
    "\n",
    "## 02. check if the rawdata file exists. if not, download it from OSF.\n",
    "if (!file.exists(here(exp2_data_folder, exp2_rawdata_filename))) {\n",
    "  osf_retrieve_file(\"vn3r2\") |> \n",
    "    osf_download(path = here(exp2_data_folder),\n",
    "                 conflicts = \"overwrite\") \n",
    "}\n",
    "\n",
    "## 03. read the data into R.\n",
    "exp2_rawdata <- here(exp2_data_folder, exp2_rawdata_filename) |>\n",
    "  read.csv(na = c(\"\", \"NA\")) %>%\n",
    "  mutate(primeTime = primeDuration - maskDuration) # calculating the actual SOA\n",
    "\n",
    "exp2_info <- list()\n",
    "exp2_info$intended_prime_duration <- 33\n",
    "exp2_info$prime_dur_lb <- 25\n",
    "exp2_info$prime_dur_ub <- 60\n",
    "exp2_info$rt_lb <- 200\n",
    "exp2_info$rt_ub <- 1800\n",
    "exp2_info$freq_conditions <- c(\"high\", \"low\", \"non-word\")\n",
    "exp2_info$n_recruited <- exp2_rawdata$Rec_Session_Id |>\n",
    "  unique() |>\n",
    "  length()\n",
    "\n",
    "exp2_rawdata.sub <- exp2_rawdata %>%\n",
    "  filter(!is.na(TimeMeasure_Mean) & !is.na(primeDuration) & !is.na(responseError))\n",
    "            \n",
    "exp2_info$summary <- with(\n",
    "  transform(exp2_rawdata.sub,\n",
    "    RT_inrange = ifelse(RT >= exp2_info$rt_lb & RT <= exp2_info$rt_ub, 1, 0),\n",
    "    Prime_inrange = ifelse((primeDuration - maskDuration) >= exp2_info$prime_dur_lb &\n",
    "                             (primeDuration - maskDuration) <= exp2_info$prime_dur_ub, 1, 0)),\n",
    "  {\n",
    "    data.frame(aggregate(Start_Time ~ Rec_Session_Id + Crowdsourcing_SubjId, data=exp2_rawdata.sub, unique),\n",
    "               aggregate(End_Time_Local ~ Rec_Session_Id + Crowdsourcing_SubjId, data=exp2_rawdata.sub, unique),\n",
    "              aggregate(cbind(list, SelectedGender, SelectedAge, TimeMeasure_Mean, TimeMeasure_Std) ~ Rec_Session_Id + Crowdsourcing_SubjId, data=exp2_rawdata.sub, unique),\n",
    "      aggregate(cbind(responseError, RT_inrange, Prime_inrange) ~ Rec_Session_Id + Crowdsourcing_SubjId, mean, data=exp2_rawdata.sub)\n",
    "  )\n",
    "}\n",
    ")\n",
    "\n",
    "exp2_info$summary <- exp2_info$summary[, -grep(\"Rec_Session_Id.|Crowdsourcing_SubjId.\", colnames(exp2_info$summary))] # remove all extra aggregating columns (subj ID)\n",
    "\n",
    "exp2_info$summary$Duration <- interval(ymd_hms(exp2_info$summary$Start_Time), \n",
    "                                             ymd_hms(exp2_info$summary$End_Time_Local)) |>\n",
    "                                      lapply(function(interval_value) {interval_value/dminutes(1)}) |> \n",
    "                                           unlist()"
   ],
   "id": "ab0e61bd-cd64-4e82-a2ce-2edee52d824a"
  },
  {
   "cell_type": "markdown",
   "metadata": {},
   "source": [
    "Analysis scripts and an abridged version of the data collected can be found online (<https://osf.io/vn3r2>), and consisted of 297,598 observations in total. We performed the same three steps of analysis described for experiment 1 (<a href=\"#sec-exp1-analysis\" class=\"quarto-xref\">Section 3.2</a>).\n",
    "\n",
    "### 4.2.1 Step 1: subject and item performance"
   ],
   "id": "9e2f3ac8-4006-4e12-9d26-6e8399fdd387"
  },
  {
   "cell_type": "code",
   "execution_count": null,
   "metadata": {},
   "outputs": [
    {
     "output_type": "stream",
     "name": "stderr",
     "text": [
      "`summarise()` has grouped output by 'condition_rec'. You can override using the\n",
      "`.groups` argument."
     ]
    }
   ],
   "source": [
    "exp2_step1_goodsubj <- exp2_info$summary |>\n",
    "  subset(responseError <= .3) \n",
    "\n",
    "exp2_step1_subj_remain <- exp2_step1_goodsubj |> nrow()\n",
    "\n",
    "exp2_step1_item.err <- exp2_rawdata.sub %>% group_by(condition_rec, target_rec) %>%\n",
    "  summarise(word.percent=mean(responseError)*100) %>% \n",
    "  filter(word.percent > 30)"
   ],
   "id": "442f01b1-731b-46b6-ac22-3acbc7c829eb"
  },
  {
   "cell_type": "markdown",
   "metadata": {},
   "source": [
    "Similarly to experiment 1, item and subject error rates were calculated. The item error rate was never below above 14%, so no item was excluded from analysis. 19 subjects were removed because their error rate was above 30%. Thus, a total of 269,652 observations and 2,593 participants were included in further analyses.\n",
    "\n",
    "### 4.2.2 Step 2: prime durations"
   ],
   "id": "a8133686-3965-4e83-abbd-8a18f023a446"
  },
  {
   "cell_type": "code",
   "execution_count": null,
   "metadata": {},
   "outputs": [],
   "source": [
    "exp2_summary.primeTime <- exp2_rawdata.sub %>% \n",
    "  summarise(meanPrimeTime = round(mean(primeTime), 2), \n",
    "            sdPrimeTime = round(sd(primeTime), 2))\n",
    "\n",
    "exp2_primeTimeRangeSummary <- exp2_rawdata.sub %>% \n",
    "  group_by(primeTime) %>%\n",
    "  mutate(range = ifelse(primeTime < exp2_info$prime_dur_lb, \"below\", \n",
    "                        ifelse(primeTime > exp2_info$prime_dur_ub, \"above\",\n",
    "                               \"in range\"))) %>% \n",
    "  group_by(range) %>% tally() %>% ungroup() %>%\n",
    "  mutate(range.percent = round((n*100)/nrow(exp2_rawdata.sub),2))\n",
    "\n",
    "exp2_data_step2 <- exp2_data_step1  |>\n",
    "  subset(primeTime >= exp2_info$prime_dur_lb & primeTime <= exp2_info$prime_dur_ub)\n",
    "\n",
    "exp2_step2_subj_remain <- exp2_data_step2$Rec_Session_Id |>\n",
    "  unique() |>\n",
    "  length()\n",
    "\n",
    "exp2_step2_trials_remain <- nrow(exp2_data_step2)"
   ],
   "id": "a1cdc195-8221-482f-b1bd-57fa5a94ee56"
  },
  {
   "cell_type": "markdown",
   "metadata": {},
   "source": [
    "Prime fluctuations were dealt with in the same way as in experiment 1 (<a href=\"#sec-exp1-analysis-primeTime\" class=\"quarto-xref\">Section 3.2.2</a>). As compared to experiment 1, this time the mean (mean = 32.32 ms, sd = 15) and the median (median = 33 ms) were closer to the intended prime duration (33 ms). The prime duration cut-off set for experiment 1 (i.e., any trial whose prime duration was out of the 25-60ms range) removed 13 % of the trials. No participant was excluded, for a total of 237,287 observations.\n",
    "\n",
    "### 4.2.3 Step 3: RT distribution"
   ],
   "id": "f6366481-8d53-481f-aff6-8fa7d7937700"
  },
  {
   "cell_type": "code",
   "execution_count": null,
   "metadata": {},
   "outputs": [],
   "source": [
    "# RT outliers \n",
    "exp2_data_step3 <- exp2_data_step2 |> \n",
    "  subset(RT >= exp2_info$rt_lb & RT <= exp2_info$rt_ub)\n",
    "\n",
    "exp2_step3_subj_remain <- exp2_data_step3$Rec_Session_Id |>\n",
    "  unique() |>\n",
    "  length()\n",
    "\n",
    "exp2_step3_trials_remain <- nrow(exp2_data_step3)\n",
    "\n",
    "# error trial removal\n",
    "\n",
    "exp2_data_step3b <- exp2_data_step3  |>\n",
    "  subset(responseError == 0)\n",
    "\n",
    "exp2_step3b_subj_remain <- exp2_data_step3b$Rec_Session_Id |>\n",
    "  unique() |>\n",
    "  length()\n",
    "\n",
    "exp2_step3b_trials_remain <- nrow(exp2_data_step3b)\n",
    "\n",
    "# remove subjects with less than 12 trials in at least one condition*primetype combination (half of the total number of items per combination)\n",
    "rt_data_labels <- c(\"Rec_Session_Id\", \"condition_rec\", \"primetype_rec\", \"RT\")\n",
    "\n",
    "exp2_subj_filter_2 <- exp2_data_step3b[, rt_data_labels] |>\n",
    "  aggregate(RT ~ ., FUN = length, drop = FALSE) |>\n",
    "  subset(RT < 7, select = Rec_Session_Id) |>\n",
    "  unique() |>\n",
    "  unlist()\n",
    "\n",
    "### we also want to sure that all subjects have all conditions; in case some subject had all the trials for a given condition lost down the road, they will be removed\n",
    "exp2_subj_filter_conditions <- \n",
    "  exp2_data_step3b %>%\n",
    "  group_by(Rec_Session_Id) %>% \n",
    "  distinct(condition_rec, primetype_rec) %>% \n",
    "  tally() %>% filter(n != 6) %>% pull(Rec_Session_Id)\n",
    "\n",
    "exp2_data_final <- exp2_data_step3b |>\n",
    "  subset(!(Rec_Session_Id %in% exp2_subj_filter_2) & !(Rec_Session_Id %in% exp2_subj_filter_conditions))\n",
    "\n",
    "exp2_final_subj_remain <- exp2_data_final$Rec_Session_Id |>\n",
    "  unique() |> \n",
    "  length()\n",
    "  \n",
    "exp2_final_trials_remain <- nrow(exp2_data_final)"
   ],
   "id": "553f8961-2d57-4175-8fe1-ff2b38813d62"
  },
  {
   "cell_type": "markdown",
   "metadata": {},
   "source": [
    "After removing the incorrect responses, similarly to what we did for experiment 1 (<a href=\"#sec-exp1-analysis-RT\" class=\"quarto-xref\">Section 3.2.3</a>), 0.51% of the trials were excluded if the relative RT was below 200 ms and above 1800 ms, Finally, 249 subjects were removed because the number of trials within the same condition was less than 7 (i.e., about half of the total number of trials being presented within the same condition, i.e. 13). A total of 210,889 observations and 2,341 subjects were included in the statistical analysis below.\n",
    "\n",
    "## 4.3 Results"
   ],
   "id": "d13d9461-7066-4c6c-a6ee-771faf71b080"
  },
  {
   "cell_type": "code",
   "execution_count": null,
   "metadata": {},
   "outputs": [
    {
     "output_type": "stream",
     "name": "stderr",
     "text": [
      "`summarise()` has grouped output by 'condition_rec', 'primetype_rec'. You can\n",
      "override using the `.groups` argument."
     ]
    },
    {
     "output_type": "stream",
     "name": "stderr",
     "text": [
      "`summarise()` has grouped output by 'Rec_Session_Id', 'condition_rec'. You can\n",
      "override using the `.groups` argument."
     ]
    },
    {
     "output_type": "stream",
     "name": "stderr",
     "text": [
      "`summarise()` has grouped output by 'Rec_Session_Id', 'condition_rec'. You can\n",
      "override using the `.groups` argument."
     ]
    },
    {
     "output_type": "stream",
     "name": "stderr",
     "text": [
      "`summarise()` has grouped output by 'condition_rec'. You can override using the\n",
      "`.groups` argument."
     ]
    }
   ],
   "source": [
    "# error rates averages\n",
    "### we also want to sure that all subjects have all conditions; in case some subject had all the trials for a given condition lost down the road, they will be removed. Crucially the trial calculations are made on the dataset *before* the trial error removal step\n",
    "exp2_subj_filter_2_with.errors <- exp2_data_step3[, rt_data_labels] |>\n",
    "  aggregate(RT ~ ., FUN = length, drop = FALSE) |>\n",
    "  subset(RT < 7, select = Rec_Session_Id) |>\n",
    "  unique() |>\n",
    "  unlist()\n",
    "# this step just makes sure that the same subjects will be removed from both datasets\n",
    "exp2_subj_filter_2_with.errors <- union(exp2_subj_filter_2_with.errors, exp2_subj_filter_2)\n",
    "\n",
    "### just making sure that all subjects have all conditions; in case some subject had all the trials for a given condition lost down the road, they will be removed\n",
    "exp2_subj_filter_conditions_with.errors <- \n",
    "  exp2_data_step3 %>%\n",
    "  group_by(Rec_Session_Id) %>% \n",
    "  distinct(condition_rec, primetype_rec) %>% \n",
    "  tally() %>% filter(n != 6) %>% pull(Rec_Session_Id)\n",
    "\n",
    "exp2_data_final_with.errors <- exp2_data_step3 |>\n",
    "  subset(!(Rec_Session_Id %in% exp2_subj_filter_2_with.errors) & \n",
    "           !(Rec_Session_Id %in% exp2_subj_filter_conditions_with.errors)) \n",
    "\n",
    "exp2_error.rates <- exp2_data_final_with.errors %>%\n",
    "  mutate(primetype_rec = factor(primetype_rec, levels=c(\"unrelated\", \"related\")),\n",
    "         condition_rec = factor(condition_rec, levels=c(\"high\", \"low\", \"non-word\"))) %>%\n",
    "  group_by(condition_rec, primetype_rec, Rec_Session_Id) %>%\n",
    "  summarise(error.percent=mean(responseError)*100)"
   ],
   "id": "36fe4295-368d-4442-ac56-652668c02ccb"
  },
  {
   "cell_type": "markdown",
   "metadata": {},
   "source": [
    "For each frequency condition, priming effects were calculated in the same way as experiment 1. <a href=\"#tbl-exp2-statsResults\" class=\"quarto-xref\">Table 6</a> below report the descriptive statistics of the experiment. All three conditions showed statistically significant repetition priming effects (*MOP_HF* = 18, CI_95% = \\[16 20\\], t(2340) = 19.7, $p<.0001$; *MOP_LF* = 28, CI_95% = \\[26 30\\], *t*(2340) = 27.8, $p<.0001$; *MOP_NW* = -2, CI_95% = \\[-4 0\\], t(2340) = -2.33, $p<.0001$). The low-frequency word repetition priming effect was 10 ms larger than the high-frequency word repetition priming effect, and this FAE effect was statistically significant (*M_FAE* = 10, CI_95% = \\[7 13\\]), *t*(2340) = 7.24, $p<.0001$). As for the word error analysis, we found significant priming effects in the word conditions (high: *t*(2340)=9.95, *p*\\<.0001; low: *t*(2340)=16.9, *p*\\<.0001), as well as in the non-word condition (non-word: *t*(2340)=-3.27, *p*=.001)."
   ],
   "id": "70adc264-8480-4509-b301-ac011c638949"
  },
  {
   "cell_type": "raw",
   "metadata": {
    "raw_mimetype": "tex"
   },
   "source": [
    "\\blandscape"
   ],
   "id": "648d3b24-6c09-4aff-aff1-8550a66142c4"
  },
  {
   "cell_type": "code",
   "execution_count": null,
   "metadata": {
    "tbl-pos": "h"
   },
   "outputs": [],
   "source": [
    "exp2_summary.results_mop <- merge(exp2_gdavg_mop_summary, exp2_rt_stats_main, by='factor')\n",
    "exp2_summary.results_fae <- merge(exp2_gdavg_fae_summary, exp2_rt_stats_interaction, by='factor') |>\n",
    "  select(-mean_high, -mean_low)\n",
    "\n",
    "exp2_summary.results <- bind_rows(exp2_summary.results_mop, exp2_summary.results_fae)\n",
    "  \n",
    "exp2_summary.results %>%\n",
    "  relocate(c(\"sd_unrelated\", \"mean.error_unrelated\"), .before=gd.mean_related) %>%\n",
    "  gt() %>%\n",
    "  cols_label(\n",
    "    CI = \"95% CI\",\n",
    "    contains(\"mean\") ~ \"mean\",\n",
    "    contains(\"sd\") ~ \"SD\", \n",
    "    contains(\"error\") ~ \"Error (%)\"\n",
    "  ) %>%\n",
    "  tab_spanner(\n",
    "    label = \"unrelated RT\",\n",
    "    columns = c(2:4)\n",
    "  ) %>%\n",
    "  tab_spanner(\n",
    "    label = \"repetition RT\",\n",
    "    columns = c(5:7)\n",
    "  ) %>%\n",
    "  tab_spanner(\n",
    "    label = 'priming effects',\n",
    "    columns = c(9:12)\n",
    "  ) %>%\n",
    "  tab_spanner(\n",
    "    label = md(\"_t_-test\"),\n",
    "    columns = c(13:15)\n",
    "  ) %>%\n",
    "  cols_label(\n",
    "    sd = md(\"SD~p~\")\n",
    "  ) %>%\n",
    "  cols_label(\n",
    "    t = md(\"_t_\"),\n",
    "    p = md(\"_p_\"),\n",
    "  ) %>%\n",
    "   sub_missing(\n",
    "    missing_text = \" \"\n",
    "  )"
   ],
   "id": "42c89d50-14cd-4b41-8ac4-f40c52cfc7cb"
  },
  {
   "cell_type": "raw",
   "metadata": {
    "raw_mimetype": "tex"
   },
   "source": [
    "\\elandscape"
   ],
   "id": "99e23ea7-d34f-4f67-af94-151e4dc77291"
  },
  {
   "cell_type": "markdown",
   "metadata": {},
   "source": [
    "## 4.4 Discussion\n",
    "\n",
    "Experiment 2 was specifically designed to investigate the replicability of the Frequency Attenuation Effect (FAE) observed in an unmasked environment (i.e., with a SOA \\> 60 ms) within the confines of a masked environment (with SOA \\< 60 ms). We employed a robust sample size to ensure adequate statistical power for detecting small to medium effect sizes. Our results not only replicated Experiment 1 in revealing significant main effects of repetition for high and low frequency words alike, but also detected a statistically significant interaction: the low-frequency condition manifested priming effects that were found approximately 9 ms bigger than the high-frequency condition.\n",
    "\n",
    "The non-word masked priming response (or lack thereof) has been used as an additional piece of evidence in favor of the vision of the masked priming response as devoid of episodic influences (e.g., [Forster 1999](#ref-Forster1999)). The results of experiment 2 align with the past evidence in showing no significant (inhibitory) masked repetition priming for non-words. However, we will not further delve into this topic here, as it does not strictly impinge on the question being asked here (i.e., word frequency effects in masked priming), and would deserve a full-fledged investigation on its own right.\n",
    "\n",
    "# 5. General discussion\n",
    "\n",
    "The repetition priming response stands as a cornerstone in psycholinguistic investigations, offering insights into the mechanisms governing word recognition. An ongoing debate surrounds the interpretation of these effects, particularly concerning their source in the memory system. On the one hand, *interactive activation models* ([McClelland and Rumelhart 1981](#ref-McClellandRumelhart1981); [Grainger and Jacobs 1996](#ref-GraingerJacobs1996); [Coltheart et al. 2001](#ref-ColtheartEtal2001)) posit a lexical source for repetition priming effects, either in terms of temporarily raised resting activation levels for lexical nodes in unmasked priming, or as a head start in the retrieval process in masked priming. *Episodic* and *memory recruitment models* ([Jacoby and Dallas 1981](#ref-Jacoby1981); [Jacoby 1983](#ref-Jacoby1983); [Bodner and Masson 1997](#ref-BodnerMasson1997); [Masson and Bodner 2003](#ref-MassonBodner2003); [Bodner and Masson 2014](#ref-Bodner2014)) on the other hand, invoke a non-lexical source for the repetition effect, namely an episodic or episodic-like memory resource formed upon brief exposure to the prime word that can be recruited during the processing of the target item. Crucially, both models predict a single mechanism underlying masked and unmasked priming. Differential mechanisms between unmasked and masked repetition priming, however, are predicted by the *entry-opening model* ([Forster and Davis 1984](#ref-ForsterDavis1984)), which propose both lexical and episodic sources of priming effects.\n",
    "\n",
    "Thus, the existence of qualitatively distinct outcomes in masked and unmasked priming presented a direct challenge to some, but not all of these models. One such finding is the *Frequency Attenuation Effect* (FAE), in which higher frequency words exhibit smaller repetition effects compared to lower frequency words. The FAE has been described as observable only in unmasked priming since the work of Forster and Davis ([1984](#ref-ForsterDavis1984)), who demonstrated that when the prime word is presented very briefly (SOA $<$ 60 ms), it becomes masked by the target word, and this prevents the conscious encoding of the prime. Under such conditions, the FAE purportedly disappears. Forster and Davis ([1984](#ref-ForsterDavis1984)) argued that this potentially shows that the FAE is subserved by a different type of memory source (perhaps episodic) than the masked repetition priming response. This conclusion, however, is the source of ongoing debates (see <a href=\"#tbl-litReview\" class=\"quarto-xref\">Table 1</a> for review of past findings), which the two experiments reported here were meant to address.\n",
    "\n",
    "Within this research landscape, our experiments targeting the frequency sensitivity of the repetition effect under masked conditions contribute methodological and theoretical insights. Methodologically, our results help establish the viability and reliability of online data collection for the masked priming paradigm. Building on the pioneering work of Angele et al. ([2023](#ref-Angele2023)) and Cayado, Wray, and Stockall ([2023](#ref-Cayado2023)), we addressed pitfalls in implementing and analyzing masked priming data collected online, and by doing so offered a solution to the longstanding problem of low statistical power involving investigating phenomena with effect sizes that are harder to detect statistically, like interactions in factorial designs. However, this newfound opportunity necessitates careful data scrutiny, as demonstrated by significant data loss due to stringent exclusion criteria in experiments 1 and 2 (30% to 60% of the total data), highlighting the need for further exploration of less restrictive criteria and their impact on data quality.\n",
    "\n",
    "In the same vein, the significant FAE observed in Experiment 2 has important theoretical ramifications. The historical belief in the non-observability of FAE in masked priming primarily arose from a lack of statistically significant results, possibly rooted in outdated frequency corpora or inadequate statistical power. Our design addressed these concerns, yielding statistically significant FAE results aligning with the literature’s average effect (see <a href=\"#tbl-litReview\" class=\"quarto-xref\">Table 1</a>; the 95% CI implies that the FAE is unlikely to be larger than 17 ms with a 33 ms prime duration). These results challenge the supposed qualitative distinction between masked and unmasked repetition priming cleaved by the FAE, complicating the rejection of single-mechanism theories, and suggesting that *interactive-activation models* and *memory recruitment models* may yet offer unifying explanations for masked and unmasked priming.\n",
    "\n",
    "Similarly, our results also challenge the entry-opening model’s prediction of the absence of FAE in masked priming. One potential way of dealing with this in the *entry opening model* is to claim that masked priming severely reduces, but does not entirely eliminate, the use of sources other than lexical memory (see [Forster 1998](#ref-Forster1998); [Forster, Mohan, and Hector 2003](#ref-ForsterEtal2003), for proposals along this line). Alternatively, within the entry-opening model, the results of experiment 2 may be explained by the frequency-based mechanism occurring in the fast search stage. A potential mechanism in this direction was already hinted at by Forster and Davis ([1984](#ref-ForsterDavis1984)) themselves, and consists of a procedure, whereby during the fast search stage, the entry of a prime word is promoted to the top position of the search list. As a consequence, low-frequency words (which are fairly low in the search list) will benefit from such promotion procedure more than high-frequency words (which are instead already in higher positions), thus ultimately giving rise to the FAE.\n",
    "\n",
    "While our findings present a compelling case for the presence of FAE in masked priming that is seemingly parallel to the unmasked case, questions about potential mechanistic differences persist. The larger sample size needed for masked FAEs raises intriguing considerations about the influence of memory sources and warrants further investigation. Additionally, the absence of significant non-word priming in experiment 2 aligns with the trend (overwhelmingly shown in the literature) that it may be exclusive to unmasked designs ([Forster 1998](#ref-Forster1998); [Forster, Mohan, and Hector 2003](#ref-ForsterEtal2003); but see [Masson and Bodner 2003](#ref-MassonBodner2003)), and suggests avenues for future exploration on large-scale.\n",
    "\n",
    "Finally, the finding that the FAE occurs under masked priming conditions may impact our understanding of masked morphological priming. In this literature, there is a unresolved question about the ability of affixes to elicit masked morphological priming results (for a review, [Amenta and Crepaldi 2012](#ref-AmentaCrepaldi2012)). In English, the evidence seems to indicate that only stems, but not affixes, have the ability to prime entries across the lexicon. This finding can and has been used to support models in which affixes are initially stripped before stems are accessed in the lexicon ([Taft and Forster 1975](#ref-TaftForster1975); [Forster and Azuma 2000](#ref-ForsterAzuma2000); [Stockall and Marantz 2006](#ref-StockallMarantz2006)). However, stems and affixes do also have a large frequency imbalance, with most affixes being substantially more frequent that most stems. The observation of FAE under masked priming can provide an alternative reason for why masked stem morphological priming is well attested but masked affix morphological priming is not: the latter could be due to a ceiling frequency attenuation effect. This is an intriguing possibility that must be left for future work to explore.\n",
    "\n",
    "In summary, our study successfully replicated and expanded upon the work of Angele et al. ([2023](#ref-Angele2023)) and Cayado, Wray, and Stockall ([2023](#ref-Cayado2023)), confirming the viability of observing repetition priming effects in masked priming experiments conducted online with a brief Stimulus Onset Asynchrony (SOA) of 33 ms. Notably, we addressed a lingering question in the literature by establishing the presence of the Frequency Attenuation Effect (FAE) under masked conditions. The use of large online samples proved instrumental in overcoming the longstanding challenge of insufficient statistical power to detect interactions in factorial designs, which we believe had impeded previous investigations into detecting the FAE in masked priming.\n",
    "\n",
    "These results not only contribute to our understanding of masked priming but also open up intriguing avenues for further research. The ability to harness extensive online samples provides a valuable opportunity to explore and illuminate unresolved issues across various domains where masked priming is a crucial research tool, underscoring the potential for online experimentation to advance our knowledge and resolve long-standing questions in the field.\n",
    "\n",
    "# References\n",
    "\n",
    "Amenta, Simona, and Davide Crepaldi. 2012. “Morphological Processing as We Know It: An Analytical Review of Morphological Effects in Visual Word Identification.” *Frontiers in Psychology* 3: 232.\n",
    "\n",
    "Angele, Bernhard, Ana Baciero, Pablo Gómez, and Manuel Perea. 2023. “Does Online Masked Priming Pass the Test? The Effects of Prime Exposure Duration on Masked Identity Priming.” *Behavior Research Methods* 55 (1). Springer: 151–167. doi:[10.3758/s13428-021-01742-y](https://doi.org/10.3758/s13428-021-01742-y).\n",
    "\n",
    "Anwyl-Irvine, Alexander L, Jessica Massonnié, Adam Flitton, Natasha Kirkham, and Jo K Evershed. 2020. “Gorilla in Our Midst: An Online Behavioral Experiment Builder.” *Behavior Research Methods* 52. Springer: 388–407.\n",
    "\n",
    "Balota, David A., Michael J. Cortese, Susan D. Sergent-Marshall, Daniel H. Spieler, and Melvin J. Yap. 2004. “Visual Word Recognition of Single-Syllable Words.” *Journal of Experimental Psychology: General* 133 (2). American Psychological Association: 283.\n",
    "\n",
    "Balota, David A., Melvin J. Yap, Keith A. Hutchison, Michael J. Cortese, Brett Kessler, Bjorn Loftis, James H. Neely, Douglas L. Nelson, Greg B. Simpson, and Rebecca Treiman. 2007. “The English Lexicon Project.” *Behavior Research Methods* 39 (3): 445–459. doi:[10.3758/bf03193014](https://doi.org/10.3758/bf03193014).\n",
    "\n",
    "Bodner, Glen E., and Michael E. J Masson. 2014. “Memory Recruitment: A Backward Idea about Masked Priming.” In *Psychology of Learning and Motivation*, 61:179–213. Elsevier.\n",
    "\n",
    "Bodner, Glen E., and Michael E. J. Masson. 1997. “Masked Repetition Priming of Words and Nonwords: Evidence for a Nonlexical Basis for Priming.” *Journal of Memory and Language* 37 (2): 268–293. doi:[10.1006/jmla.1996.2507](https://doi.org/10.1006/jmla.1996.2507).\n",
    "\n",
    "Bodner, Glen E., and Michael E. J. Masson. 2001. “Prime Validity Affects Masked Repetition Priming: Evidence for an Episodic Resource Account of Priming.” *Journal of Memory and Language* 45 (4): 616–647. doi:[10.1006/jmla.2001.2791](https://doi.org/10.1006/jmla.2001.2791).\n",
    "\n",
    "Brysbaert, Marc, and Michael J Cortese. 2011. “Do the Effects of Subjective Frequency and Age of Acquisition Survive Better Word Frequency Norms?” *Quarterly Journal of Experimental Psychology* 64 (3). SAGE Publications Sage UK: London, England: 545–559.\n",
    "\n",
    "Brysbaert, Marc, Paweł Mandera, and Emmanuel Keuleers. 2018. “The Word Frequency Effect in Word Processing: An Updated Review.” *Current Directions in Psychological Science* 27 (1). Sage Publications Sage CA: Los Angeles, CA: 45–50.\n",
    "\n",
    "Brysbaert, Marc, and Boris New. 2009. “Moving Beyond Kučera and Francis: A Critical Evaluation of Current Word Frequency Norms and the Introduction of a New and Improved Word Frequency Measure for American English.” *Behavior Research Methods* 41 (4): 977–990. doi:[10.3758/brm.41.4.977](https://doi.org/10.3758/brm.41.4.977).\n",
    "\n",
    "Brysbaert, Marc, and Michaël Stevens. 2018. “Power Analysis and Effect Size in Mixed Effects Models: A Tutorial.” *Journal of Cognition* 1 (1). doi:[10.5334/joc.10](https://doi.org/10.5334/joc.10).\n",
    "\n",
    "Burgess, Curt, and Kay Livesay. 1998. “The Effect of Corpus Size in Predicting Reaction Time in a Basic Word Recognition Task: Moving on from Kučera and Francis.” *Behavior Research Methods, Instruments, & Computers* 30 (2). Springer: 272–277.\n",
    "\n",
    "Button, Katherine S, John PA Ioannidis, Claire Mokrysz, Brian A Nosek, Jonathan Flint, Emma SJ Robinson, and Marcus R Munafò. 2013. “Power Failure: Why Small Sample Size Undermines the Reliability of Neuroscience.” *Nature Reviews Neuroscience* 14 (5). Nature Publishing Group UK London: 365–376.\n",
    "\n",
    "Cayado, Dave Kenneth Tayao, Samantha Wray, and Linnaea Stockall. 2023. “Does Linear Position Matter for Morphological Processing? Evidence from a Tagalog Masked Priming Experiment.” *Language, Cognition and Neuroscience*. Taylor & Francis, 1–16.\n",
    "\n",
    "Cohen, Jacob. 1992. “A Power Primer.” *Psychological Bulletin* 112 (1): 155–159. doi:[10.1037/0033-2909.112.1.155](https://doi.org/10.1037/0033-2909.112.1.155).\n",
    "\n",
    "Coltheart, Max, Kathleen Rastle, Conrad Perry, Robyn Langdon, and Johannes Ziegler. 2001. “DRC: A Dual Route Cascaded Model of Visual Word Recognition and Reading Aloud.” *Psychological Review* 108 (1): 204–256.\n",
    "\n",
    "Evett, Lindsay J., and Glyn W. Humphreys. 1981. “The Use of Abstract Graphemic Information in Lexical Access.” *The Quarterly Journal of Experimental Psychology* 33 (4). Taylor & Francis: 325–350.\n",
    "\n",
    "Finger, Holger, Caspar Goeke, Dorena Diekamp, Kai Standvoß, and Peter König. 2017. “LabVanced: A Unified JavaScript Framework for Online Studies.” In *2017 International Conference on Computational Social Science*. Cologne, Germany.\n",
    "\n",
    "Forster, Kenneth I. 1998. “The Pros and Cons of Masked Priming.” *Journal of Psycholinguistic Research* 27 (2): 203–233.\n",
    "\n",
    "Forster, Kenneth I. 1999. “Microgenesis of Priming Effects in Lexical Access.” *Brain and Language* 68: 5–15.\n",
    "\n",
    "Forster, Kenneth I., and Tamiko Azuma. 2000. “Masked Priming for Prefixed Words with Bound Stems: Does Submit Prime Permit?” *Language and Cognitive Processes* 15 (4-5). Taylor & Francis Group: 539–561.\n",
    "\n",
    "Forster, Kenneth I., and Chris Davis. 1984. “Repetition Priming and Frequency Attenuation in Lexical Access.” *Journal of Experimental Psychology: Learning, Memory, and Cognition* 10 (4): 680.\n",
    "\n",
    "Forster, Kenneth I., and Christopher Davis. 1991. “The Density Constraint on Form-Priming in the Naming Task: Interference Effects from a Masked Prime.” *Journal of Memory and Language* 30 (1): 1–25. doi:[10.1016/0749-596x(91)90008-8](https://doi.org/10.1016/0749-596x(91)90008-8).\n",
    "\n",
    "Forster, Kenneth I., C. Davis, C. Schoknecht, and R. Carter. 1987. “Masked Priming with Graphemically Related Forms: Repetition or Partial Activation?” *The Quarterly Journal of Experimental Psychology Section A* 39 (2): 211–251. doi:[10.1080/14640748708401785](https://doi.org/10.1080/14640748708401785).\n",
    "\n",
    "Forster, Kenneth I., Kathleen Mohan, and Jo Hector. 2003. “The Mechanics of Masked Priming.” In *Masked Priming: The State of the Art*, edited by Sachiko Kinoshita and Stephen J. Lupker, 3–37. New York, NY/Hove, UK: Psychology Press.\n",
    "\n",
    "Gelman, Andrew, and John Carlin. 2014. “Beyond Power Calculations.” *Perspectives on Psychological Science* 9 (6): 641–651. doi:[10.1177/1745691614551642](https://doi.org/10.1177/1745691614551642).\n",
    "\n",
    "Gimenes, Manuel, and Boris New. 2016. “Worldlex: Twitter and Blog Word Frequencies for 66 Languages.” *Behavior Research Methods* 48. Springer: 963–972.\n",
    "\n",
    "Grainger, Jonathan, and Arthur M. Jacobs. 1996. “Orthographic Processing in Visual Word Recognition: A Multiple Read-Out Model.” *Psychological Review* 103 (3). American Psychological Association: 518.\n",
    "\n",
    "Herdağdelen, Amaç, and Marco Marelli. 2017. “Social Media and Language Processing: How Facebook and Twitter Provide the Best Frequency Estimates for Studying Word Recognition.” *Cognitive Science* 41 (4). Wiley Online Library: 976–995.\n",
    "\n",
    "Jacoby, Larry L. 1983. “Remembering the Data: Analyzing Interactive Processes in Reading.” *Journal of Verbal Learning and Verbal Behavior* 22 (5). Elsevier: 485–508.\n",
    "\n",
    "Jacoby, Larry L, and Mark Dallas. 1981. “On the Relationship Between Autobiographical Memory and Perceptual Learning.” *Journal of Experimental Psychology: General* 110 (3). American Psychological Association: 306.\n",
    "\n",
    "Kinoshita, Sachiko. 2006. “Additive and Interactive Effects of Word Frequency and Masked Repetition in the Lexical Decision Task.” *Psychonomic Bulletin & Review* 13 (4): 668–673. doi:[10.3758/bf03193979](https://doi.org/10.3758/bf03193979).\n",
    "\n",
    "Kučera, J., and W. N. Francis. 1967. *Computational Analysis of Present Day American English*. Providence, RI: Brown University Press.\n",
    "\n",
    "Leeuw, Joshua R. de. 2014. “jsPsych: A JavaScript Library for Creating Behavioral Experiments in a Web Browser.” *Behavior Research Methods* 47 (1): 1–12. doi:[10.3758/s13428-014-0458-y](https://doi.org/10.3758/s13428-014-0458-y).\n",
    "\n",
    "Lukács, Gáspár, and Andreas Gartus. 2023. “Precise Display Time Measurement in JavaScript for Web-Based Experiments.” *Behavior Research Methods* 55 (3). Springer: 1079–1093. doi:[10.3758/s13428-022-01835-2](https://doi.org/10.3758/s13428-022-01835-2).\n",
    "\n",
    "Lund, Kevin, and Curt Burgess. 1996. “Producing High-Dimensional Semantic Spaces from Lexical Co-Occurrence.” *Behavior Research Methods, Instruments, & Computers* 28 (2): 203–208.\n",
    "\n",
    "Masson, Michael E. J., and Glen E. Bodner. 2003. “A Retrospective View of Masked Priming: Toward a Unified Account of Masked and Long-Term Repetition Priming.” *Masked Priming: The State of the Art*. Citeseer, 57–94.\n",
    "\n",
    "McClelland, James L., and David E. Rumelhart. 1981. “An Interactive Activation Model of Context Effects in Letter Perception: Part i. An Account of Basic Findings.” *Psychological Review* 88 (5): 375–407.\n",
    "\n",
    "Nievas, Francisco. 2010. “The Frequency Attenuation Effect in Identity and Associative Priming.” *The Spanish Journal of Psychology* 13 (1): 30–62. doi:[10.1017/s1138741600003668](https://doi.org/10.1017/s1138741600003668).\n",
    "\n",
    "Norris, Dennis, and Sachiko Kinoshita. 2008. “Perception as Evidence Accumulation and Bayesian Inference: Insights from Masked Priming.” *Journal of Experimental Psychology: General* 137 (3): 434–455. doi:[10.1037/a0012799](https://doi.org/10.1037/a0012799).\n",
    "\n",
    "Peirce, Jonathan, Jeremy R. Gray, Sol Simpson, Michael MacAskill, Richard Höchenberger, Hiroyuki Sogo, Erik Kastman, and Jonas Kristoffer Lindeløv. 2019. “PsychoPy2: Experiments in Behavior Made Easy.” *Behavior Research Methods* 51 (1): 195–203.\n",
    "\n",
    "Petrosino, Roberto. 2020. “More Than Islands of Regularity: An Investigation of the Sensitivity of Morphological Decomposition to Higher-Level Linguistic Properties.” PhD thesis, University of Connecticut.\n",
    "\n",
    "Petrosino, Roberto, Jon Sprouse, and Diogo Almeida. 2023. “Asymmetries in the Stem and Suffix Masked Priming Response in a Large-Scale Online Study.” *Quaderni Di Linguistica e Studi Orientali*, no. 49: 177–194. doi:[10.13128/QUL-SO-2421-7220-15154](https://doi.org/10.13128/QUL-SO-2421-7220-15154).\n",
    "\n",
    "Potvin, Patrick J., and Robert W. Schutz. 2000. “Statistical Power for the Two-Factor Repeated Measures ANOVA.” *Behavior Research Methods, Instruments, & Computers* 32 (2): 347–356. doi:[10.3758/bf03207805](https://doi.org/10.3758/bf03207805).\n",
    "\n",
    "Rajaram, Suparna, and James H Neely. 1992. “Dissociative Masked Repetition Priming and Word Frequency Effects in Lexical Decision and Episodic Recognition Tasks.” *Journal of Memory and Language* 31 (2): 152–182. doi:[10.1016/0749-596x(92)90009-m](https://doi.org/10.1016/0749-596x(92)90009-m).\n",
    "\n",
    "Scarborough, Don L., Charles Cortese, and Hollis S. Scarborough. 1977. “Frequency and Repetition Effects in Lexical Memory.” *Journal of Experimental Psychology: Human Perception and Performance* 3 (1): 1–17. doi:[10.1037/0096-1523.3.1.1](https://doi.org/10.1037/0096-1523.3.1.1).\n",
    "\n",
    "Segui, Juan, and Jonathan Grainger. 1990. “Priming Word Recognition with Orthographic Neighbors: Effects of Relative Prime-Target Frequency.” *Journal of Experimental Psychology: Human Perception and Performance* 16 (1): 65–76. doi:[10.1037/0096-1523.16.1.65](https://doi.org/10.1037/0096-1523.16.1.65).\n",
    "\n",
    "Sereno, Joan A. 1991. “Graphemic, Associative, and Syntactic Priming Effects at a Brief Stimulus Onset Asynchrony in Lexical Decision and Naming.” *Journal of Experimental Psychology: Learning, Memory, and Cognition* 17 (3): 459–477. doi:[10.1037/0278-7393.17.3.459](https://doi.org/10.1037/0278-7393.17.3.459).\n",
    "\n",
    "Stockall, Linnaea, and Alec Marantz. 2006. “A Single Route, Full Decomposition Model of Morphological Complexity: MEG Evidence.” *The Mental Lexicon* 1 (1): 85–123. doi:<https://doi.org/10.1075/ml.1.1.07sto>.\n",
    "\n",
    "Taft, Marcus, and Kenneth I. Forster. 1975. “Lexical Storage and Retrieval of Prefixed Words.” *Journal of Verbal Learning and Verbal Behavior* 14 (6): 638–647.\n",
    "\n",
    "Yap, Melvin J., and David A. Balota. 2009. “Visual Word Recognition of Multisyllabic Words.” *Journal of Memory and Language* 60 (4). Elsevier: 502–529.\n",
    "\n",
    "Zevin, Jason D, and Mark S Seidenberg. 2002. “Age of Acquisition Effects in Word Reading and Other Tasks.” *Journal of Memory and Language* 47 (1). Elsevier: 1–29."
   ],
   "id": "0f25a67f-87cd-47f2-8d70-963d58844ef9"
  },
  {
   "cell_type": "markdown",
   "metadata": {},
   "source": [
    "# Wordlists"
   ],
   "id": "9e4b2095-4356-47a2-a84a-0c383fcb441c"
  },
  {
   "cell_type": "code",
   "execution_count": null,
   "metadata": {},
   "outputs": [
    {
     "output_type": "stream",
     "name": "stderr",
     "text": [
      "Rows: 250 Columns: 4\n",
      "── Column specification ────────────────────────────────────────────────────────\n",
      "Delimiter: \",\"\n",
      "chr (4): related, unrelated, word, condition\n",
      "\n",
      "ℹ Use `spec()` to retrieve the full column specification for this data.\n",
      "ℹ Specify the column types or set `show_col_types = FALSE` to quiet this message."
     ]
    },
    {
     "output_type": "stream",
     "name": "stderr",
     "text": [
      "Rows: 104 Columns: 4\n",
      "── Column specification ────────────────────────────────────────────────────────\n",
      "Delimiter: \",\"\n",
      "chr (4): related, unrelated, word, condition\n",
      "\n",
      "ℹ Use `spec()` to retrieve the full column specification for this data.\n",
      "ℹ Specify the column types or set `show_col_types = FALSE` to quiet this message."
     ]
    }
   ],
   "source": [
    "library(readxl)\n",
    "exp1.wordlist <- read_csv(\"materials/experiment1/frequency-effects_experiment1_word-lists_final.csv\") %>% select(-related)"
   ],
   "id": "0b1a62d6-f067-4e2f-a9b2-dae26957a94c"
  },
  {
   "cell_type": "markdown",
   "metadata": {},
   "source": [
    "### Experiment 1"
   ],
   "id": "6b1466f8-d26e-43de-9ea6-14f060f21db2"
  },
  {
   "cell_type": "code",
   "execution_count": null,
   "metadata": {},
   "outputs": [
    {
     "output_type": "stream",
     "name": "stderr",
     "text": [
      "`summarise()` has grouped output by 'condition_rec', 'primetype_rec',\n",
      "'target_rec'. You can override using the `.groups` argument."
     ]
    },
    {
     "output_type": "display_data",
     "metadata": {},
     "data": {
      "text/html": [
       "\n",
       "</div>"
      ]
     }
    }
   ],
   "source": [
    "trial.means <- exp1_data_final %>%\n",
    "  group_by(condition_rec, primetype_rec, target_rec, prime_rec) %>%\n",
    "  summarise(meanRT = round(mean(RT)), sdRT = round(sd(RT))) %>%\n",
    "  pivot_wider(id_cols=target_rec, names_from=primetype_rec, values_from = c(meanRT, sdRT)) %>%\n",
    "  ungroup() %>% mutate(target = tolower(target_rec)) %>% select(-target_rec) %>%\n",
    "  relocate(target, .before=meanRT_unrelated) %>%\n",
    "  relocate(sdRT_unrelated, .after=meanRT_unrelated)"
   ],
   "id": "ae18d62b-4120-4d24-a31d-78c7fb761448"
  },
  {
   "cell_type": "markdown",
   "metadata": {},
   "source": [
    "### Experiment 2"
   ],
   "id": "b9e8561b-85f9-465a-9f5f-d69424999aa5"
  },
  {
   "cell_type": "code",
   "execution_count": null,
   "metadata": {},
   "outputs": [
    {
     "output_type": "stream",
     "name": "stderr",
     "text": [
      "`summarise()` has grouped output by 'condition_rec', 'primetype_rec',\n",
      "'target_rec'. You can override using the `.groups` argument."
     ]
    },
    {
     "output_type": "display_data",
     "metadata": {},
     "data": {
      "text/html": [
       "\n",
       "</div>"
      ]
     }
    }
   ],
   "source": [
    "trial.means_exp2 <- exp2_data_final %>%\n",
    "  group_by(condition_rec, primetype_rec, target_rec, prime_rec) %>%\n",
    "  summarise(meanRT = round(mean(RT)), sdRT = round(sd(RT))) %>%\n",
    "  pivot_wider(id_cols=target_rec, names_from=primetype_rec, values_from = c(meanRT, sdRT)) %>%\n",
    "  ungroup() %>% mutate(target = tolower(target_rec)) %>% select(-target_rec) %>%\n",
    "  relocate(target, .before=meanRT_unrelated) %>%\n",
    "  relocate(sdRT_unrelated, .after=meanRT_unrelated)"
   ],
   "id": "bb02097c-69aa-4ad5-bea3-e6e9c95b42cc"
  }
 ],
 "nbformat": 4,
 "nbformat_minor": 5,
 "metadata": {}
}
