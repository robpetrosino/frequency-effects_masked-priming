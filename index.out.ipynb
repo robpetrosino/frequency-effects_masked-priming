{
 "cells": [
  {
   "cell_type": "markdown",
   "metadata": {},
   "source": [
    "# The detection and accurate estimation of frequency attenuation effects\n",
    "\n",
    "in masked repetition priming: A large scale web browser-based study\n",
    "\n",
    "Roberto Petrosino [![](data:image/png;base64,iVBORw0KGgoAAAANSUhEUgAAABAAAAAQCAYAAAAf8/9hAAAAGXRFWHRTb2Z0d2FyZQBBZG9iZSBJbWFnZVJlYWR5ccllPAAAA2ZpVFh0WE1MOmNvbS5hZG9iZS54bXAAAAAAADw/eHBhY2tldCBiZWdpbj0i77u/IiBpZD0iVzVNME1wQ2VoaUh6cmVTek5UY3prYzlkIj8+IDx4OnhtcG1ldGEgeG1sbnM6eD0iYWRvYmU6bnM6bWV0YS8iIHg6eG1wdGs9IkFkb2JlIFhNUCBDb3JlIDUuMC1jMDYwIDYxLjEzNDc3NywgMjAxMC8wMi8xMi0xNzozMjowMCAgICAgICAgIj4gPHJkZjpSREYgeG1sbnM6cmRmPSJodHRwOi8vd3d3LnczLm9yZy8xOTk5LzAyLzIyLXJkZi1zeW50YXgtbnMjIj4gPHJkZjpEZXNjcmlwdGlvbiByZGY6YWJvdXQ9IiIgeG1sbnM6eG1wTU09Imh0dHA6Ly9ucy5hZG9iZS5jb20veGFwLzEuMC9tbS8iIHhtbG5zOnN0UmVmPSJodHRwOi8vbnMuYWRvYmUuY29tL3hhcC8xLjAvc1R5cGUvUmVzb3VyY2VSZWYjIiB4bWxuczp4bXA9Imh0dHA6Ly9ucy5hZG9iZS5jb20veGFwLzEuMC8iIHhtcE1NOk9yaWdpbmFsRG9jdW1lbnRJRD0ieG1wLmRpZDo1N0NEMjA4MDI1MjA2ODExOTk0QzkzNTEzRjZEQTg1NyIgeG1wTU06RG9jdW1lbnRJRD0ieG1wLmRpZDozM0NDOEJGNEZGNTcxMUUxODdBOEVCODg2RjdCQ0QwOSIgeG1wTU06SW5zdGFuY2VJRD0ieG1wLmlpZDozM0NDOEJGM0ZGNTcxMUUxODdBOEVCODg2RjdCQ0QwOSIgeG1wOkNyZWF0b3JUb29sPSJBZG9iZSBQaG90b3Nob3AgQ1M1IE1hY2ludG9zaCI+IDx4bXBNTTpEZXJpdmVkRnJvbSBzdFJlZjppbnN0YW5jZUlEPSJ4bXAuaWlkOkZDN0YxMTc0MDcyMDY4MTE5NUZFRDc5MUM2MUUwNEREIiBzdFJlZjpkb2N1bWVudElEPSJ4bXAuZGlkOjU3Q0QyMDgwMjUyMDY4MTE5OTRDOTM1MTNGNkRBODU3Ii8+IDwvcmRmOkRlc2NyaXB0aW9uPiA8L3JkZjpSREY+IDwveDp4bXBtZXRhPiA8P3hwYWNrZXQgZW5kPSJyIj8+84NovQAAAR1JREFUeNpiZEADy85ZJgCpeCB2QJM6AMQLo4yOL0AWZETSqACk1gOxAQN+cAGIA4EGPQBxmJA0nwdpjjQ8xqArmczw5tMHXAaALDgP1QMxAGqzAAPxQACqh4ER6uf5MBlkm0X4EGayMfMw/Pr7Bd2gRBZogMFBrv01hisv5jLsv9nLAPIOMnjy8RDDyYctyAbFM2EJbRQw+aAWw/LzVgx7b+cwCHKqMhjJFCBLOzAR6+lXX84xnHjYyqAo5IUizkRCwIENQQckGSDGY4TVgAPEaraQr2a4/24bSuoExcJCfAEJihXkWDj3ZAKy9EJGaEo8T0QSxkjSwORsCAuDQCD+QILmD1A9kECEZgxDaEZhICIzGcIyEyOl2RkgwAAhkmC+eAm0TAAAAABJRU5ErkJggg==)](https://orcid.org/0000-0002-8502-3070) (New York University Abu Dhabi)  \n",
    "Diogo Almeida [![](data:image/png;base64,iVBORw0KGgoAAAANSUhEUgAAABAAAAAQCAYAAAAf8/9hAAAAGXRFWHRTb2Z0d2FyZQBBZG9iZSBJbWFnZVJlYWR5ccllPAAAA2ZpVFh0WE1MOmNvbS5hZG9iZS54bXAAAAAAADw/eHBhY2tldCBiZWdpbj0i77u/IiBpZD0iVzVNME1wQ2VoaUh6cmVTek5UY3prYzlkIj8+IDx4OnhtcG1ldGEgeG1sbnM6eD0iYWRvYmU6bnM6bWV0YS8iIHg6eG1wdGs9IkFkb2JlIFhNUCBDb3JlIDUuMC1jMDYwIDYxLjEzNDc3NywgMjAxMC8wMi8xMi0xNzozMjowMCAgICAgICAgIj4gPHJkZjpSREYgeG1sbnM6cmRmPSJodHRwOi8vd3d3LnczLm9yZy8xOTk5LzAyLzIyLXJkZi1zeW50YXgtbnMjIj4gPHJkZjpEZXNjcmlwdGlvbiByZGY6YWJvdXQ9IiIgeG1sbnM6eG1wTU09Imh0dHA6Ly9ucy5hZG9iZS5jb20veGFwLzEuMC9tbS8iIHhtbG5zOnN0UmVmPSJodHRwOi8vbnMuYWRvYmUuY29tL3hhcC8xLjAvc1R5cGUvUmVzb3VyY2VSZWYjIiB4bWxuczp4bXA9Imh0dHA6Ly9ucy5hZG9iZS5jb20veGFwLzEuMC8iIHhtcE1NOk9yaWdpbmFsRG9jdW1lbnRJRD0ieG1wLmRpZDo1N0NEMjA4MDI1MjA2ODExOTk0QzkzNTEzRjZEQTg1NyIgeG1wTU06RG9jdW1lbnRJRD0ieG1wLmRpZDozM0NDOEJGNEZGNTcxMUUxODdBOEVCODg2RjdCQ0QwOSIgeG1wTU06SW5zdGFuY2VJRD0ieG1wLmlpZDozM0NDOEJGM0ZGNTcxMUUxODdBOEVCODg2RjdCQ0QwOSIgeG1wOkNyZWF0b3JUb29sPSJBZG9iZSBQaG90b3Nob3AgQ1M1IE1hY2ludG9zaCI+IDx4bXBNTTpEZXJpdmVkRnJvbSBzdFJlZjppbnN0YW5jZUlEPSJ4bXAuaWlkOkZDN0YxMTc0MDcyMDY4MTE5NUZFRDc5MUM2MUUwNEREIiBzdFJlZjpkb2N1bWVudElEPSJ4bXAuZGlkOjU3Q0QyMDgwMjUyMDY4MTE5OTRDOTM1MTNGNkRBODU3Ii8+IDwvcmRmOkRlc2NyaXB0aW9uPiA8L3JkZjpSREY+IDwveDp4bXBtZXRhPiA8P3hwYWNrZXQgZW5kPSJyIj8+84NovQAAAR1JREFUeNpiZEADy85ZJgCpeCB2QJM6AMQLo4yOL0AWZETSqACk1gOxAQN+cAGIA4EGPQBxmJA0nwdpjjQ8xqArmczw5tMHXAaALDgP1QMxAGqzAAPxQACqh4ER6uf5MBlkm0X4EGayMfMw/Pr7Bd2gRBZogMFBrv01hisv5jLsv9nLAPIOMnjy8RDDyYctyAbFM2EJbRQw+aAWw/LzVgx7b+cwCHKqMhjJFCBLOzAR6+lXX84xnHjYyqAo5IUizkRCwIENQQckGSDGY4TVgAPEaraQr2a4/24bSuoExcJCfAEJihXkWDj3ZAKy9EJGaEo8T0QSxkjSwORsCAuDQCD+QILmD1A9kECEZgxDaEZhICIzGcIyEyOl2RkgwAAhkmC+eAm0TAAAAABJRU5ErkJggg==)](https://orcid.org/0000-0003-4674-8092) (New York University Abu Dhabi)\n",
    "\n",
    "This study investigates the controversy surrounding the sensitivity of masked repetition priming to word frequency: while unmasked priming exhibits a frequency attenuation effect, wherein high frequency words yield smaller repetition effects, this phenomenon has been inconsistently reported in masked priming. We conducted two large online experiments with rigorously validated frequency databases to reconcile past discrepancies. The first experiment confirmed the viability of conducting masked priming experiments in web browser-based settings. The pre-registered second study, designed for high statistical power and precision, identified a 10-ms attenuation effect under masked priming. This result suggests that the repetition effect in masked priming is less qualitatively distinct from unmasked priming than previously assumed. This finding has implications for masked priming experimental design and theoretical consequences for models of priming. Crucially, models that predict either the presence or absence of frequency attenuation under masked conditions need to account for a small but reliable effect.\n",
    "\n",
    "# 1. Introduction"
   ],
   "id": "a24adcee-74f5-4490-ab11-34784fcd2aa9"
  },
  {
   "cell_type": "code",
   "execution_count": null,
   "metadata": {},
   "outputs": [
    {
     "output_type": "stream",
     "name": "stderr",
     "text": [
      "── Attaching core tidyverse packages ──────────────────────── tidyverse 2.0.0 ──\n",
      "✔ dplyr     1.1.3     ✔ readr     2.1.4\n",
      "✔ forcats   1.0.0     ✔ stringr   1.5.0\n",
      "✔ ggplot2   3.4.4     ✔ tibble    3.2.1\n",
      "✔ lubridate 1.9.3     ✔ tidyr     1.3.0\n",
      "✔ purrr     1.0.2     \n",
      "── Conflicts ────────────────────────────────────────── tidyverse_conflicts() ──\n",
      "✖ dplyr::filter() masks stats::filter()\n",
      "✖ dplyr::lag()    masks stats::lag()\n",
      "ℹ Use the conflicted package (<http://conflicted.r-lib.org/>) to force all conflicts to become errors"
     ]
    },
    {
     "output_type": "stream",
     "name": "stderr",
     "text": [
      "\n",
      "Attaching package: 'zoo'\n",
      "\n",
      "The following objects are masked from 'package:base':\n",
      "\n",
      "    as.Date, as.Date.numeric"
     ]
    }
   ],
   "source": [
    "library(tidyverse)"
   ],
   "id": "46c1a893-a842-4c7f-868a-089b34e2e263"
  },
  {
   "cell_type": "markdown",
   "metadata": {},
   "source": [
    "The masked priming technique has been an invaluable tool in visual word recognition research. It has allowed researchers to study the conditions under which orthographic, phonological, morphological, and semantic information impact access to visual word forms while mitigating strategic effects and minimizing the influence of controlled processes ([Forster 1998](#ref-Forster1998)). First introduced in its traditional form by Forster and Davis ([1984](#ref-ForsterDavis1984); see also [Evett and Humphreys 1981](#ref-EvettHumphreys1981)), this technique involves a forward mask (i.e., usually a string of hashes, #####), followed by a prime string presented for very short time ($SOA < 60$ ms),[1] and a target string presented immediately after. Because the prime presentation is so brief and masked by preceding and subsequent stimuli, most participants report not being aware that a prime string has been presented, and can at most report a screen flicker just before the target presentation ([Forster, Mohan, and Hector 2003](#ref-ForsterEtal2003)).\n",
    "\n",
    "Among possible manipulations of prime-target relatedness, masked repetition priming (in which the same word is presented as both the prime and target within the same trial: e.g., *love-LOVE*) has been well studied, because its response seems to be qualitatively different from the unmasked counterpart ($SOA > 60 ms$): while high-frequency words benefit less from repetition than low-frequency words in the unmasked design (*frequency attenuation effect*, henceforth FAE; [Scarborough, Cortese, and Scarborough 1977](#ref-ScarboroughEtal1977)), this does not seem to be the case when the prime is masked ([Forster and Davis 1984](#ref-ForsterDavis1984); [Forster et al. 1987](#ref-ForsterEtal1987); [Segui and Grainger 1990](#ref-SeguiGrainger1990); [Sereno 1991](#ref-Sereno1991); [Forster and Davis 1991](#ref-ForsterDavis1991); [Rajaram and Neely 1992](#ref-RajaramNeely1992); [Bodner and Masson 1997](#ref-BodnerMasson1997); [Forster, Mohan, and Hector 2003](#ref-ForsterEtal2003); [Nievas 2010](#ref-Nievas2010)). This asymmetry in sensitivity to lexical frequency between the masked and unmasked repetition priming responses has been important in distinguishing among different models of priming in visual word recognition. More specifically, *interactive activation models* ([McClelland and Rumelhart 1981](#ref-McClellandRumelhart1981); [Grainger and Jacobs 1996](#ref-GraingerJacobs1996); [Coltheart et al. 2001](#ref-ColtheartEtal2001)) conceive of priming as a “head start” in processing due to the pre-activation of the target word due to the presentation of the prime. Thus, according to *interactive activation* models, priming is ultimately caused by a single mechanism, making the qualitatively different profiles for repetition priming in masked and unmasked conditions a difficult empirical finding to explain.\n",
    "\n",
    "Similarly, episodic models (e.g., [Jacoby and Dallas 1981](#ref-Jacoby1981); [Jacoby 1983](#ref-Jacoby1983)) posit a different single mechanism for priming effects: the activation/retrieval of the episodic memory trace of the encounter with the prime word. These models therefore encounter the same type of difficulty in accounting for qualitatively different patterns of repetition priming effects in masked and unmasked conditions. A similar type of model, called the *memory recruitment model* makes very similar predictions to the episodic memory models, positing a non-lexical source for priming effects ([Bodner and Masson 1997](#ref-BodnerMasson1997); [Masson and Bodner 2003](#ref-MassonBodner2003); [Bodner and Masson 2014](#ref-Bodner2014)). Repetition priming effects under this view stem from the exploitation, strategically or automatically, of a memory resource created by the encounter with the prime word. The frequency attenuation effect, under episodic and memory recruitment models alike, is predicted on the basis that low frequency primes, being more distinctive stimuli, create a more potent and effective memory resource compared to high frequency primes.\n",
    "\n",
    "In contrast, other models appear to successfully sidestep the problem posed by the qualitatively different repetition priming profiles observed in masked and unmasked conditions. One such model is the *entry-opening model* (also known as the *bin model*; [Forster and Davis 1984](#ref-ForsterDavis1984)). According to this model, when the visual stimulus is presented, lexical entries are assigned to specific bins based on orthographic similarity. In the first stage (fast search stage), a fast, frequency-ordered search goes through the entries within a given bin, and compares each one with the the input stimulus, assigning to each entry a goodness-of-fit score. This comparison is fast and crude, and sorts entries into (a) perfect (i.e., no difference is detected between the input and the entry), (b) close (i.e., small differences are detected), and (c) irrelevant matches (i.e., substantial difference are detected). Any entry of type (a) or (b) is opened, so that the entry can be further analyzed and compared to the input in the subsequent verification stage. Under a masked presentation, the entry of the prime word is opened at the fast search stage, but the short duration of the stimulus prevents it from reaching the evaluation stage. Crucially, the entry is nonetheless left open. Upon the presentation of the target stimulus, the access procedure will follow its two stage course, with a frequency-sensitive fast search and a subsequent entry opening for evaluation/verification. In this view, the fast search for the target word proceeds normally, but the evaluation/verification procedure starts and ends sooner than it otherwise would, because the target entry has already been left open after the brief processing of the prime. Thus, the *entry-opening model* explains the masked repetition priming as the benefit from having the entry of the target word already open by the time the second stage of recognition starts. Crucially, this occurs *after* the target word is initially accessed, which happens in order of frequency. Put differently, according to the *entry-opening model*, masked repetition priming occurs because of the time savings from not having to open the entry of the target, which is a frequency-insensitive process (i.e., every entry takes the same time to be opened), but *after* the frequency-sensitive first access stage. As a consequence, the *entry-opening model* predicts a frequency-insensitive masked repetition priming effect, which is what has been traditionally reported in the literature (see <a href=\"#tbl-litReview\" class=\"quarto-xref\">Table 1</a>). In addition, it also predicts that pseudowords should not benefit from masked repetition priming, as they have no entries in the mental lexicon to be left open after the brief processing of the prime.\n",
    "\n",
    "However, as <a href=\"#tbl-litReview\" class=\"quarto-xref\">Table 1</a> shows, there are nonetheless a few studies that do report significant FAEs in masked repetition priming ([Bodner and Masson 2001](#ref-BodnerMasson2001); [Kinoshita 2006](#ref-Kinoshita2006); [Norris and Kinoshita 2008](#ref-NorrisKinoshita2008); [Nievas 2010](#ref-Nievas2010)). Bodner and Masson ([2001](#ref-BodnerMasson2001)) report that when stimuli are presented in alternating case (e.g., *pHoNe*), this increases the lexical decision difficulty and therefore generates an extra incentive to draw on the memory resource created by the brief processing of the prime. Under such conditions, they were able to observe a statistically significant FAE. In the same vein, Kinoshita ([2006](#ref-Kinoshita2006)) noticed that in earlier studies the low frequency words often had very high error rates, and suggested that perhaps many participants did not know them. If participants treated a substantial number of low frequency words as nonwords, and nonwords do not exhibit repetition priming under masked conditions, it could artificially depress the repetition priming effect for the low frequency condition alone, which could make any existing FAE harder to detect. In two separate experiments, Kinoshita ([2006](#ref-Kinoshita2006)) showed that larger repetition priming effects for low frequency words were only obtained when the low frequency words were vetted to make sure the participants knew them prior to the experiment. Following up on Kinoshita ([2006](#ref-Kinoshita2006)), Norris and Kinoshita ([2008](#ref-NorrisKinoshita2008)) were also able to find an interaction between lexical frequency and repetition in masked repetition priming. Similar FAEs were recently reported in a Spanish study by Nievas ([2010](#ref-Nievas2010)) (exp. 1b).\n",
    "\n",
    "Finally, as <a href=\"#tbl-litReview\" class=\"quarto-xref\">Table 1</a> shows, it is noteworthy that 15 out of 18 previous studies showed numerically larger masked priming effects for low frequency words as opposed to high frequency words, irrespective of statistical significance. Similarly, the average repetition effect for low frequency words in the studies reviewed in <a href=\"#tbl-litReview\" class=\"quarto-xref\">Table 1</a> is 13 ms larger when compared to that of high frequency words. These results are not in line with the predictions dictated by the *entry opening model*, and seem to align better with the predictions made by *interactive activation models* and *memory recruitment* models.\n",
    "\n",
    "[1] *SOA: Stimulus Onset Asynchrony*, i.e. the time between the start of one stimulus (in our case, the prime stimulus) and the start of another stimulus (the target stimulus). In the standard repetition priming design, no backward mask occurs between the prime and the target, and therefore SOA equals the duration of prime presentation."
   ],
   "id": "ceb33a5d-4770-47a4-8fb5-9772a2b57b62"
  },
  {
   "cell_type": "raw",
   "metadata": {
    "raw_mimetype": "tex"
   },
   "source": [
    "\\blandscape"
   ],
   "id": "f92456e6-90ce-4b0d-af0b-40b6b4ac5b26"
  },
  {
   "cell_type": "code",
   "execution_count": null,
   "metadata": {},
   "outputs": [],
   "source": [
    "lit_effects %>%\n",
    "  left_join(., power_estimates_15, by=join_by(\"N\" == \"nsubj\"), multiple=\"first\") %>%\n",
    "  left_join(., power_estimates_30, by=join_by(\"N\" == \"nsubj\"), multiple=\"first\", suffix = c(\"_15\", \"_30\")) %>%\n",
    "  mutate(across(MOP_HF:MOP_Interaction, as.numeric)) %>%\n",
    "  #group_by(N) %>%\n",
    "  gt(rowname_col = \"PAPER\") %>%\n",
    "  #tab_options(row.striping.include_table_body = FALSE) %>% \n",
    "  tab_stubhead(label = \"Study\") %>%\n",
    "  tab_spanner(\n",
    "    label = \"MOP (ms)\", columns = c(MOP_HF, MOP_LF)\n",
    "  ) %>% \n",
    "  tab_spanner(\n",
    "    label = \"FAE (ms)\", columns = c(MOP_Interaction, `p<.05?`)\n",
    "  ) %>%\n",
    "  tab_spanner(\n",
    "    label = \"Power range [min max]\", columns = c(`Power range_15`, `Power range_30`)\n",
    "  ) %>%\n",
    "  cols_label( LANGUAGE = \"Language\", \n",
    "              PRIME_DURATION = \"SOA\",\n",
    "              MOP_HF = \"HF\", \n",
    "              MOP_LF = \"LF\", \n",
    "              MOP_Interaction = \"ES\",\n",
    "              `p<.05?` = md(\"_p_<.05?\"),\n",
    "              `Power range_15` = \"FAE=15ms\",\n",
    "              `Power range_30` = \"FAE=30ms\"\n",
    "  ) %>%\n",
    "  tab_footnote( \n",
    "    footnote = \"SOA for each subject determined by pre-test\", \n",
    "    locations = cells_body(column = \"PRIME_DURATION\", rows = 14)\n",
    "  ) %>%\n",
    "  tab_footnote(\n",
    "    footnote = \"Reported in Masson & Bodner (2003)\",\n",
    "    locations = cells_stub(rows = 16) \n",
    "  ) %>% \n",
    "  grand_summary_rows(\n",
    "    columns = c(MOP_HF, MOP_LF, MOP_Interaction),\n",
    "    fns = list(Mean ~ round(mean(.)),\n",
    "               SD ~ round(sd(.))), \n",
    "    missing_text = \" \" \n",
    "  ) %>%\n",
    "  grand_summary_rows(\n",
    "    columns = c(MOP_Interaction),\n",
    "    fns = list(Correlation ~ round(cor(MOP_HF, MOP_LF), 2)), \n",
    "    missing_text = \" \" \n",
    "  ) %>%\n",
    "   sub_missing(\n",
    "    missing_text = \" \"\n",
    "  )"
   ],
   "id": "c279c355-df38-44ab-ace4-62d4fa7895cc"
  },
  {
   "cell_type": "raw",
   "metadata": {
    "raw_mimetype": "tex"
   },
   "source": [
    "\\elandscape"
   ],
   "id": "10db35a5-6ebc-4149-9928-b78e7a95d115"
  },
  {
   "cell_type": "markdown",
   "metadata": {},
   "source": [
    "# 2. The present study\n",
    "\n",
    "It is somewhat surprising that the status of the FAE in masked priming remains largely unresolved in the literature, given its non-negligible magnitude and its theoretical significance in elucidating the underlying cognitive processes of masked priming.\n",
    "\n",
    "One possible interpretation of the conflicting past findings revolves around the fact that only 4 out of 18 studies demonstrate a statistically significant FAE in masked repetition priming. Notably, this number potentially diminishes further when considering that, among these four studies, the FAE is detected only through the pooling of data across multiple studies employing a unique alternating-case stimulus presentation ([Bodner and Masson 2001](#ref-BodnerMasson2001); [Masson and Bodner 2003](#ref-MassonBodner2003)). This line of reasoning suggests a qualitatively distinct profile between masked and unmasked repetition priming, with the FAE more firmly established in the latter.\n",
    "\n",
    "Conversely, one could argue that 15 out of 18 studies exhibit numerically larger repetition effect sizes for low-frequency words compared to high-frequency words —- a pattern that is challenging to reconcile with a genuine absence of interaction between frequency and masked repetition. Additionally, the average FAE across all studies stands at 13 ms, a modest yet non-negligible effect size. In fact, the naïve assumption that the two conditions are similar enough across experiments could justify the use of a *t*-test with statistically significant results: *M_FAE* = 13, CI_95% = \\[7, 20\\]), *t*(17) = 4.24, $p=.0005$. These considerations suggest that a genuine FAE may exist in masked priming but might be smaller than the thresholds detectable by most previous experiments. This interpretation is supported by the results from Adelman et al. ([2014](#ref-Adelman2014)) in a large scale, multi-site lab-based study on orthographic priming. They report a small but reliable FAE, but only when the frequency counts of Brysbaert and New ([2009](#ref-BrysbaertNew2009)) are used, and caution that this effect could simply be an orthographic neighborhood effect masquerading as a frequency effect, due to the high correlations between the two variables.\n",
    "\n",
    "Compounding this complexity, another potential contributor to past discrepancies is the reliance on the dated Kucera and Francis (1967) word frequency database, which 15 out of 18 studies have depended on. This poses a potential problem, as this frequency database has consistently demonstrated inferior predictive performance, particularly with low-frequency words, compared to more contemporary databases ([Burgess and Livesay 1998](#ref-Burgess1998); [Zevin and Seidenberg 2002](#ref-Zevin2002); [Balota et al. 2004](#ref-Balota2004); [Brysbaert and New 2009](#ref-BrysbaertNew2009); [Yap and Balota 2009](#ref-Yap2009); [Brysbaert and Cortese 2011](#ref-Brysbaert2011); [Gimenes and New 2016](#ref-Gimenes2016); [Herdağdelen and Marelli 2017](#ref-Herdaugdelen2017); [Brysbaert, Mandera, and Keuleers 2018](#ref-Brysbaert2018)). Both of these issues are addressed in the subsequent sections.\n",
    "\n",
    "## 2.1 Issues with frequency databases\n",
    "\n",
    "Due to the well-documented concerns over the reliability of the Kučera and Francis ([1967](#ref-KuceraFrancis1967)) frequency database for psycholinguistic experiments ([Burgess and Livesay 1998](#ref-Burgess1998); [Zevin and Seidenberg 2002](#ref-Zevin2002); [Balota et al. 2004](#ref-Balota2004); [Brysbaert and New 2009](#ref-BrysbaertNew2009); [Yap and Balota 2009](#ref-Yap2009); [Brysbaert and Cortese 2011](#ref-Brysbaert2011); [Gimenes and New 2016](#ref-Gimenes2016); [Herdağdelen and Marelli 2017](#ref-Herdaugdelen2017); [Brysbaert, Mandera, and Keuleers 2018](#ref-Brysbaert2018)), our studies exclusively sourced materials from the HAL ([Lund and Burgess 1996](#ref-LundBurgess1996)) and SUBTLEX$_{US}$ ([Brysbaert and New 2009](#ref-BrysbaertNew2009)) databases, which reflect more recent linguistic usage and offer better validation in behavioral experiments (e.g., [Balota et al. 2004](#ref-Balota2004); [Brysbaert and New 2009](#ref-BrysbaertNew2009); [Yap and Balota 2009](#ref-Yap2009); [Brysbaert and Cortese 2011](#ref-Brysbaert2011); [Gimenes and New 2016](#ref-Gimenes2016); [Herdağdelen and Marelli 2017](#ref-Herdaugdelen2017)). While these databases outperform Kučera and Francis ([1967](#ref-KuceraFrancis1967)) in predicting psycholinguistic task outcomes, it is important to note potential discrepancies in individual frequency counts, particularly in the low and mid-frequency ranges. This variation, attributable to the primary genre of their sources (USENET groups for HAL and movie subtitles for SUBTLEX$_{US}$),[1] may have minimal impact on megastudies with large word samples (e.g., [Balota et al. 2004](#ref-Balota2004); [Brysbaert and New 2009](#ref-BrysbaertNew2009); [Yap and Balota 2009](#ref-Yap2009); [Brysbaert and Cortese 2011](#ref-Brysbaert2011); [Gimenes and New 2016](#ref-Gimenes2016); [Herdağdelen and Marelli 2017](#ref-Herdaugdelen2017)). However, corpus-specific frequency skew can become significant when dealing with smaller samples of words, as is the case in most masked priming studies (cf. Adelman et al. ([2014](#ref-Adelman2014))). <a href=\"#tbl-exFreqSkew\" class=\"quarto-xref\">Table 2</a> illustrates the potential discrepancy in considering words as high or low frequency based on the different aforementioned databases.\n",
    "\n",
    "[1] A separate, though relevant issue which cannot be addressed here is to how to mitigate the discrepancies across the databases available, but see Yap and Balota ([2009](#ref-Yap2009)), and Brysbaert and Cortese ([2011](#ref-Brysbaert2011)) for proposals about combining the frequency counts from different corpora."
   ],
   "id": "120023ac-3c46-4921-b016-82fd4ddb8582"
  },
  {
   "cell_type": "code",
   "execution_count": null,
   "metadata": {},
   "outputs": [],
   "source": [
    "freqSkew %>% \n",
    "  gt() %>%\n",
    "  cols_label(\n",
    "    `SUBTLEX-US` = md(\"SUBTLEX~US~\")\n",
    "  ) %>%\n",
    "  fmt_number(decimals = 0, drop_trailing_zeros = TRUE) %>%\n",
    "  tab_row_group(\n",
    "    label = md(\"_Skew in KF_\"),\n",
    "    rows = 1:5\n",
    "  ) %>%\n",
    "  tab_row_group(\n",
    "    label = md(\"_Skew in HAL_\"),\n",
    "    rows = 6:10\n",
    "  ) %>%\n",
    "  tab_row_group(\n",
    "    label = md(\"_Skew in SUBTLEX~US~_\"),\n",
    "    rows = 11:15\n",
    "  ) %>%\n",
    "  row_group_order(groups = c(\"_Skew in KF_\", \"_Skew in HAL_\", \"_Skew in SUBTLEX~US~_\"))"
   ],
   "id": "e86a722a-f57f-4079-b9b2-fab7d585cb3f"
  },
  {
   "cell_type": "markdown",
   "metadata": {},
   "source": [
    "## 2.2 Issues with statistical power\n",
    "\n",
    "The inconsistency of past findings regarding the FAE in masked priming has been linked to a potential lack of statistical power in previous research ([Bodner and Masson 1997](#ref-BodnerMasson1997); [Bodner and Masson 2001](#ref-BodnerMasson2001); [Masson and Bodner 2003](#ref-MassonBodner2003); [Adelman et al. 2014](#ref-Adelman2014)). This is a plausible concern, as interactions like the FAE often require larger sample sizes for statistical detection ([Potvin and Schutz 2000](#ref-PotvinSchtuz2000); [Brysbaert and Stevens 2018](#ref-BrysbaertStevens2018)) compared to main effects. We outline below three ways in which neglecting statistical power might frustrate our understanding of FAE in masked repetition priming.\n",
    "\n",
    "First, our literature review revealed crucial gaps in the reporting of relevant statistical information, which impedes the assessment of the statistical power attained by past experiments. The inconsistent reporting of each conditions’ standard deviations (only 7 out of 18 studies) and the complete absence of reporting of the correlation structure between conditions complicates power assessments. Researchers are thus forced to explore a range of plausible values for standard deviations and correlation structures on their own. <a href=\"#tbl-litReview\" class=\"quarto-xref\">Table 1</a> details our attempt to conduct power simulations for two hypothesized frequency attenuation effect sizes: 15 ms (close to the averaged FAE of 13 ms) and 30 ms (close to the only three observed statistically significant FAE in English). Standard deviations (ranging between 60 ms and 180 ms, in 10 ms increments) and correlation between conditions (uniformly set to range between 0.6 and 0.9, with 0.1 unit increments) were simulated for each study’s sample size, with 10,000 replications for each simulation. These range of values were derived from our literature review and previous in lab and online experiments ([Petrosino 2024](#ref-Petrosino2024); [Petrosino, Sprouse, and Almeida 2023](#ref-PetrosinoEtal2023)). For each simulated dataset, a paired *t*-test was performed comparing the repetition effect for high frequency words and low frequency words. This calculation is mathematically identical to the interaction term in a 2x2 factorial within-subjects design (the squared *t* value is equal to the *F* value for the interaction calculated in the 2x2 rmANOVA), but it is less computationally expensive to perform in large scale simulations. Power to detect this interaction was then calculated as the proportion of significant tests obtained across replications. All else being equal, standard deviations and correlations between conditions have opposite effects on statistical power: increases in standard deviations lead to less power, while increases in correlation between conditions lead to more power. The results reported in <a href=\"#tbl-litReview\" class=\"quarto-xref\">Table 1</a> reveal a wide range of possible statistical power attained by previous studies, depending solely on the combination of plausible standard deviation and correlation across conditions. For instance, the study with the smallest sample size ([Forster et al. 1987](#ref-ForsterEtal1987), $N=16$) had a 2% to 24% chance of detecting a 15 ms frequency attenuation effect and a 4% to 84% chance to detect a 30 ms effect. Similarly, the study with the largest sample size ([Rajaram and Neely 1992](#ref-RajaramNeely1992), $N=48$) exhibited a range of 4% to 76% for a 15 ms frequency attenuation effect and 9% to 100% for a 30 ms effect. As a consequence of the limited reporting of relevant statistical information in past studies, it is nearly impossible to determine if any of them were adequately powered to detect the effect of interest.\n",
    "\n",
    "A second concern arising from the ambiguity surrounding statistical power in the literature is the potential impact of a prevalence of low-powered experiments on the scientific record. An excess of such experiments increases the risk of observed statistically significant effects being spurious ([Button et al. 2013](#ref-Button2013)). As highlighted in <a href=\"#tbl-litReview\" class=\"quarto-xref\">Table 1</a>, only 4 out of 18 studies demonstrate a statistically significant FAE. The absence of clarity regarding the statistical power of previous research poses challenges in assessing the likelihood of these significant findings being spurious.\n",
    "\n",
    "Finally, it is widely acknowledged that experiments with approximately 50% power are akin to a coin toss in their ability to detect a true effect ([Cohen 1992](#ref-Cohen1992)). A less-appreciated fact is that, in the presence of even lower power (\\<25%), statistically significant results can substantially overestimate the effect size – a type-M error ([Gelman and Carlin 2014](#ref-GelmanCarlin2014)). When power drops to levels below 10%, a statistically significant result may occur even when the observed effect goes in the opposite direction of the true effect – a type-S error ([Gelman and Carlin 2014](#ref-GelmanCarlin2014)). Our power simulations for within-subjects data revealed a similar relationship between statistical power, type-M, and type-S errors in line with the observations detailed by Gelman and Carlin ([2014](#ref-GelmanCarlin2014)) for the independent samples $t$-test. For instance, at 10% power (a possibility for virtually all previous studies, as indicated in <a href=\"#tbl-litReview\" class=\"quarto-xref\">Table 1</a>), a statistically significant result could indicate an overestimation of the magnitude of the frequency attenuation effect by a factor between 2 and 5, with a 5% chance of incorrectly determining the direction of the effect.\n",
    "\n",
    "The two studies reported here were designed to mitigate these two confounding issues: the overreliance on the Kučera and Francis ([1967](#ref-KuceraFrancis1967)) frequency data as well as a potential lack of statistical power observed in previous research. As a large increase in statistical power requires a large sample size, Experiment 1 aimed to assess the suitability of using *Labvanced* ([Finger et al. 2017](#ref-Labvanced2017)), an online platform for running web browser-based experiments, for running masked priming studies online.\n",
    "\n",
    "# 3. Experiment 1\n",
    "\n",
    "As evident in <a href=\"#tbl-litReview\" class=\"quarto-xref\">Table 1</a>, conducting a properly powered experiment for a FAE close to the averaged value calculated from previous studies will require sample sizes that would be impractical to pursue in standard university research settings, typically quiet lab rooms with limited research computers. In response to this challenge, our study was exclusively conducted online, leveraging the growing trend in online behavioral research facilitated by HTML5 capabilities and the availability of advanced web software such as *jsPsych* ([de Leeuw 2014](#ref-deLeeuw2014)), *PsychoJS* \\[the JavaScript counterpart of *PsychoPy*; Peirce et al. ([2019](#ref-PeirceEtal2019))\\], *Gorilla* ([Anwyl-Irvine et al. 2020](#ref-Anwyl2020)), and *Labvanced* ([Finger et al. 2017](#ref-Labvanced2017)).\n",
    "\n",
    "Notably, three recent studies have already demonstrated the viability of conducting masked priming experiments online, employing different software tools: Angele et al. ([2023](#ref-Angele2023)) with *PsychoJS*, Cayado, Wray, and Stockall ([2023](#ref-Cayado2023)) with *Gorilla* and Petrosino, Sprouse, and Almeida ([2023](#ref-PetrosinoEtal2023)) with *Labvanced*. In this study, we opted for *Labvanced* ([Finger et al. 2017](#ref-Labvanced2017)), given our previous successful experience with it ([Petrosino, Sprouse, and Almeida 2023](#ref-PetrosinoEtal2023)). Similar to *Gorilla*, *Labvanced* eliminates local installation issues, ensures cross-platform consistency, and simplifies experimental design without necessitating proficiency in additional programming languages, while still providing comparable levels of versatility and capability.\n",
    "\n",
    "## 3.1 Methods\n",
    "\n",
    "### 3.1.1 Participants\n",
    "\n",
    "Three hundred participants (145 females; *mean age* = 38; *sd* = 12) were recruited on the Prolific online platform (<https://www.prolific.com>). Several criteria were selected to ensure recruitment of native speakers of U.S. English. Participants had to be born in the Unites States of America, speak English as their first and only language, and have no self-reported language-related disorder. We encouraged participants to avoid any sort of distraction throughout the experiment, and to close any program that may be running in the background. Because the experiment was run online, participants could not be monitored during data collection. Finally, to further reduce variability across participants’ devices, we restricted the experiment to be run on Google Chrome only, which is the most used browser worldwide ([W3 Counter 2023](#ref-w3counterGlobalStats)), and reportedly performs better than any other across operating systems (likely thanks to the *Blink* engine; see [Lukács and Gartus 2023](#ref-LukacsGaspar2023)).\n",
    "\n",
    "### 3.1.2 Design\n",
    "\n",
    "The masked priming procedured relied on a lexical decision task (LDT), in which a 3 (condition: *high* vs *low* vs *non-word*) x 2 (primetype: *repetition* vs *unrelated*) factorial design was used. Both factors were manipulated within-subjects. The dependent variables were lexical decision latency (in miliseconds) and error rate (in percentages).\n",
    "\n",
    "### 3.1.3 Materials\n",
    "\n",
    "Two hundred five-letter English words were selected from the English Lexicon Project (ELP; [Balota et al. 2007](#ref-balota2007)), in which 100 words were selected from an upper and a lower frequency range, respectively.[1] It was not possible to identify two frequency ranges that were well separated from one another for both the HAL ([Lund and Burgess 1996](#ref-LundBurgess1996)) and the SUBTLEX$_{US}$ ([Brysbaert and New 2009](#ref-BrysbaertNew2009)) frequency databases. As <a href=\"#tbl-words_exp1\" class=\"quarto-xref\">Table 3</a> shows, we managed to do this only for the former, whereas some overlap was present in the latter. This is expected given the different source of the two databases (see above, and fn. ). The two word subsets corresponded to the two word frequency conditions being tested: the high-frequency, and low-frequency conditions. In each condition, fifty words were randomly chosen to be presented as targets and related primes (for the related prime type condition), and the remaining fifty were presented as unrelated primes (for the unrelated prime type condition).\n",
    "\n",
    "[1] The experiment also included an even lower frequency condition (HAL frequency range: \\[0.16 1\\]; HAL mean: 0.69, HAL SD: 0.28), thus summing up to six hundred trials being presented in the experiment. However, the average error rate for this condition was 44% and 33 (out of the 50) target words used in the same condition had a error rate higher than 30%. This suggested that they might have not known these words (see [Kinoshita 2006](#ref-Kinoshita2006)). For this reason, this condition was completely removed from analysis."
   ],
   "id": "56df7ccb-68d4-48a9-9602-4d253e1da7e7"
  },
  {
   "cell_type": "code",
   "execution_count": null,
   "metadata": {},
   "outputs": [],
   "source": [
    "words %>% \n",
    "  filter(freq.bin != 'low') %>%\n",
    "  mutate(Freq_HAL.Pm = (Freq_HAL * (10^6) / (131*10^6))) %>% # CHECK IF THE TRANSFORM HERE IS CORRECT\n",
    "  mutate(freq.bin = fct_recode(freq.bin, low = \"mid\")) %>% \n",
    "  dplyr::group_by(freq.bin) %>%\n",
    "  dplyr::summarise(N = n(),\n",
    "            minFreq= min(Freq_HAL.Pm, na.rm = T), maxFreq=max(Freq_HAL.Pm, na.rm = T),\n",
    "            meanFreq = mean(Freq_HAL.Pm, na.rm = T), sdFreq = sd(Freq_HAL.Pm, na.rm = T),\n",
    "            minSUBFreq= min(SUBTLWF, na.rm = T), maxSUBFreq=max(SUBTLWF, na.rm = T),\n",
    "            meanSUBFreq = mean(SUBTLWF, na.rm = T), sdSUBFreq = sd(SUBTLWF, na.rm = T),\n",
    "            #meanRT=mean(as.numeric(I_Mean_RT), na.rm = T), sdRT=sd(as.numeric(I_Mean_RT), na.rm = T),\n",
    "            #meanLength = mean(Length, na.rm = T), sdLength=sd(Length, na.rm = T)\n",
    "            ) %>% \n",
    "  mutate(\n",
    "    across(-freq.bin, ~ if_else(.<1, round(., 2), round(.)))\n",
    "  ) %>% \n",
    "  gt() %>%\n",
    "  tab_spanner(\n",
    "    label = md(\"**HAL**\"), \n",
    "    columns = c(minFreq: sdFreq)\n",
    "  ) %>%\n",
    "  tab_spanner(\n",
    "    label = md(\"**SUBTLEX~US~**\"), \n",
    "    columns = c(minSUBFreq: sdSUBFreq)\n",
    "  ) %>%\n",
    "  cols_label(freq.bin = \"frequency\", \n",
    "             minFreq = \"min\", maxFreq = \"max\", meanFreq = \"mean\", sdFreq = \"SD\", \n",
    "             minSUBFreq = \"min\", maxSUBFreq = \"max\", meanSUBFreq = \"mean\", sdSUBFreq = \"SD\") %>%\n",
    "  gt_add_divider(columns=c(\"maxFreq\", \"maxSUBFreq\"), weight=px(1))"
   ],
   "id": "1a1e1518-ba88-4bb5-b716-fafd28943fbb"
  },
  {
   "cell_type": "markdown",
   "metadata": {},
   "source": [
    "Two-hundred five-letter phonotactically legal nonwords were randomly selected from the ELP database as well. Half of them were randomly selected to be presented as targets; the other half was instead used as unrelated nonword primes.\n",
    "\n",
    "### 3.1.4 Procedure\n",
    "\n",
    "Each recruited participant was assigned one of two word lists, which differed only in the relatedness of the prime with respect to the target; otherwise, the two lists presented the same set of target words and nonwords (300 items in total). In one list, the three conditions (high-frequency, low-frequency word conditions, and the non-word condition) had 25 target items being preceded by themselves (the *related* condition) and the remaining 25 target items being preceded by one of the unrelated primes belonging to the same frequency bin (the *unrelated* condition). In the other list, these assignments were reversed. The order of stimulus presentation was randomized for each participant.\n",
    "\n",
    "After being recruited in the *Prolific* online platform, participants were asked to click on a link redirecting them to the Labvanced online service. During the experiment, they were asked to perform a lexical decision task by pressing either the ‘J’ (for word) or ‘F’ (for non-word) keys on their keyboard. Each trial consisted of three different stimuli appearing at the center of the screen: a series of hashes (#####) presented for 500 ms, followed by a prime word presented for 33 ms, and finally the target word; the target word disappeared from the screen as soon as a decision was made. The motivation for the choice of a very short prime duration (as compared to the literature, in which it is usually between 50 and 60 ms; see <a href=\"#tbl-litReview\" class=\"quarto-xref\">Table 1</a>) is threefold. First, previous experiments on *Labvanced* (e.g., [Petrosino, Sprouse, and Almeida 2023](#ref-PetrosinoEtal2023)) showed that, due to the inherent difficulties in presenting stimuli for very short set durations in the browser, a longer set duration would increase the number of trials in which the prime duration would rise above the subliminal threshold (usually set at 60 ms) due to timing inaccuracies and missing screen refreshes, which could trigger the adoption of experiment-wide strategies in the task, and ultimately contaminate the masked priming response ([Zimmerman and Gomez 2012](#ref-Zimmerman2012)). Second, Angele et al. ([2023](#ref-Angele2023)), Cayado, Wray, and Stockall ([2023](#ref-Cayado2023)) and Petrosino, Sprouse, and Almeida ([2023](#ref-PetrosinoEtal2023)) have demonstrated that a 33 ms priming duration is sufficient to elicit repetition priming effects in online experiments. Finally, setting such a short prime duration prevents virtually everyone from consciously perceiving the prime word Nievas ([2010](#ref-Nievas2010)), and thus presents a less contaminated estimate of early putatively automatic processes in word recognition.\n",
    "\n",
    "Participants were given 5 breaks throughout the experiment. When the experiment was over, the participants were then redirected to Prolific in order to validate their submission. The median time to finish the experiment was 11 minutes. Each participant was paid with a standard rate of GBP 9/hour.\n",
    "\n",
    "## 3.2 Data analysis\n",
    "\n",
    "Analysis scripts and an abridged version of the data collected can be found on online (<https://osf.io/ej8dh>). We performed three different steps of analyses (in sequential order), with the goal of only keeping data that pass a set of stringent inclusion criteria (77,359 observations in total). After removing participants and items with high error rates, we inspected the durations of prime stimuli and removed those that did not fell within our desired range. Finally, we removed RT outliers.\n",
    "\n",
    "### 3.2.1 Step 1: subject and item performance\n",
    "\n",
    "Item and subject error rates were calculated, with a cutoff of 30%. Only 3 low-frequency words (*carte, parse, posit*), 5 non-words (*frick, gotch, phasm, pluff, venem*), and 8 participants were removed, with 291 participants remaining.\n",
    "\n",
    "### 3.2.2 Step 2: prime durations\n",
    "\n",
    "During the experiment, the duration of presentation of the prime word was recorded for every trial. Both the mean (mean = 37.88 ms) and the median (median = 35 ms) of prime durations were slightly larger than the intended value (33 ms). This distribution suggests some imprecision in prime duration during the experiment. This was expected and likely due to the inherent difficulty with timing precision of visual presentations in web browsers and the great variation of computer hardware and internet connections used by the participants. Both of these issues may be impossible to control, at least at the current state of browser development. However, in masked priming, in which the duration of the prime is an essential part of the design, such fluctuations may indeed hinder proper elicitation of the priming response. As a way to counteract the influence that such fluctuations might have on the priming response, we only kept trials whose prime durations were within a pre-set range from the intended prime duration of 33 ms. Taking a standard 60-Hz monitor as reference, the lower and the upper bounds were set respectively at 25 ms (i.e., the intended prime duration minus half of a full refresh cycle: $33-8~ ms$; noting that Angele et al. ([2023](#ref-Angele2023)) already showed that no repetition priming effects are obtained with a 16.7ms prime duration) and 60 ms (i.e., the commonly accepted upper threshold of subliminal processing), in an attempt to remove any trial that could have been consciously perceived by participants. Only 4% of the trials were out of this duration range. We take this as evidence that *Labvanced* is able to consistently present stimuli at short durations. Prime duration fluctuations were however observed, and they were likely due to external factors outside of experimenter control (such as computer hardware, internet connection speed, and number of active operations in the background). The out-of-range trial removal was performed on the data after the error rate removal procedure. A total of 291 participants and 67,209 observations were included in the next steps of analysis.\n",
    "\n",
    "### 3.2.3 Step 3: RT distribution\n",
    "\n",
    "Finally, individual trials were excluded if their RT was below 200 ms and 1800 ms. 602 observations were excluded at this stage of analysis (i.e., 0.9% of the dataset). After removing incorrect trials, to ensure more accurate estimates, we also made sure that each condition for each each participant contained at least half of the total number of trials presented (i.e., 12). A total of 61,449 observations and 282 subjects were included in the statistical analysis below.\n",
    "\n",
    "## 3.3 Results\n",
    "\n",
    "For each frequency bin, priming effects were calculated for each subject by subtracting the subject’s mean RT to the repetition condition from the subject’s mean RT to the unrelated condition. Unstandardized (in ms) and standardized effect sizes (i.e., Cohen’s *d*) were then calculated for each condition. A 2x2 ANOVA (condition, 2 levels: *high* vs. *low*; primetype, 2 levels: *unrelated* vs. *repetition*) revealed significant main effects (condition: *F*(1, 281)=1167, $p<.0001$; primetype: *F*(1, 281)=198, $p<.0001$), and a trending-to-significance interaction (*F*(1, 281)=3.53, $p=.06$). Planned comparisons showed that significant repetition priming effects were triggered in both frequency conditions (*MOP_HF* = 23, CI_95% = \\[19, 27\\], *t*(281) = 10.4, $p<.0001$; *MOP_LF* = 30, CI_95% = \\[24, 36\\], *t*(281) = 9.75, $p<.0001$), with the low-frequency repetition priming effect being 7-ms larger than that of the high-frequency words, but only marginally significant (*M_FAE* = 7, CI_95% = \\[-1, 15\\]), *t*(281) = 1.88, $p=0.06$; <a href=\"#tbl-exp1-statsResults\" class=\"quarto-xref\">Table 4</a>). Non-word repetition priming effects were inhibitory, and marginally significant (*MOP\\_* = -4, CI_95% = \\[-8, 0\\], *t*(281) = -1.91, $p=0.057$). As for the error analysis, we found a significant priming effect in all conditions (high: *t*(281)=2.51, $p<.0001$; low: *t*(281)=6.39, $p<.0001$; non-word: *t*(281)=-2.24, $p<.0001$)."
   ],
   "id": "86c236fd-ae5f-43c9-aeb6-1ce707b7eeda"
  },
  {
   "cell_type": "raw",
   "metadata": {
    "raw_mimetype": "tex"
   },
   "source": [
    "\\blandscape"
   ],
   "id": "46e5eca7-5834-4f97-8d71-89dc26234f66"
  },
  {
   "cell_type": "code",
   "execution_count": null,
   "metadata": {
    "tbl-pos": "h"
   },
   "outputs": [],
   "source": [
    "exp1_summary.results %>%\n",
    "  relocate(c(\"sd_unrelated\", \"mean.error_unrelated\"), .before=gd.mean_related) %>%\n",
    "  gt() %>%\n",
    "  cols_label(\n",
    "    CI = \"95% CI\",\n",
    "    contains(\"mean\") ~ \"mean\",\n",
    "    contains(\"sd\") ~ \"SD\", \n",
    "    contains(\"error\") ~ \"Error (%)\"\n",
    "  ) %>%\n",
    "  tab_spanner(\n",
    "    label = \"unrelated RT\",\n",
    "    columns = c(2:4)\n",
    "  ) %>%\n",
    "  tab_spanner(\n",
    "    label = \"repetition RT\",\n",
    "    columns = c(5:7)\n",
    "  ) %>%\n",
    "  tab_spanner(\n",
    "    label = 'priming effects',\n",
    "    columns = c(9:12)\n",
    "  ) %>%\n",
    "  tab_spanner(\n",
    "    label = md(\"_t_-test\"),\n",
    "    columns = c(13:15)\n",
    "  ) %>%\n",
    "  cols_label(\n",
    "    sd = md(\"SD~p~\")\n",
    "  ) %>%\n",
    "  cols_label(\n",
    "    t = md(\"_t_\"),\n",
    "    p = md(\"_p_\"),\n",
    "  ) %>%\n",
    "   sub_missing(\n",
    "    missing_text = \" \"\n",
    "  )"
   ],
   "id": "8d4babc3-4fe1-431e-903c-1d8229d944d9"
  },
  {
   "cell_type": "raw",
   "metadata": {
    "raw_mimetype": "tex"
   },
   "source": [
    "\\elandscape"
   ],
   "id": "773af3f5-e6a5-4e1f-aabd-ced905b566d1"
  },
  {
   "cell_type": "markdown",
   "metadata": {},
   "source": [
    "## 3.4 Discussion\n",
    "\n",
    "The primary objective of Experiment 1 was to evaluate whether web browser-based stimulus delivery programs such as *Labvanced* can yield data comparable in quality to traditional lab-based experiments. The results indicate that this is indeed possible, but careful inspection of prime durations is nonetheless necessary.\n",
    "\n",
    "Robust repetition priming was observed in both frequency conditions. The non-word condition triggered a small inhibitory repetition effect, in line with the previous literature Forster ([1999](#ref-Forster1999)), but this was not statistically significant. Crucially, we observed a 7 ms FAE effect that was marginally statistically significant. As noted elsewhere ([Potvin and Schutz 2000](#ref-PotvinSchtuz2000)), the absence of a significant interaction effect may easily arise due to low statistical power. The 95% CI for the FAE was between -1 ms and 15 ms. This interval suggests that the actual FAE is possibly a positive value that can be as large as 15 ms. This is in line with the results from previous literature, with the caveat that the majority of previous experiments used ~50 ms prime durations, while experiment 1 used a 33 ms prime duration. Prime durations have been suggested to be an upper bound on the size of the masked repetition priming effect ([Forster 1998](#ref-Forster1998)), and thus it is not entirely clear how much the FAE should vary as a function of the prime duration.\n",
    "\n",
    "To address the concerns about the lack of statistical power and the substantial imprecision in the estimated FAE size observed in experiment 1, experiment 2 was designed to have a sample size that ensures acceptable statistical power to detect the an interaction between priming and frequency, as well as a sample size that reduces the width of the resulting confidence interval compared to experiment 1.\n",
    "\n",
    "# 4. Experiment 2\n",
    "\n",
    "The findings from Experiment 1, as well as those reported by Angele et al. ([2023](#ref-Angele2023)), Cayado, Wray, and Stockall ([2023](#ref-Cayado2023)) and Petrosino, Sprouse, and Almeida ([2023](#ref-PetrosinoEtal2023)), establish the feasibility of obtaining masked repetition priming in online experiments with a 33 ms prime duration. However, a crucial question remains: can we reliably detect the FAE in web browser-based settings? Experiment 2 directly addresses concerns about the potential statistical power limitations observed in Experiment 1 and much of the prior literature. Specifically targeting what we construe as the smallest theoretically interesting FAE (5ms), we recruited a larger sample size, as determined by a power analysis. We simulated 10,000 datasets for each of the combinations of two statistical parameters: standard deviation and the correlation between conditions. The latter were kept equal across conditions to simplify the simulations. Based on our own pilot studies and previous published work ([Petrosino 2024](#ref-Petrosino2024); [Petrosino, Sprouse, and Almeida 2023](#ref-PetrosinoEtal2023)), the simulations involved standard deviations ranging from 80 to 120 ms (with 10 ms increments), while the correlation between conditions ranged from 0.7 to 0.9 (with 0.1 increments). The sample size varied between 200 and 3,000 participants (with 150 unit increments). Three different FAE sizes were simulated: 15 ms, 10 ms and 5 ms. The first effect size (15 ms) is about half of the ones observed in previous studies that statistically detected the FAE (~30 ms). The second effect size (10 ms) is close to the size of the average frequency attenuation effect found in the literature (13 ms). The last effect size (5 ms) is our lower-bound estimate of a theoretically interesting effect size. The code used for the power simulations, along with the simulated datasets, is available online (<https://osf.io/r7d2q/>).\n",
    "\n",
    "Our analysis identified a sample size of 1,250 participants as optimal, ensuring robust statistical power ($\\ge 80%$) across various parameter combinations (<a href=\"#fig-power-1250\" class=\"quarto-xref\">Figure 1</a>), especially for a raw FAE equal to or greater than 10 ms —- a value closely aligned with the average FAE calculated from previous studies (refer to <a href=\"#tbl-litReview\" class=\"quarto-xref\">Table 1</a>). In light of the observed limitations in the temporal accuracy and precision of current online stimulus delivery programs (discussed in <a href=\"#sec-exp1-analysis-primeTime\" class=\"quarto-xref\">Section 3.2.2</a>), which necessitated substantial subject and data exclusion in Experiment 1, we aimed for an intended sample size of 2,600. This decision was made to enhance the likelihood of obtaining a sample size of at least 1,250 participants after applying all the necessary exclusion criteria to the data. In addition, sample sizes exceeding 1,250 can only help increase the precision of the estimated effect size."
   ],
   "id": "a71d3cdc-a1f9-4300-98f6-1a655b72e0d1"
  },
  {
   "cell_type": "code",
   "execution_count": null,
   "metadata": {},
   "outputs": [
    {
     "output_type": "display_data",
     "metadata": {},
     "data": {}
    }
   ],
   "source": [
    "power_pred_df.sub1250 |>\n",
    "  ggplot(aes(y = power_unadjusted, x = ES)) + \n",
    "    geom_line() + \n",
    "    geom_point() +\n",
    "    geom_hline(yintercept = 0.8, color = \"red2\") + \n",
    "    facet_grid(rho ~ std_dev) +\n",
    "  scale_x_continuous(breaks=seq(5, 15, 5), limits=c(5, 15), labels=seq(5, 15, 5),\n",
    "    sec.axis = sec_axis(~ . , name = \"sd\", breaks = NULL, labels = NULL)) +\n",
    "  scale_y_continuous(breaks=seq(0, 1, 0.2), limits=c(0, 1), labels=seq(0, 1, .2),\n",
    "    sec.axis = sec_axis(~ . , name = \"cor\", breaks = NULL, labels = NULL)) +\n",
    "  theme_bw()+\n",
    "    theme(#axis.line = element_line(colour = \"black\"),\n",
    "      panel.grid.major = element_blank(),\n",
    "      panel.grid.minor = element_blank(), \n",
    "      panel.border = element_blank(),\n",
    "      legend.position=\"none\"\n",
    "      #panel.background = element_blank() \n",
    "     )+\n",
    "  labs(title=\"N=1,250\", y = \"power (unadjusted)\", x = \"FAE size (ms)\")"
   ],
   "id": "cell-fig-power-1250"
  },
  {
   "cell_type": "markdown",
   "metadata": {},
   "source": [
    "## 4.1 Methods\n",
    "\n",
    "### 4.1.1 Preregistration\n",
    "\n",
    "We preregistered the results of the power analysis, the goals, the design and analysis plan for experiment 2 prior to data collection. The preregistration, detailing the experimental hypotheses, the desired sample size as well as the planned analyses is available online (<https://doi.org/10.17605/OSF.IO/3NFQP>).\n",
    "\n",
    "### 4.1.2 Participants\n",
    "\n",
    "Two thousand and six hundred participants (1,445 females; *mean age* = 42, *sd age* = 14) were recruited on Prolific (<https://www.prolific.com>) with the same criteria specified for experiment 1 (<a href=\"#sec-exp1-methods-participants\" class=\"quarto-xref\">Section 3.1.1</a>).\n",
    "\n",
    "### 4.1.3 Design\n",
    "\n",
    "The experimental design was identical to experiment 1.\n",
    "\n",
    "### 4.1.4 Materials\n",
    "\n",
    "One-hundred and four five-letter words, half of low frequency (between 7 and 24 in the SUBTLEX$_{US}$ frequency per million) and half of high frequency (between 57 and 2,961 in the SUBTLEX$_{US}$ frequency per million) were sampled from ELP ([Balota et al. 2007](#ref-balota2007)), but this time based on the SUBTLEX$_{US}$ frequency counts rather than HAL (which was used in experiment 1). <a href=\"#tbl-words_exp2\" class=\"quarto-xref\">Table 5</a> shows that although the SUBTLEX$_{US}$ frequency ranges of the two conditions were very far from one another (similarly to what was done in Experiment 1; <a href=\"#sec-exp1-methods-materials\" class=\"quarto-xref\">Section 3.1.3</a>), they still show some overlap when HAL frequencies are used. As mentioned before, this seems to be a general problem when jointly considering different frequency databases for a smaller set of stimuli that need to be manipulated and controlled in different ways (see also fn. and [Adelman et al. 2014](#ref-Adelman2014)). From each condition, fifty words were randomly chosen to be presented as targets and related primes (the *related* condition), and the remaining fifty were presented as unrelated primes (the *unrelated* condition). All words used were monomorphemic nouns, adjectives, or verbs, thus excluding particles, prepositions, and derived or inflected forms."
   ],
   "id": "4b858c8b-0937-4114-b163-461d156d0129"
  },
  {
   "cell_type": "code",
   "execution_count": null,
   "metadata": {},
   "outputs": [],
   "source": [
    "words_exp2 %>%\n",
    "  group_by(freq.bin) %>%\n",
    "  mutate(Freq_HAL.Pm = (Freq_HAL * 10^6)/(131 * 10^6)) %>%\n",
    "  summarise(N = n(),\n",
    "            minFreq= min(Freq_HAL.Pm, na.rm = T), maxFreq=max(Freq_HAL.Pm, na.rm = T),\n",
    "            meanFreq = mean(Freq_HAL.Pm, na.rm = T), sdFreq = sd(Freq_HAL.Pm, na.rm = T),\n",
    "            minSUBFreq= min(SUBTLWF, na.rm = T), maxSUBFreq=max(SUBTLWF, na.rm = T),\n",
    "            meanSUBFreq = mean(SUBTLWF, na.rm = T), sdSUBFreq = sd(SUBTLWF, na.rm = T),\n",
    "            #meanRT=mean(as.numeric(I_Mean_RT), na.rm = T), sdRT=sd(as.numeric(I_Mean_RT), na.rm = T),\n",
    "            #meanLength = mean(Length, na.rm = T), sdLength=sd(Length, na.rm = T)\n",
    "            ) %>% \n",
    "  mutate_if(is.numeric, ~round(.)) %>% \n",
    "  mutate_if(needs_mutated, ~round(.)) %>%\n",
    "  gt() %>%\n",
    "  cols_label(\n",
    "    freq.bin = \"frequency\", \n",
    "    minFreq = \"min\", maxFreq = \"max\", meanFreq = \"mean\", sdFreq = \"SD\", \n",
    "    minSUBFreq = \"min\", maxSUBFreq = \"max\", meanSUBFreq = \"mean\", sdSUBFreq = \"SD\") %>%\n",
    "  tab_spanner(\n",
    "    label=md(\"**HAL**\"),\n",
    "    columns=3:6\n",
    "  ) %>%\n",
    "  tab_spanner(\n",
    "    label=md(\"**SUBTLEX~US~**\"),\n",
    "    columns=7:10\n",
    "  )"
   ],
   "id": "06f81c22-fbaf-4b97-b1ad-c047e11c1e77"
  },
  {
   "cell_type": "markdown",
   "metadata": {},
   "source": [
    "One-hundred and four five-letter, phonotactically legal nonwords were randomly selected from the ELP database as well. Half of them were randomly selected to be presented as targets; the other half was instead used as unrelated nonword primes. None of the nonwords contained any existing English morpheme. Both the words and non-words used in the experiments are reported in the appendix below.\n",
    "\n",
    "### 4.1.5 Procedure\n",
    "\n",
    "Experiment 2 followed the same procedures as experiment 1 (see <a href=\"#sec-exp1-methods-proc\" class=\"quarto-xref\">Section 3.1.4</a>). The median time to finish the experiment was 5 minutes.\n",
    "\n",
    "## 4.2 Data analysis\n",
    "\n",
    "Analysis scripts and an abridged version of the data collected can be found online (<https://osf.io/vn3r2>), and consisted of 297,598 observations in total. We performed the same three steps of analysis described for experiment 1 (<a href=\"#sec-exp1-analysis\" class=\"quarto-xref\">Section 3.2</a>).\n",
    "\n",
    "### 4.2.1 Step 1: subject and item performance\n",
    "\n",
    "Item and subject error rates were calculated. The item error rate was never below above 14%, so no item was excluded from analysis. 19 subjects were removed because their error rate was above 30%. Thus, a total of 269,652 observations and 2,593 participants were included in further analyses.\n",
    "\n",
    "### 4.2.2 Step 2: prime durations\n",
    "\n",
    "Prime fluctuations were dealt with in the same way as in experiment 1 (<a href=\"#sec-exp1-analysis-primeTime\" class=\"quarto-xref\">Section 3.2.2</a>). The mean (mean = 32.32 ms, sd = 15) and the median (median = 33 ms) prime durations were closer to the intended value (33 ms). The same prime duration cut-off set for experiment 1 (i.e., any trial whose prime duration was out of the 25-60ms range) removed 13 % of the trials. No participant was excluded, for a total of 237,287 observations.\n",
    "\n",
    "### 4.2.3 Step 3: RT distribution\n",
    "\n",
    "After removing the incorrect responses, similarly to what we did for experiment 1 (<a href=\"#sec-exp1-analysis-RT\" class=\"quarto-xref\">Section 3.2.3</a>), 0.51% of the trials were excluded if the relative RT was below 200 ms and above 1800 ms. Finally, 249 subjects were removed because the number of trials within the same condition was less than 7 (i.e., about half of the total number of trials being presented within the same condition, i.e. 13). A total of 210,889 observations and 2,341 subjects were included in the statistical analysis below.\n",
    "\n",
    "## 4.3 Results\n",
    "\n",
    "For each frequency condition, priming effects were calculated in the same way as experiment 1. The 2x2 ANOVA (condition, 2 levels: *high* vs. *low*; primetype, 2 levels: *unrelated* vs. *repetition*) revealed significant main effects (condition: *F*(1, 2340)=1572, $p<.0001$; primetype: *F*(1, 2340)=1113, $p<.0001$), and interaction (*F*(1, 2340)=52.48, $p<.0001$). Planned comparisons confirmed statistically significant repetition priming effects for both word conditions (*MOP_HF* = 18, CI_95% = \\[16 20\\], t(2340) = 19.7, $p<.0001$; *MOP_LF* = 28, CI_95% = \\[26 30\\], *t*(2340) = 27.8, $p<.0001$), with the low-frequency word repetition priming effect being 10 ms larger than the high-frequency word repetition priming effect, and this FAE effect was statistically significant (*M_FAE* = 10, CI_95% = \\[7 13\\]), *t*(2340) = 7.24, $p<.0001$l; <a href=\"#tbl-exp2-statsResults\" class=\"quarto-xref\">Table 6</a>). Close to, yet different from zero negtive priming effects to the non-word condition were also significant (*MOP_NW* = -2, CI_95% = \\[-4 0\\], t(2340) = -2.33, $p<.0001$). As for the word error analysis, we found significant priming effects in the all conditions (high: *t*(2340)=9.95, *p*\\<.0001; low: *t*(2340)=16.9, *p*\\<.0001; non-word: *t*(2340)=-3.27, *p*=.001)."
   ],
   "id": "79d7b83a-2cb5-4631-bb28-bedac098af76"
  },
  {
   "cell_type": "raw",
   "metadata": {
    "raw_mimetype": "tex"
   },
   "source": [
    "\\blandscape"
   ],
   "id": "93119e55-91a3-4b6d-b258-f849c6b604f2"
  },
  {
   "cell_type": "code",
   "execution_count": null,
   "metadata": {
    "tbl-pos": "h"
   },
   "outputs": [],
   "source": [
    "exp2_summary.results %>%\n",
    "  relocate(c(\"sd_unrelated\", \"mean.error_unrelated\"), .before=gd.mean_related) %>%\n",
    "  gt() %>%\n",
    "  cols_label(\n",
    "    CI = \"95% CI\",\n",
    "    contains(\"mean\") ~ \"mean\",\n",
    "    contains(\"sd\") ~ \"SD\", \n",
    "    contains(\"error\") ~ \"Error (%)\"\n",
    "  ) %>%\n",
    "  tab_spanner(\n",
    "    label = \"unrelated RT\",\n",
    "    columns = c(2:4)\n",
    "  ) %>%\n",
    "  tab_spanner(\n",
    "    label = \"repetition RT\",\n",
    "    columns = c(5:7)\n",
    "  ) %>%\n",
    "  tab_spanner(\n",
    "    label = 'priming effects',\n",
    "    columns = c(9:12)\n",
    "  ) %>%\n",
    "  tab_spanner(\n",
    "    label = md(\"_t_-test\"),\n",
    "    columns = c(13:15)\n",
    "  ) %>%\n",
    "  cols_label(\n",
    "    sd = md(\"SD~p~\")\n",
    "  ) %>%\n",
    "  cols_label(\n",
    "    t = md(\"_t_\"),\n",
    "    p = md(\"_p_\"),\n",
    "  ) %>%\n",
    "   sub_missing(\n",
    "    missing_text = \" \"\n",
    "  )"
   ],
   "id": "b0d58a06-4f7c-4991-817a-6e6b1626d5a9"
  },
  {
   "cell_type": "raw",
   "metadata": {
    "raw_mimetype": "tex"
   },
   "source": [
    "\\elandscape"
   ],
   "id": "f1cdc216-3f91-4855-93da-4096b4a336f0"
  },
  {
   "cell_type": "markdown",
   "metadata": {},
   "source": [
    "## 4.4 Discussion\n",
    "\n",
    "Experiment 2 was designed to investigate whether Frequency Attenuation Effects (FAE) can be detected under masked priming conditions (with SOA \\< 60 ms, here 33 ms). We employed a robust sample size to ensure adequate statistical power for detecting small to medium effect sizes. Our results not only replicated Experiment 1 in revealing statistically significant main effects of repetition for high and low frequency words alike, but also detected a statistically significant interaction: the low-frequency condition yielded priming effects that were 10 ms larger than the high-frequency condition. This value is within the 95% CI from experiment 1, making it a successful replication of that result. The 95% CI of experiment 2 ranges from 7 ms to 13 ms. This is notable because it includes the effect size of experiment 1, but is also quite narrow (a halfwidth of 3 ms). This indicates that, for the frequency ranges investigated in experiment 2, the FAE is unlikely to be smaller than 7 ms or larger than 13 ms when the prime duration is 33 ms. In contrast, experiment 1 had a halfwidth almost three times as large (8 ms).\n",
    "\n",
    "The absence of a robust non-word masked priming response has been used as an additional piece of evidence supporting the view that the masked priming response is devoid of episodic influences (e.g., [Forster 1999](#ref-Forster1999)). The results of experiment 2 align with the previous evidence (including that of experiment 1) in showing at best very small inhibitory masked repetition priming for non-words, with very high precision: the 95% CI indicates the plausible range for the masked repetition priming effect for non-words to be between -4 and 0 ms when prime duration is 33 ms.\n",
    "\n",
    "# 5. General discussion\n",
    "\n",
    "The repetition priming response stands as a cornerstone in psycholinguistic investigations, offering insights into the mechanisms governing word recognition. An ongoing debate surrounds the interpretation of these effects, particularly concerning their source in the memory system. On the one hand, *interactive activation models* ([McClelland and Rumelhart 1981](#ref-McClellandRumelhart1981); [Grainger and Jacobs 1996](#ref-GraingerJacobs1996); [Coltheart et al. 2001](#ref-ColtheartEtal2001)) posit a lexical source for repetition priming effects, either in terms of temporarily raised resting activation levels for lexical nodes in unmasked priming, or as a head start in the retrieval process in masked priming. *Episodic* and *memory recruitment models* ([Jacoby and Dallas 1981](#ref-Jacoby1981); [Jacoby 1983](#ref-Jacoby1983); [Bodner and Masson 1997](#ref-BodnerMasson1997); [Masson and Bodner 2003](#ref-MassonBodner2003); [Bodner and Masson 2014](#ref-Bodner2014)) on the other hand, invoke a non-lexical source for the repetition effect, namely an episodic or episodic-like memory resource formed upon brief exposure to the prime word that can be recruited during the processing of the target item. Crucially, both models predict a single mechanism underlying masked and unmasked priming. Differential mechanisms between unmasked and masked repetition priming, however, are predicted by the *entry-opening model* ([Forster and Davis 1984](#ref-ForsterDavis1984)), which propose both lexical and episodic sources of priming effects.\n",
    "\n",
    "Thus, the existence of qualitatively distinct outcomes in masked and unmasked priming presented a direct challenge to some, but not all of these models. One such finding is the *Frequency Attenuation Effect* (FAE), in which higher frequency words exhibit smaller repetition effects compared to lower frequency words. The FAE has been described as observable only in unmasked priming since the work of Forster and Davis ([1984](#ref-ForsterDavis1984)), who demonstrated that when the prime word is presented very briefly (SOA $<$ 60 ms), it becomes masked by the target word, and this is hypothesized to prevent the conscious encoding of the prime. Under such conditions, the FAE purportedly disappears. Forster and Davis ([1984](#ref-ForsterDavis1984)) argued that this potentially shows that the FAE is subserved by a different type of memory source (perhaps episodic) than the masked repetition priming response. This conclusion, however, is the source of ongoing debates (see <a href=\"#tbl-litReview\" class=\"quarto-xref\">Table 1</a> for review of past findings), which the two experiments reported here were meant to address.\n",
    "\n",
    "Within this research landscape, our experiments targeting the frequency sensitivity of the repetition effect under masked conditions contribute methodological and theoretical insights. Methodologically, our results help establish the viability and reliability of online data collection for the masked priming paradigm. Building on the work of Angele et al. ([2023](#ref-Angele2023)), Cayado, Wray, and Stockall ([2023](#ref-Cayado2023)) and Petrosino, Sprouse, and Almeida ([2023](#ref-PetrosinoEtal2023)), we addressed pitfalls in implementing and analyzing masked priming data collected online, and by doing so offered a solution to the longstanding problem of low statistical power and lack of estimation precision when it comes to investigating phenomena with effect sizes that are harder to detect statistically, like interactions in factorial designs. However, this newfound opportunity necessitates careful data scrutiny.\n",
    "\n",
    "In the same vein, the FAEs observed in experiments 1 and 2 have important theoretical ramifications. The historical belief in the non-observability of FAE in masked priming primarily arose from a lack of statistically significant results, possibly rooted in outdated frequency corpora or inadequate statistical power. Our design addressed these concerns, yielding statistically significant FAE results aligning with the literature’s average effect (see <a href=\"#tbl-litReview\" class=\"quarto-xref\">Table 1</a>; the 95% CI implies that the FAE is unlikely to be larger than 13 ms with a 33 ms prime duration). These results challenge the supposed qualitative distinction between masked and unmasked repetition priming cleaved by the FAE, complicating the rejection of single-mechanism theories, and suggesting that *interactive-activation models* and *memory recruitment models* may yet offer unifying explanations for masked and unmasked priming.\n",
    "\n",
    "Similarly, our results also challenge the entry-opening model’s prediction of the absence of FAE in masked priming. One potential way of dealing with this in the *entry opening model* is to claim that masked priming severely reduces, but does not entirely eliminate, the use of sources other than lexical memory (see [Forster 1998](#ref-Forster1998); [Forster, Mohan, and Hector 2003](#ref-ForsterEtal2003), for proposals along this line). Alternatively, within the entry-opening model, the results of experiment 2 may be explained by a frequency-based mechanism occurring in the fast search stage. Something along these lines was actually already hinted at by Forster and Davis ([1984](#ref-ForsterDavis1984)) themselves, and consisted of a procedure whereby the entry of a prime word is promoted to the top position of the search list. As a consequence, low-frequency words (which are fairly low in the search list) will benefit from such promotion procedure more than high-frequency words (which are instead already in higher positions), thus ultimately giving rise to the FAE.\n",
    "\n",
    "While our findings present a compelling case for the presence of FAE in masked priming that is seemingly parallel to the unmasked case, questions about potential mechanistic differences persist. The larger sample size needed for masked FAEs raises intriguing considerations about the influence of memory sources and warrants further investigation. For example, there is independent evidence for different mechanisms in masked and unmasked repetition priming from RT distributional analyses (cf. [Gomez, Perea, and Ratcliff 2013](#ref-Gomez2013)) that suggests that repetition priming under masked conditions affect primarily the encoding stage of the stimulus. Given that frequency is often associated with facilitation of encoding, our results could help support this view. Additionally, the trivially small inhibitory effect sizes of non-word masked repetition priming in experiments 1 and 2 align with the trend (overwhelmingly shown in the literature) that facilitatory effect may be exclusive to unmasked designs ([Forster 1998](#ref-Forster1998); [Forster, Mohan, and Hector 2003](#ref-ForsterEtal2003); but see [Masson and Bodner 2003](#ref-MassonBodner2003)), and suggests avenues for future exploration on large-scale.\n",
    "\n",
    "Finally, the finding that the FAE occurs under masked priming conditions may impact our understanding of masked morphological priming. In this literature, there is a unresolved question about the ability of affixes to elicit masked morphological priming results (for a review, [Amenta and Crepaldi 2012](#ref-AmentaCrepaldi2012)). In English, the evidence seems to indicate that only stems, but not affixes, have the ability to prime entries across the lexicon. This finding can and has been used to support models in which affixes are initially stripped before stems are accessed in the lexicon ([Taft and Forster 1975](#ref-TaftForster1975); [Forster and Azuma 2000](#ref-ForsterAzuma2000); [Stockall and Marantz 2006](#ref-StockallMarantz2006)). However, stems and affixes do also have a large frequency imbalance, with most affixes being substantially more frequent that most stems. The observation of FAE under masked priming can provide an alternative reason for why masked stem morphological priming is well attested but masked affix morphological priming is not: the latter could be due to a ceiling frequency attenuation effect. This is an intriguing possibility that must be left for future work to explore.\n",
    "\n",
    "In summary, our study successfully replicated and expanded upon the work of Angele et al. ([2023](#ref-Angele2023)), Cayado, Wray, and Stockall ([2023](#ref-Cayado2023)) and Petrosino, Sprouse, and Almeida ([2023](#ref-PetrosinoEtal2023)), confirming the viability of observing repetition priming effects in masked priming experiments conducted online with a brief Stimulus Onset Asynchrony (SOA) of 33 ms. Notably, we addressed a lingering question in the literature by establishing the presence of the Frequency Attenuation Effect (FAE) under masked conditions. The use of large online samples proved instrumental in overcoming the longstanding challenge of insufficient statistical power to detect interactions in factorial designs, which we believe had impeded previous investigations into detecting the FAE in masked priming.\n",
    "\n",
    "These results not only contribute to our understanding of masked priming but also open up intriguing avenues for further research. The ability to harness extensive online samples provides a valuable opportunity to explore and illuminate unresolved issues across various domains where masked priming is a crucial research tool, underscoring the potential for online experimentation to advance our knowledge and resolve long-standing questions in the field.\n",
    "\n",
    "# References\n",
    "\n",
    "Adelman, James S, Rebecca L Johnson, Samantha F McCormick, Meredith McKague, Sachiko Kinoshita, Jeffrey S Bowers, Jason R Perry, et al. 2014. “A Behavioral Database for Masked Form Priming.” *Behavior Research Methods* 46. Springer: 1052–1067.\n",
    "\n",
    "Amenta, Simona, and Davide Crepaldi. 2012. “Morphological Processing as We Know It: An Analytical Review of Morphological Effects in Visual Word Identification.” *Frontiers in Psychology* 3: 232.\n",
    "\n",
    "Angele, Bernhard, Ana Baciero, Pablo Gómez, and Manuel Perea. 2023. “Does Online Masked Priming Pass the Test? The Effects of Prime Exposure Duration on Masked Identity Priming.” *Behavior Research Methods* 55 (1). Springer: 151–167. doi:[10.3758/s13428-021-01742-y](https://doi.org/10.3758/s13428-021-01742-y).\n",
    "\n",
    "Anwyl-Irvine, Alexander L, Jessica Massonnié, Adam Flitton, Natasha Kirkham, and Jo K Evershed. 2020. “Gorilla in Our Midst: An Online Behavioral Experiment Builder.” *Behavior Research Methods* 52. Springer: 388–407.\n",
    "\n",
    "Balota, David A., Michael J. Cortese, Susan D. Sergent-Marshall, Daniel H. Spieler, and Melvin J. Yap. 2004. “Visual Word Recognition of Single-Syllable Words.” *Journal of Experimental Psychology: General* 133 (2). American Psychological Association: 283.\n",
    "\n",
    "Balota, David A., Melvin J. Yap, Keith A. Hutchison, Michael J. Cortese, Brett Kessler, Bjorn Loftis, James H. Neely, Douglas L. Nelson, Greg B. Simpson, and Rebecca Treiman. 2007. “The English Lexicon Project.” *Behavior Research Methods* 39 (3): 445–459. doi:[10.3758/bf03193014](https://doi.org/10.3758/bf03193014).\n",
    "\n",
    "Bodner, Glen E., and Michael E. J Masson. 2014. “Memory Recruitment: A Backward Idea about Masked Priming.” In *Psychology of Learning and Motivation*, 61:179–213. Elsevier.\n",
    "\n",
    "Bodner, Glen E., and Michael E. J. Masson. 1997. “Masked Repetition Priming of Words and Nonwords: Evidence for a Nonlexical Basis for Priming.” *Journal of Memory and Language* 37 (2): 268–293. doi:[10.1006/jmla.1996.2507](https://doi.org/10.1006/jmla.1996.2507).\n",
    "\n",
    "Bodner, Glen E., and Michael E. J. Masson. 2001. “Prime Validity Affects Masked Repetition Priming: Evidence for an Episodic Resource Account of Priming.” *Journal of Memory and Language* 45 (4): 616–647. doi:[10.1006/jmla.2001.2791](https://doi.org/10.1006/jmla.2001.2791).\n",
    "\n",
    "Brysbaert, Marc, and Michael J Cortese. 2011. “Do the Effects of Subjective Frequency and Age of Acquisition Survive Better Word Frequency Norms?” *Quarterly Journal of Experimental Psychology* 64 (3). SAGE Publications Sage UK: London, England: 545–559.\n",
    "\n",
    "Brysbaert, Marc, Paweł Mandera, and Emmanuel Keuleers. 2018. “The Word Frequency Effect in Word Processing: An Updated Review.” *Current Directions in Psychological Science* 27 (1). Sage Publications Sage CA: Los Angeles, CA: 45–50.\n",
    "\n",
    "Brysbaert, Marc, and Boris New. 2009. “Moving Beyond Kučera and Francis: A Critical Evaluation of Current Word Frequency Norms and the Introduction of a New and Improved Word Frequency Measure for American English.” *Behavior Research Methods* 41 (4): 977–990. doi:[10.3758/brm.41.4.977](https://doi.org/10.3758/brm.41.4.977).\n",
    "\n",
    "Brysbaert, Marc, and Michaël Stevens. 2018. “Power Analysis and Effect Size in Mixed Effects Models: A Tutorial.” *Journal of Cognition* 1 (1). doi:[10.5334/joc.10](https://doi.org/10.5334/joc.10).\n",
    "\n",
    "Burgess, Curt, and Kay Livesay. 1998. “The Effect of Corpus Size in Predicting Reaction Time in a Basic Word Recognition Task: Moving on from Kučera and Francis.” *Behavior Research Methods, Instruments, & Computers* 30 (2). Springer: 272–277.\n",
    "\n",
    "Button, Katherine S, John PA Ioannidis, Claire Mokrysz, Brian A Nosek, Jonathan Flint, Emma SJ Robinson, and Marcus R Munafò. 2013. “Power Failure: Why Small Sample Size Undermines the Reliability of Neuroscience.” *Nature Reviews Neuroscience* 14 (5). Nature Publishing Group UK London: 365–376.\n",
    "\n",
    "Cayado, Dave Kenneth Tayao, Samantha Wray, and Linnaea Stockall. 2023. “Does Linear Position Matter for Morphological Processing? Evidence from a Tagalog Masked Priming Experiment.” *Language, Cognition and Neuroscience*. Taylor & Francis, 1–16.\n",
    "\n",
    "Cohen, Jacob. 1992. “A Power Primer.” *Psychological Bulletin* 112 (1): 155–159. doi:[10.1037/0033-2909.112.1.155](https://doi.org/10.1037/0033-2909.112.1.155).\n",
    "\n",
    "Coltheart, Max, Kathleen Rastle, Conrad Perry, Robyn Langdon, and Johannes Ziegler. 2001. “DRC: A Dual Route Cascaded Model of Visual Word Recognition and Reading Aloud.” *Psychological Review* 108 (1): 204–256.\n",
    "\n",
    "de Leeuw, Joshua R. 2014. “jsPsych: A JavaScript Library for Creating Behavioral Experiments in a Web Browser.” *Behavior Research Methods* 47 (1): 1–12. doi:[10.3758/s13428-014-0458-y](https://doi.org/10.3758/s13428-014-0458-y).\n",
    "\n",
    "Evett, Lindsay J., and Glyn W. Humphreys. 1981. “The Use of Abstract Graphemic Information in Lexical Access.” *The Quarterly Journal of Experimental Psychology* 33 (4). Taylor & Francis: 325–350.\n",
    "\n",
    "Finger, Holger, Caspar Goeke, Dorena Diekamp, Kai Standvoß, and Peter König. 2017. “LabVanced: A Unified JavaScript Framework for Online Studies.” In *2017 International Conference on Computational Social Science*. Cologne, Germany.\n",
    "\n",
    "Forster, Kenneth I. 1998. “The Pros and Cons of Masked Priming.” *Journal of Psycholinguistic Research* 27 (2): 203–233.\n",
    "\n",
    "Forster, Kenneth I. 1999. “Microgenesis of Priming Effects in Lexical Access.” *Brain and Language* 68: 5–15.\n",
    "\n",
    "Forster, Kenneth I., and Tamiko Azuma. 2000. “Masked Priming for Prefixed Words with Bound Stems: Does Submit Prime Permit?” *Language and Cognitive Processes* 15 (4-5). Taylor & Francis Group: 539–561.\n",
    "\n",
    "Forster, Kenneth I., and Chris Davis. 1984. “Repetition Priming and Frequency Attenuation in Lexical Access.” *Journal of Experimental Psychology: Learning, Memory, and Cognition* 10 (4): 680.\n",
    "\n",
    "Forster, Kenneth I., and Christopher Davis. 1991. “The Density Constraint on Form-Priming in the Naming Task: Interference Effects from a Masked Prime.” *Journal of Memory and Language* 30 (1): 1–25. doi:[10.1016/0749-596x(91)90008-8](https://doi.org/10.1016/0749-596x(91)90008-8).\n",
    "\n",
    "Forster, Kenneth I., C. Davis, C. Schoknecht, and R. Carter. 1987. “Masked Priming with Graphemically Related Forms: Repetition or Partial Activation?” *The Quarterly Journal of Experimental Psychology Section A* 39 (2): 211–251. doi:[10.1080/14640748708401785](https://doi.org/10.1080/14640748708401785).\n",
    "\n",
    "Forster, Kenneth I., Kathleen Mohan, and Jo Hector. 2003. “The Mechanics of Masked Priming.” In *Masked Priming: The State of the Art*, edited by Sachiko Kinoshita and Stephen J. Lupker, 3–37. New York, NY/Hove, UK: Psychology Press.\n",
    "\n",
    "Gelman, Andrew, and John Carlin. 2014. “Beyond Power Calculations.” *Perspectives on Psychological Science* 9 (6): 641–651. doi:[10.1177/1745691614551642](https://doi.org/10.1177/1745691614551642).\n",
    "\n",
    "Gimenes, Manuel, and Boris New. 2016. “Worldlex: Twitter and Blog Word Frequencies for 66 Languages.” *Behavior Research Methods* 48. Springer: 963–972.\n",
    "\n",
    "Gomez, Pablo, Manuel Perea, and Roger Ratcliff. 2013. “A Diffusion Model Account of Masked Versus Unmasked Priming: Are They Qualitatively Different?” *Journal of Experimental Psychology: Human Perception and Performance* 39 (6). American Psychological Association: 1731.\n",
    "\n",
    "Grainger, Jonathan, and Arthur M. Jacobs. 1996. “Orthographic Processing in Visual Word Recognition: A Multiple Read-Out Model.” *Psychological Review* 103 (3). American Psychological Association: 518.\n",
    "\n",
    "Herdağdelen, Amaç, and Marco Marelli. 2017. “Social Media and Language Processing: How Facebook and Twitter Provide the Best Frequency Estimates for Studying Word Recognition.” *Cognitive Science* 41 (4). Wiley Online Library: 976–995.\n",
    "\n",
    "Jacoby, Larry L. 1983. “Remembering the Data: Analyzing Interactive Processes in Reading.” *Journal of Verbal Learning and Verbal Behavior* 22 (5). Elsevier: 485–508.\n",
    "\n",
    "Jacoby, Larry L, and Mark Dallas. 1981. “On the Relationship Between Autobiographical Memory and Perceptual Learning.” *Journal of Experimental Psychology: General* 110 (3). American Psychological Association: 306.\n",
    "\n",
    "Kinoshita, Sachiko. 2006. “Additive and Interactive Effects of Word Frequency and Masked Repetition in the Lexical Decision Task.” *Psychonomic Bulletin & Review* 13 (4): 668–673. doi:[10.3758/bf03193979](https://doi.org/10.3758/bf03193979).\n",
    "\n",
    "Kučera, J., and W. N. Francis. 1967. *Computational Analysis of Present Day American English*. Providence, RI: Brown University Press.\n",
    "\n",
    "Lukács, Gáspár, and Andreas Gartus. 2023. “Precise Display Time Measurement in JavaScript for Web-Based Experiments.” *Behavior Research Methods* 55 (3). Springer: 1079–1093. doi:[10.3758/s13428-022-01835-2](https://doi.org/10.3758/s13428-022-01835-2).\n",
    "\n",
    "Lund, Kevin, and Curt Burgess. 1996. “Producing High-Dimensional Semantic Spaces from Lexical Co-Occurrence.” *Behavior Research Methods, Instruments, & Computers* 28 (2): 203–208.\n",
    "\n",
    "Masson, Michael E. J., and Glen E. Bodner. 2003. “A Retrospective View of Masked Priming: Toward a Unified Account of Masked and Long-Term Repetition Priming.” *Masked Priming: The State of the Art*. Citeseer, 57–94.\n",
    "\n",
    "McClelland, James L., and David E. Rumelhart. 1981. “An Interactive Activation Model of Context Effects in Letter Perception: Part i. An Account of Basic Findings.” *Psychological Review* 88 (5): 375–407.\n",
    "\n",
    "Nievas, Francisco. 2010. “The Frequency Attenuation Effect in Identity and Associative Priming.” *The Spanish Journal of Psychology* 13 (1): 30–62. doi:[10.1017/s1138741600003668](https://doi.org/10.1017/s1138741600003668).\n",
    "\n",
    "Norris, Dennis, and Sachiko Kinoshita. 2008. “Perception as Evidence Accumulation and Bayesian Inference: Insights from Masked Priming.” *Journal of Experimental Psychology: General* 137 (3): 434–455. doi:[10.1037/a0012799](https://doi.org/10.1037/a0012799).\n",
    "\n",
    "Peirce, Jonathan, Jeremy R. Gray, Sol Simpson, Michael MacAskill, Richard Höchenberger, Hiroyuki Sogo, Erik Kastman, and Jonas Kristoffer Lindeløv. 2019. “PsychoPy2: Experiments in Behavior Made Easy.” *Behavior Research Methods* 51 (1): 195–203.\n",
    "\n",
    "Petrosino, Roberto. 2024. *The Linguistic Sophistication of Morphological Decomposition: More Than Islands of Regularity*. Newcastle, UK: Cambridge Scholar Publishing.\n",
    "\n",
    "Petrosino, Roberto, Jon Sprouse, and Diogo Almeida. 2023. “Asymmetries in the Stem and Suffix Masked Priming Response in a Large-Scale Online Study.” *Quaderni Di Linguistica e Studi Orientali*, no. 49: 177–194. doi:[10.13128/QUL-SO-2421-7220-15154](https://doi.org/10.13128/QUL-SO-2421-7220-15154).\n",
    "\n",
    "Potvin, Patrick J., and Robert W. Schutz. 2000. “Statistical Power for the Two-Factor Repeated Measures ANOVA.” *Behavior Research Methods, Instruments, & Computers* 32 (2): 347–356. doi:[10.3758/bf03207805](https://doi.org/10.3758/bf03207805).\n",
    "\n",
    "Rajaram, Suparna, and James H Neely. 1992. “Dissociative Masked Repetition Priming and Word Frequency Effects in Lexical Decision and Episodic Recognition Tasks.” *Journal of Memory and Language* 31 (2): 152–182. doi:[10.1016/0749-596x(92)90009-m](https://doi.org/10.1016/0749-596x(92)90009-m).\n",
    "\n",
    "Scarborough, Don L., Charles Cortese, and Hollis S. Scarborough. 1977. “Frequency and Repetition Effects in Lexical Memory.” *Journal of Experimental Psychology: Human Perception and Performance* 3 (1): 1–17. doi:[10.1037/0096-1523.3.1.1](https://doi.org/10.1037/0096-1523.3.1.1).\n",
    "\n",
    "Segui, Juan, and Jonathan Grainger. 1990. “Priming Word Recognition with Orthographic Neighbors: Effects of Relative Prime-Target Frequency.” *Journal of Experimental Psychology: Human Perception and Performance* 16 (1): 65–76. doi:[10.1037/0096-1523.16.1.65](https://doi.org/10.1037/0096-1523.16.1.65).\n",
    "\n",
    "Sereno, Joan A. 1991. “Graphemic, Associative, and Syntactic Priming Effects at a Brief Stimulus Onset Asynchrony in Lexical Decision and Naming.” *Journal of Experimental Psychology: Learning, Memory, and Cognition* 17 (3): 459–477. doi:[10.1037/0278-7393.17.3.459](https://doi.org/10.1037/0278-7393.17.3.459).\n",
    "\n",
    "Stockall, Linnaea, and Alec Marantz. 2006. “A Single Route, Full Decomposition Model of Morphological Complexity: MEG Evidence.” *The Mental Lexicon* 1 (1): 85–123. doi:<https://doi.org/10.1075/ml.1.1.07sto>.\n",
    "\n",
    "Taft, Marcus, and Kenneth I. Forster. 1975. “Lexical Storage and Retrieval of Prefixed Words.” *Journal of Verbal Learning and Verbal Behavior* 14 (6): 638–647.\n",
    "\n",
    "W3 Counter. 2023. “Browser & Platform Market Share - November 2023.” <https://www.w3counter.com/globalstats.php?year=2023&month=11>.\n",
    "\n",
    "Yap, Melvin J., and David A. Balota. 2009. “Visual Word Recognition of Multisyllabic Words.” *Journal of Memory and Language* 60 (4). Elsevier: 502–529.\n",
    "\n",
    "Zevin, Jason D, and Mark S Seidenberg. 2002. “Age of Acquisition Effects in Word Reading and Other Tasks.” *Journal of Memory and Language* 47 (1). Elsevier: 1–29.\n",
    "\n",
    "Zimmerman, Robert, and Pablo Gomez. 2012. “Drawing Attention to Primes Increases Inhibitory Word Priming Effects.” *The Mental Lexicon* 7 (2). John Benjamins: 119–146."
   ],
   "id": "21741843-9e3e-4c9a-a3f6-3bff163d2351"
  },
  {
   "cell_type": "markdown",
   "metadata": {},
   "source": [
    "# Wordlists\n",
    "\n",
    "### Experiment 1"
   ],
   "id": "753bfd5c-65dd-4ab3-80e4-3cdf5894421e"
  },
  {
   "cell_type": "code",
   "execution_count": null,
   "metadata": {},
   "outputs": [
    {
     "output_type": "stream",
     "name": "stderr",
     "text": [
      "Rows: 250 Columns: 4\n",
      "── Column specification ────────────────────────────────────────────────────────\n",
      "Delimiter: \",\"\n",
      "chr (4): related, unrelated, word, condition\n",
      "\n",
      "ℹ Use `spec()` to retrieve the full column specification for this data.\n",
      "ℹ Specify the column types or set `show_col_types = FALSE` to quiet this message."
     ]
    },
    {
     "output_type": "stream",
     "name": "stderr",
     "text": [
      "`summarise()` has grouped output by 'condition_rec', 'primetype_rec',\n",
      "'target_rec'. You can override using the `.groups` argument."
     ]
    },
    {
     "output_type": "display_data",
     "metadata": {},
     "data": {
      "text/html": [
       "\n",
       "</div>"
      ]
     }
    }
   ],
   "source": [
    "exp1_wordlist <- read_csv(\"materials/experiment1/frequency-effects_experiment1_word-lists_final.csv\") %>% select(-related)"
   ],
   "id": "afd0c7ec-2828-4cdf-8d28-a6674b9c7bf7"
  },
  {
   "cell_type": "markdown",
   "metadata": {},
   "source": [
    "### Experiment 2"
   ],
   "id": "905413f6-02b4-4da9-8d41-b73a92f52422"
  },
  {
   "cell_type": "code",
   "execution_count": null,
   "metadata": {},
   "outputs": [
    {
     "output_type": "stream",
     "name": "stderr",
     "text": [
      "Rows: 104 Columns: 4\n",
      "── Column specification ────────────────────────────────────────────────────────\n",
      "Delimiter: \",\"\n",
      "chr (4): related, unrelated, word, condition\n",
      "\n",
      "ℹ Use `spec()` to retrieve the full column specification for this data.\n",
      "ℹ Specify the column types or set `show_col_types = FALSE` to quiet this message."
     ]
    },
    {
     "output_type": "stream",
     "name": "stderr",
     "text": [
      "`summarise()` has grouped output by 'condition_rec', 'primetype_rec',\n",
      "'target_rec'. You can override using the `.groups` argument."
     ]
    },
    {
     "output_type": "display_data",
     "metadata": {},
     "data": {
      "text/html": [
       "\n",
       "</div>"
      ]
     }
    }
   ],
   "source": [
    "exp2_wordlist <- read_csv(\"materials/experiment2/frequency-effects_experiment2_word-lists_final.csv\")"
   ],
   "id": "cdd74244-58a7-4941-9439-9d0af31f9667"
  }
 ],
 "nbformat": 4,
 "nbformat_minor": 5,
 "metadata": {}
}
